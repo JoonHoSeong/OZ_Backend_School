{
 "cells": [
  {
   "cell_type": "markdown",
   "metadata": {},
   "source": [
    "### 1. 사용자 추가하기\n",
    "\n",
    "문제 : 사용자 3명을 추가해주세요"
   ]
  },
  {
   "cell_type": "markdown",
   "metadata": {},
   "source": [
    "- `username` : 박지수\n",
    "    - `email` : jisoo_2@naver.com\n",
    "    - `phone_number` : 010-2354-2234\n",
    "    - `password`(’pw123’)"
   ]
  },
  {
   "cell_type": "code",
   "execution_count": null,
   "metadata": {},
   "outputs": [],
   "source": [
    ">>> new_user = User(username='박지수', email='jisoo_2@naver.com', phone_number = '010-2354-2234')\n",
    ">>> new_user.set_password('pw123')\n",
    ">>> new_user.save()"
   ]
  },
  {
   "cell_type": "markdown",
   "metadata": {},
   "source": [
    "- username : 강철\n",
    "    - `email` : ggch@naver.com\n",
    "    - `phone_number` : 010-1114-6443\n",
    "    - `password`(’pwpw’)"
   ]
  },
  {
   "cell_type": "code",
   "execution_count": null,
   "metadata": {},
   "outputs": [],
   "source": [
    ">>> new_user.save()\n",
    ">>> new_user = User(username='강철', email='ggch@naver.com', phone_number = '010-1114-6443')\n",
    ">>> new_user.set_password('pwpw')\n",
    ">>> new_user.save()"
   ]
  },
  {
   "cell_type": "markdown",
   "metadata": {},
   "source": [
    "- username : 민현지\n",
    "    - `email` : master_g@gmail.com\n",
    "    - `phone_number` : 010-8495-3456"
   ]
  },
  {
   "cell_type": "code",
   "execution_count": null,
   "metadata": {},
   "outputs": [],
   "source": [
    ">>> new_user = User(username='민현지', email='master_g@naver.com', phone_number = '010-8495-3456')\n",
    ">>> new_user.save()"
   ]
  },
  {
   "cell_type": "markdown",
   "metadata": {},
   "source": [
    "### 2.특정 사용자 조회하기"
   ]
  },
  {
   "cell_type": "markdown",
   "metadata": {},
   "source": [
    "문제: '박지수' 사용자의 전체 정보를 조회하세요."
   ]
  },
  {
   "cell_type": "code",
   "execution_count": null,
   "metadata": {},
   "outputs": [],
   "source": [
    ">>> user = User.objects.get(username='박지수')\n",
    ">>> user\n",
    "<User: 박지수>\n",
    ">>> user.email\n",
    "'jisoo_2@naver.com'\n",
    ">>> user.phone_number\n",
    "'010-2354-2234'"
   ]
  },
  {
   "cell_type": "markdown",
   "metadata": {},
   "source": [
    "문제 : ‘강철’ 사용자의 이메일 주소를 'steel_kang@naver.com'으로 변경해주세요"
   ]
  },
  {
   "cell_type": "code",
   "execution_count": null,
   "metadata": {},
   "outputs": [],
   "source": [
    ">>> user = User.objects.get(username='강철')\n",
    ">>> user.email = 'steel_kang@naver.com'\n",
    ">>> user.save()\n",
    ">>> user.email \n",
    "'steel_kang@naver.com'"
   ]
  },
  {
   "cell_type": "markdown",
   "metadata": {},
   "source": [
    "문제 : '민현지' 사용자의 비밀번호를 'newpassword'로 변경해주세요"
   ]
  },
  {
   "cell_type": "code",
   "execution_count": null,
   "metadata": {},
   "outputs": [],
   "source": [
    ">>> user = User.objects.get(username='민현지')\n",
    ">>> user.password\n",
    "''\n",
    ">>> user.set_password('newpassword')\n",
    ">>> user.password\n",
    "'pbkdf2_sha256$720000$il2xQrWR7gK9CxugpVAYfU$klq3AjldXBi/yBl3OYsDW5QXxAQ+UVGBxobszHXZQQk='\n",
    ">>> user.save()"
   ]
  },
  {
   "cell_type": "markdown",
   "metadata": {},
   "source": [
    "문제 : 모든 사용자의 이름과 이메일 주소 조회 후 출력해주세요"
   ]
  },
  {
   "cell_type": "code",
   "execution_count": null,
   "metadata": {},
   "outputs": [],
   "source": [
    ">>> users = User.objects.all()\n",
    ">>> for u in users : print(u.email, u.username)\n",
    "... \n",
    "test@test.com jh\n",
    "jisoo_2@naver.com 박지수\n",
    "steel_kang@naver.com 강철\n",
    "master_g@naver.com 민현지"
   ]
  },
  {
   "cell_type": "markdown",
   "metadata": {},
   "source": [
    "문제 : 전화번호가 등록된 사용자만 조회 후 출력해주세요"
   ]
  },
  {
   "cell_type": "code",
   "execution_count": null,
   "metadata": {},
   "outputs": [],
   "source": [
    ">>> user = User.objects.exclude(phone_number__isnull=True).exclude(phone_number='')\n",
    ">>> for u in user : print(u.username)\n",
    "... \n",
    "박지수\n",
    "강철\n",
    "민현지\n",
    ">>> "
   ]
  },
  {
   "cell_type": "markdown",
   "metadata": {},
   "source": [
    "문제 : 특정 이메일 도메인(@gmail.com)을 가진 사용자를 조회 후 출력해주세요"
   ]
  },
  {
   "cell_type": "code",
   "execution_count": null,
   "metadata": {},
   "outputs": [],
   "source": [
    ">>> users  = User.objects.filter(email__endswith=\"@gmail.com\")\n",
    ">>> users\n",
    "<QuerySet []>"
   ]
  },
  {
   "cell_type": "markdown",
   "metadata": {},
   "source": [
    "문제 : 사용자 이름에 '지'가 포함된 사용자를 조회 후 출력해주세요"
   ]
  },
  {
   "cell_type": "code",
   "execution_count": null,
   "metadata": {},
   "outputs": [],
   "source": [
    ">>> users = User.objects.filter(username__contains='지')\n",
    ">>> users\n",
    "<QuerySet [<User: 박지수>, <User: 민현지>]>\n",
    ">>> for u in users : print(u.username)\n",
    "... \n",
    "박지수\n",
    "민현지\n",
    ">>> "
   ]
  },
  {
   "cell_type": "markdown",
   "metadata": {},
   "source": [
    "문제 : 최근 등록된 사용자 2명을 조회 후 출력해주세요"
   ]
  },
  {
   "cell_type": "code",
   "execution_count": null,
   "metadata": {},
   "outputs": [],
   "source": [
    ">>> user = User.objects.all().order_by('-date_joined')[:2]\n",
    ">>> for u in users : print(u.username, u.date_joined)\n",
    "... \n",
    "박지수 2024-05-30 18:03:33.803089+00:00\n",
    "민현지 2024-05-30 18:07:08.608766+00:00\n",
    ">>> "
   ]
  },
  {
   "cell_type": "markdown",
   "metadata": {},
   "source": [
    "### 3.특정 사용자 조회하기\n",
    "\n",
    "1. 관계 설정된 모델에 데이터 추가하기"
   ]
  },
  {
   "cell_type": "markdown",
   "metadata": {},
   "source": [
    "- 박지수 사용자의 address 정보를 추가해주세요\n",
    "    - `user` : jisoo\n",
    "    - `street` : 23-2\n",
    "    - `city` : 서울시\n",
    "    - `state` : 영등포구\n",
    "    - `postal_code` : 04231\n",
    "    - `country` : 대한민국"
   ]
  },
  {
   "cell_type": "code",
   "execution_count": null,
   "metadata": {},
   "outputs": [],
   "source": [
    ">>> user = User.objects.get(username='박지수')\n",
    ">>> new_address = Addresses(user=user, street='23-2',city='서울시',state='영등포구',postal_code='04231', country='대한민국')\n",
    ">>> new_address.save()"
   ]
  },
  {
   "cell_type": "markdown",
   "metadata": {},
   "source": [
    "- 민현지 사용자의 address 정보를 추가해주세요\n",
    "    - `user` : hyunji\n",
    "    - `street` : 43-1\n",
    "    - `city` : 부산특별시\n",
    "    - `state` : 사직동\n",
    "    - `postal_code` : 61234\n",
    "    - `country` : 대한민국"
   ]
  },
  {
   "cell_type": "code",
   "execution_count": null,
   "metadata": {},
   "outputs": [],
   "source": [
    ">>> user = User.objects.get(username='민현지')\n",
    ">>> new_address = Addresses(user=user, street='43-1',city='부산특별시',state='사직동',postal_code='61234', country='대한민국')\n",
    ">>> new_address.save()"
   ]
  },
  {
   "cell_type": "markdown",
   "metadata": {},
   "source": [
    "- 강철 사용자의 address 정보를 추가해주세요\n",
    "    - `user` : kang_chul\n",
    "    - `street` : 99-2\n",
    "    - `city` : 서울\n",
    "    - `state` : 강남구\n",
    "    - `postal_code` : 68975\n",
    "    - `country` : 대한민국"
   ]
  },
  {
   "cell_type": "code",
   "execution_count": null,
   "metadata": {},
   "outputs": [],
   "source": [
    ">>> user = User.objects.get(username='강철')\n",
    ">>> new_address = Addresses(user=user, street='99-2',city='서울',state='강남구',postal_code='68975', country='대한민국')\n",
    ">>> new_address.save()"
   ]
  },
  {
   "cell_type": "markdown",
   "metadata": {},
   "source": [
    "### 4. 관계 설정된 모델에 데이터 조회하기\n",
    "\n",
    "'박지수' 사용자에 연결된 모든 주소 정보를 조회 후 출력해주세요"
   ]
  },
  {
   "cell_type": "code",
   "execution_count": null,
   "metadata": {},
   "outputs": [],
   "source": [
    ">>> user = User.objects.get(username='박지수')\n",
    ">>> user_add = Address.object.filter(user=user)\n",
    ">>> for a in user_add : print(a)\n",
    "... \n",
    "23-2, 서울시, 영등포구, 04231,대한민국\n",
    ">>> "
   ]
  },
  {
   "cell_type": "markdown",
   "metadata": {},
   "source": [
    "### 5.사용자 정보 삭제하기\n",
    "\n",
    "‘강철’ 사용자의 장보를 삭제해주세요"
   ]
  },
  {
   "cell_type": "markdown",
   "metadata": {},
   "source": [
    ">>> user = User.objects.get(username='강철')\n",
    ">>> user.delete()\n",
    "(2, {'addresses.Addresses': 1, 'accounts.User': 1})\n",
    ">>> "
   ]
  }
 ],
 "metadata": {
  "language_info": {
   "name": "python"
  }
 },
 "nbformat": 4,
 "nbformat_minor": 2
}
