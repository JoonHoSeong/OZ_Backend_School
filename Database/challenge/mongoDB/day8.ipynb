{
 "cells": [
  {
   "cell_type": "markdown",
   "metadata": {},
   "source": [
    "# 데이터 삽입"
   ]
  },
  {
   "cell_type": "code",
   "execution_count": 1,
   "metadata": {},
   "outputs": [],
   "source": [
    "from pymongo import MongoClient\n",
    "\n",
    "def insert_data():\n",
    "    client = MongoClient('mongodb://localhost:27017/')\n",
    "    db = client.local  # 'local' 데이터베이스 사용\n",
    "\n",
    "    # 책 데이터 삽입\n",
    "    books = [\n",
    "        {\n",
    "            \"title\": \"Kafka on the Shore\",\n",
    "            \"author\": \"Haruki Murakami\",\n",
    "            \"year\": 2002,\n",
    "            \"genre\": \"fantasy\",\n",
    "        },\n",
    "        {\n",
    "            \"title\": \"Norwegian Wood\",\n",
    "            \"author\": \"Haruki Murakami\",\n",
    "            \"year\": 1987,\n",
    "            \"genre\": \"thriller\",\n",
    "        },\n",
    "        {\n",
    "            \"title\": \"1Q84\",\n",
    "            \"author\": \"Haruki Murakami\",\n",
    "            \"year\": 2009,\n",
    "            \"genre\": \"fantasy\",\n",
    "        },\n",
    "    ]\n",
    "    db.books.insert_many(books)\n",
    "\n",
    "    # 영화 데이터 삽입\n",
    "    movies = [\n",
    "        {\n",
    "            \"title\": \"Inception\",\n",
    "            \"director\": \"Christopher Nolan\",\n",
    "            \"year\": 2010,\n",
    "            \"rating\": 8.8,\n",
    "            \"genre\": \"fantasy\",\n",
    "        },\n",
    "        {\n",
    "            \"title\": \"Interstellar\",\n",
    "            \"director\": \"Christopher Nolan\",\n",
    "            \"year\": 2014,\n",
    "            \"rating\": 8.6,\n",
    "            \"genre\": \"fantasy\",\n",
    "        },\n",
    "        {\n",
    "            \"title\": \"The Dark Knight\",\n",
    "            \"director\": \"Christopher Nolan\",\n",
    "            \"year\": 2008,\n",
    "            \"rating\": 9.0,\n",
    "            \"genre\": \"fantasy\",\n",
    "        },\n",
    "    ]\n",
    "    db.movies.insert_many(movies)\n",
    "\n",
    "    # 사용자 행동 데이터 삽입\n",
    "    user_actions = [\n",
    "        {\"user_id\": 1, \"action\": \"click\", \"timestamp\": \"2023-04-12T08:00:00Z\"},\n",
    "        {\"user_id\": 1, \"action\": \"view\", \"timestamp\": \"2023-04-12T09:00:00Z\"},\n",
    "        {\"user_id\": 2, \"action\": \"purchase\", \"timestamp\": \"2023-04-12T10:00:00Z\"}\n",
    "    ]\n",
    "    db.user_actions.insert_many(user_actions)\n",
    "\n",
    "    print(\"Data inserted successfully\")\n",
    "    client.close()\n"
   ]
  },
  {
   "cell_type": "code",
   "execution_count": 2,
   "metadata": {},
   "outputs": [
    {
     "name": "stdout",
     "output_type": "stream",
     "text": [
      "Data inserted successfully\n"
     ]
    }
   ],
   "source": [
    "insert_data()"
   ]
  },
  {
   "cell_type": "code",
   "execution_count": 4,
   "metadata": {},
   "outputs": [],
   "source": [
    "client = MongoClient('mongodb://localhost:27017/')\n",
    "db = client.local  # 'local' 데이터베이스 사용"
   ]
  },
  {
   "cell_type": "markdown",
   "metadata": {},
   "source": [
    "## 문제1"
   ]
  },
  {
   "cell_type": "code",
   "execution_count": 5,
   "metadata": {},
   "outputs": [],
   "source": [
    "genre = 'fantasy'"
   ]
  },
  {
   "cell_type": "code",
   "execution_count": 6,
   "metadata": {},
   "outputs": [
    {
     "name": "stdout",
     "output_type": "stream",
     "text": [
      "{'title': 'Kafka on the Shore', 'author': 'Haruki Murakami'}\n",
      "{'title': '1Q84', 'author': 'Haruki Murakami'}\n",
      "{'title': 'Kafka on the Shore', 'author': 'Haruki Murakami'}\n",
      "{'title': '1Q84', 'author': 'Haruki Murakami'}\n",
      "{'title': 'Kafka on the Shore', 'author': 'Haruki Murakami'}\n",
      "{'title': '1Q84', 'author': 'Haruki Murakami'}\n"
     ]
    }
   ],
   "source": [
    "books_collection = db.books\n",
    "query = {\"genre\": genre}\n",
    "projection = {\"_id\": 0, \"title\": 1, \"author\": 1}\n",
    "\n",
    "books = books_collection.find(query, projection)\n",
    "for book in books:\n",
    "    print(book)"
   ]
  },
  {
   "cell_type": "markdown",
   "metadata": {},
   "source": [
    "## 문제2"
   ]
  },
  {
   "cell_type": "code",
   "execution_count": 7,
   "metadata": {},
   "outputs": [
    {
     "name": "stdout",
     "output_type": "stream",
     "text": [
      "{'_id': 'Christopher Nolan', 'average_rating': 8.8}\n"
     ]
    }
   ],
   "source": [
    "movies_collection = db.movies\n",
    "pipeline = [\n",
    "    {\"$group\": {\"_id\": \"$director\", \"average_rating\": {\"$avg\": \"$rating\"}}},\n",
    "    {\"$sort\": {\"average_rating\": -1}}\n",
    "]\n",
    "\n",
    "results = movies_collection.aggregate(pipeline)\n",
    "for result in results:\n",
    "    print(result)"
   ]
  },
  {
   "cell_type": "markdown",
   "metadata": {},
   "source": [
    "## 문제3"
   ]
  },
  {
   "cell_type": "code",
   "execution_count": 8,
   "metadata": {},
   "outputs": [],
   "source": [
    "user_id = 1"
   ]
  },
  {
   "cell_type": "code",
   "execution_count": 10,
   "metadata": {},
   "outputs": [
    {
     "name": "stdout",
     "output_type": "stream",
     "text": [
      "{'_id': ObjectId('662e56af33c491230682b3f1'), 'user_id': 1, 'action': 'view', 'timestamp': '2023-04-12T09:00:00Z'}\n",
      "{'_id': ObjectId('662e55f4f515907c182527d0'), 'user_id': 1, 'action': 'view', 'timestamp': '2023-04-12T09:00:00Z'}\n",
      "{'_id': ObjectId('662e5680f515907c182527da'), 'user_id': 1, 'action': 'view', 'timestamp': '2023-04-12T09:00:00Z'}\n",
      "{'_id': ObjectId('662e5680f515907c182527d9'), 'user_id': 1, 'action': 'click', 'timestamp': '2023-04-12T08:00:00Z'}\n",
      "{'_id': ObjectId('662e55f4f515907c182527cf'), 'user_id': 1, 'action': 'click', 'timestamp': '2023-04-12T08:00:00Z'}\n"
     ]
    }
   ],
   "source": [
    "user_actions_collection = db.user_actions\n",
    "query = {\"user_id\": user_id}\n",
    "sort_criteria = [(\"timestamp\", -1)]\n",
    "\n",
    "actions = user_actions_collection.find(query).sort(sort_criteria).limit(5)\n",
    "for action in actions:\n",
    "    print(action)"
   ]
  },
  {
   "cell_type": "markdown",
   "metadata": {},
   "source": [
    "## 문제4"
   ]
  },
  {
   "cell_type": "code",
   "execution_count": 11,
   "metadata": {},
   "outputs": [
    {
     "name": "stdout",
     "output_type": "stream",
     "text": [
      "{'_id': 2002, 'count': 3}\n",
      "{'_id': 2009, 'count': 3}\n",
      "{'_id': 1987, 'count': 3}\n"
     ]
    }
   ],
   "source": [
    "books_collection = db.books\n",
    "pipeline = [\n",
    "    {\"$group\": {\"_id\": \"$year\", \"count\": {\"$sum\": 1}}},\n",
    "    {\"$sort\": {\"count\": -1}}\n",
    "]\n",
    "\n",
    "results = books_collection.aggregate(pipeline)\n",
    "for result in results:\n",
    "    print(result)"
   ]
  },
  {
   "cell_type": "markdown",
   "metadata": {},
   "source": [
    "## 문제5"
   ]
  },
  {
   "cell_type": "code",
   "execution_count": 12,
   "metadata": {},
   "outputs": [],
   "source": [
    "from datetime import datetime"
   ]
  },
  {
   "cell_type": "code",
   "execution_count": 13,
   "metadata": {},
   "outputs": [],
   "source": [
    "date = datetime(2023,4,10)\n",
    "old_action = 'view'\n",
    "new_action = 'seen'"
   ]
  },
  {
   "cell_type": "code",
   "execution_count": 14,
   "metadata": {},
   "outputs": [
    {
     "name": "stdout",
     "output_type": "stream",
     "text": [
      "Updated 0 documents.\n"
     ]
    }
   ],
   "source": [
    "user_actions_collection = db.user_actions\n",
    "query = {\"user_id\": user_id, \"action\": old_action, \"timestamp\": {\"$lt\": date}}\n",
    "update = {\"$set\": {\"action\": new_action}}\n",
    "\n",
    "result = user_actions_collection.update_many(query, update)\n",
    "print(f\"Updated {result.modified_count} documents.\")"
   ]
  },
  {
   "cell_type": "code",
   "execution_count": null,
   "metadata": {},
   "outputs": [],
   "source": []
  }
 ],
 "metadata": {
  "kernelspec": {
   "display_name": "mongodb",
   "language": "python",
   "name": ".venv"
  },
  "language_info": {
   "codemirror_mode": {
    "name": "ipython",
    "version": 3
   },
   "file_extension": ".py",
   "mimetype": "text/x-python",
   "name": "python",
   "nbconvert_exporter": "python",
   "pygments_lexer": "ipython3",
   "version": "3.10.14"
  }
 },
 "nbformat": 4,
 "nbformat_minor": 2
}
