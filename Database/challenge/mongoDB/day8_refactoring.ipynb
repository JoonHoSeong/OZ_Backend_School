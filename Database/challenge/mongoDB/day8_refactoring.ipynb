{
 "cells": [
  {
   "cell_type": "markdown",
   "metadata": {},
   "source": [
    "# 데이터 삽입"
   ]
  },
  {
   "cell_type": "code",
   "execution_count": 44,
   "metadata": {},
   "outputs": [],
   "source": [
    "from pymongo import MongoClient #MongoDB - Python 연결\n",
    "from faker import Faker #더미 데이터 생성\n",
    "from datetime import datetime"
   ]
  },
  {
   "cell_type": "code",
   "execution_count": 45,
   "metadata": {},
   "outputs": [],
   "source": [
    "faker = Faker()"
   ]
  },
  {
   "cell_type": "code",
   "execution_count": 46,
   "metadata": {},
   "outputs": [],
   "source": [
    "client = MongoClient('mongodb://localhost:27017/')\n",
    "db = client['testBookList'] # 'testBookList' 데이터베이스 사용"
   ]
  },
  {
   "cell_type": "markdown",
   "metadata": {},
   "source": [
    "# 함수 작성"
   ]
  },
  {
   "cell_type": "code",
   "execution_count": 124,
   "metadata": {},
   "outputs": [],
   "source": [
    "def drop_all_collections(db) :\n",
    "    for name in db.list_collection_names() :\n",
    "        db.drop_collection(name)\n",
    "        \n",
    "def generate_dummy_book(db) :\n",
    "    return {'title' : faker.sentence(3),\n",
    "            'author' : faker.word(ext_word_list=['Akira Kurosawa', 'Federico Fellini', 'Ingmar Bergman',\\\n",
    "                    'Jean-Luc Godard', 'Andrei Tarkovsky','Alejandro González Iñárritu','Pedro Almodóvar',\\\n",
    "                        'Wong Kar-wai', 'Park Chan-wook', 'Hayao Miyazaki']),\n",
    "            'year' : faker.pyint(2000,2024),\n",
    "            'genre' : faker.word(ext_word_list=['Action', 'Science Fiction', 'Comedy', 'Melodrama', 'Drama', 'Thriller', 'Horror', 'Animation', 'Documentary', 'Fantasy', 'Musical'])\n",
    "            }\n",
    "    \n",
    "def generate_dummy_movie(db) :\n",
    "    return {'title' : faker.sentence(3),\n",
    "            'director' : faker.word(ext_word_list=['Akira Kurosawa', 'Federico Fellini', 'Ingmar Bergman',\\\n",
    "                    'Jean-Luc Godard', 'Andrei Tarkovsky','Alejandro González Iñárritu','Pedro Almodóvar',\\\n",
    "                        'Wong Kar-wai', 'Park Chan-wook', 'Hayao Miyazaki']),\n",
    "            'year' : faker.pyint(2000,2024),\n",
    "            'rating' : faker.pyfloat(left_digits=1, right_digits=1,positive=True),\n",
    "            'genre' : faker.word(ext_word_list=['Action', 'Science Fiction', 'Comedy', 'Melodrama', 'Drama', 'Thriller', 'Horror', 'Animation', 'Documentary', 'Fantasy', 'Musical'])\n",
    "            }\n",
    "    \n",
    "def getnerate_dummy_user(db) :\n",
    "    return {'user_id' : faker.pyint(0,100),\n",
    "            'action' : faker.word(ext_word_list=['click', 'view','purchase']),\n",
    "            'timestamp' : faker.date_time_between(start_date=datetime(2000,1,1), end_date=datetime.now()),\n",
    "            }"
   ]
  },
  {
   "cell_type": "markdown",
   "metadata": {},
   "source": [
    "## CRUD"
   ]
  },
  {
   "cell_type": "code",
   "execution_count": 133,
   "metadata": {},
   "outputs": [],
   "source": [
    "def insert_dummy_data(db, num) :\n",
    "    db['books'].insert_many([generate_dummy_book(db) for _ in range(num)])\n",
    "    db['movies'].insert_many([generate_dummy_movie(db) for _ in range(num)])\n",
    "    db['user_actions'].insert_many([getnerate_dummy_user(db) for _ in range(num)])\n",
    "    \n",
    "def select_books_genre(db,genre) :\n",
    "    book_collection = db.books\n",
    "    qurey = {'genre' : genre}\n",
    "    projection = {\"_id\" : 0, 'title' : 1, 'author' : 1, 'genre' : 1}\n",
    "    books = book_collection.find(qurey, projection)\n",
    "    for book in books :\n",
    "        print(book)\n",
    "        \n",
    "def get_director_avg_rating(db) :\n",
    "    movies_collection = db.movies\n",
    "    pipeline = [\n",
    "        {\"$group\": {\"_id\": \"$director\", \"average_rating\": {\"$avg\": \"$rating\"}}},\n",
    "        {\"$sort\": {\"average_rating\": -1}}\n",
    "    ]\n",
    "    results = movies_collection.aggregate(pipeline)\n",
    "    for result in results:\n",
    "        print(result)\n",
    "        \n",
    "def get_user_action_by_id(db, user_id, limit=5) :\n",
    "    user_actions_collection = db.user_actions\n",
    "    query = {\"user_id\": user_id}\n",
    "    sort_criteria = [(\"timestamp\", -1)]\n",
    "\n",
    "    actions = user_actions_collection.find(query).sort(sort_criteria).limit(limit)\n",
    "    for action in actions:\n",
    "        print(action)\n",
    "        \n",
    "def get_numOfBooks_byYear(db):\n",
    "    books_collection = db.books\n",
    "    pipeline = [\n",
    "        {\"$group\": {\"_id\": \"$year\", \"count\": {\"$sum\": 1}}},\n",
    "        {\"$sort\": {\"count\": -1}}\n",
    "    ]\n",
    "    results = books_collection.aggregate(pipeline)\n",
    "    for result in results:\n",
    "        print(result)\n",
    "    \n",
    "def update_user_action(db, user_id,old_action, new_action, date) :\n",
    "    user_actions_collection = db.user_actions\n",
    "    query = {\"user_id\": user_id, \"action\": old_action, \"timestamp\": {\"$lt\": date}}\n",
    "    update = {\"$set\": {\"action\": new_action}}\n",
    "    result = user_actions_collection.update_many(query, update)\n",
    "    print(f\"Updated {result.modified_count} documents.\")"
   ]
  },
  {
   "cell_type": "code",
   "execution_count": 126,
   "metadata": {},
   "outputs": [],
   "source": [
    "drop_all_collections(db)\n",
    "insert_dummy_data(db, 1000)"
   ]
  },
  {
   "cell_type": "markdown",
   "metadata": {},
   "source": [
    "## 문제1\n",
    "\n",
    "- **문제 설명**:\n",
    "사용자는 \"fantasy\" 장르의 모든 책을 찾고 싶어합니다.\n",
    "- **쿼리 작성 목표**:\n",
    "\"fantasy\" 장르에 해당하는 모든 책의 제목과 저자를 찾는 MongoDB 쿼리를 함수로 만들어 문제를 해결해 봅니다."
   ]
  },
  {
   "cell_type": "code",
   "execution_count": 127,
   "metadata": {},
   "outputs": [
    {
     "name": "stdout",
     "output_type": "stream",
     "text": [
      "{'title': 'Dog half positive simple.', 'author': 'Hayao Miyazaki', 'genre': 'Fantasy'}\n",
      "{'title': 'Man sign change.', 'author': 'Alejandro González Iñárritu', 'genre': 'Fantasy'}\n",
      "{'title': 'Option work only.', 'author': 'Alejandro González Iñárritu', 'genre': 'Fantasy'}\n",
      "{'title': 'Rock less.', 'author': 'Federico Fellini', 'genre': 'Fantasy'}\n",
      "{'title': 'Together yourself a.', 'author': 'Alejandro González Iñárritu', 'genre': 'Fantasy'}\n",
      "{'title': 'Pull collection their.', 'author': 'Federico Fellini', 'genre': 'Fantasy'}\n",
      "{'title': 'Easy present.', 'author': 'Jean-Luc Godard', 'genre': 'Fantasy'}\n",
      "{'title': 'Hand.', 'author': 'Park Chan-wook', 'genre': 'Fantasy'}\n",
      "{'title': 'Raise pick.', 'author': 'Andrei Tarkovsky', 'genre': 'Fantasy'}\n",
      "{'title': 'South behind.', 'author': 'Alejandro González Iñárritu', 'genre': 'Fantasy'}\n",
      "{'title': 'Special character.', 'author': 'Alejandro González Iñárritu', 'genre': 'Fantasy'}\n",
      "{'title': 'Understand summer.', 'author': 'Ingmar Bergman', 'genre': 'Fantasy'}\n",
      "{'title': 'Heart employee alone.', 'author': 'Hayao Miyazaki', 'genre': 'Fantasy'}\n",
      "{'title': 'Over.', 'author': 'Hayao Miyazaki', 'genre': 'Fantasy'}\n",
      "{'title': 'Think condition talk experience.', 'author': 'Wong Kar-wai', 'genre': 'Fantasy'}\n",
      "{'title': 'Hot skill cut.', 'author': 'Ingmar Bergman', 'genre': 'Fantasy'}\n",
      "{'title': 'Lay run poor.', 'author': 'Hayao Miyazaki', 'genre': 'Fantasy'}\n",
      "{'title': 'As similar under.', 'author': 'Hayao Miyazaki', 'genre': 'Fantasy'}\n",
      "{'title': 'Area true social.', 'author': 'Wong Kar-wai', 'genre': 'Fantasy'}\n",
      "{'title': 'Arrive know make above.', 'author': 'Park Chan-wook', 'genre': 'Fantasy'}\n",
      "{'title': 'After school fly.', 'author': 'Wong Kar-wai', 'genre': 'Fantasy'}\n",
      "{'title': 'Tell happy.', 'author': 'Jean-Luc Godard', 'genre': 'Fantasy'}\n",
      "{'title': 'Start huge most.', 'author': 'Park Chan-wook', 'genre': 'Fantasy'}\n",
      "{'title': 'Adult year.', 'author': 'Hayao Miyazaki', 'genre': 'Fantasy'}\n",
      "{'title': 'Education cost.', 'author': 'Akira Kurosawa', 'genre': 'Fantasy'}\n",
      "{'title': 'Those understand.', 'author': 'Hayao Miyazaki', 'genre': 'Fantasy'}\n",
      "{'title': 'Security eye pay.', 'author': 'Jean-Luc Godard', 'genre': 'Fantasy'}\n",
      "{'title': 'Owner.', 'author': 'Pedro Almodóvar', 'genre': 'Fantasy'}\n",
      "{'title': 'Rule sort.', 'author': 'Andrei Tarkovsky', 'genre': 'Fantasy'}\n",
      "{'title': 'Inside.', 'author': 'Wong Kar-wai', 'genre': 'Fantasy'}\n",
      "{'title': 'Concern decide.', 'author': 'Akira Kurosawa', 'genre': 'Fantasy'}\n",
      "{'title': 'Middle traditional policy.', 'author': 'Ingmar Bergman', 'genre': 'Fantasy'}\n",
      "{'title': 'Certainly.', 'author': 'Federico Fellini', 'genre': 'Fantasy'}\n",
      "{'title': 'Maintain office.', 'author': 'Alejandro González Iñárritu', 'genre': 'Fantasy'}\n",
      "{'title': 'Article research.', 'author': 'Hayao Miyazaki', 'genre': 'Fantasy'}\n",
      "{'title': 'Defense explain.', 'author': 'Federico Fellini', 'genre': 'Fantasy'}\n",
      "{'title': 'Near produce.', 'author': 'Park Chan-wook', 'genre': 'Fantasy'}\n",
      "{'title': 'Drug key conference.', 'author': 'Federico Fellini', 'genre': 'Fantasy'}\n",
      "{'title': 'Soon system mention.', 'author': 'Wong Kar-wai', 'genre': 'Fantasy'}\n",
      "{'title': 'Example expert.', 'author': 'Akira Kurosawa', 'genre': 'Fantasy'}\n",
      "{'title': 'Adult course make.', 'author': 'Ingmar Bergman', 'genre': 'Fantasy'}\n",
      "{'title': 'Turn still subject.', 'author': 'Jean-Luc Godard', 'genre': 'Fantasy'}\n",
      "{'title': 'Investment task.', 'author': 'Jean-Luc Godard', 'genre': 'Fantasy'}\n",
      "{'title': 'Long.', 'author': 'Wong Kar-wai', 'genre': 'Fantasy'}\n",
      "{'title': 'Clearly no.', 'author': 'Jean-Luc Godard', 'genre': 'Fantasy'}\n",
      "{'title': 'Board our middle race.', 'author': 'Jean-Luc Godard', 'genre': 'Fantasy'}\n",
      "{'title': 'Generation why.', 'author': 'Park Chan-wook', 'genre': 'Fantasy'}\n",
      "{'title': 'Article place social.', 'author': 'Federico Fellini', 'genre': 'Fantasy'}\n",
      "{'title': 'Option we.', 'author': 'Federico Fellini', 'genre': 'Fantasy'}\n",
      "{'title': 'Site per partner arrive.', 'author': 'Andrei Tarkovsky', 'genre': 'Fantasy'}\n",
      "{'title': 'Walk call.', 'author': 'Akira Kurosawa', 'genre': 'Fantasy'}\n",
      "{'title': 'All thought table message.', 'author': 'Andrei Tarkovsky', 'genre': 'Fantasy'}\n",
      "{'title': 'Themselves spend.', 'author': 'Ingmar Bergman', 'genre': 'Fantasy'}\n",
      "{'title': 'There service spend.', 'author': 'Andrei Tarkovsky', 'genre': 'Fantasy'}\n",
      "{'title': 'Share thousand building different.', 'author': 'Jean-Luc Godard', 'genre': 'Fantasy'}\n",
      "{'title': 'Tree cause something.', 'author': 'Hayao Miyazaki', 'genre': 'Fantasy'}\n",
      "{'title': 'Prepare glass buy law.', 'author': 'Federico Fellini', 'genre': 'Fantasy'}\n",
      "{'title': 'Reflect sport sport.', 'author': 'Ingmar Bergman', 'genre': 'Fantasy'}\n",
      "{'title': 'Appear campaign.', 'author': 'Andrei Tarkovsky', 'genre': 'Fantasy'}\n",
      "{'title': 'Contain young.', 'author': 'Federico Fellini', 'genre': 'Fantasy'}\n",
      "{'title': 'A material.', 'author': 'Park Chan-wook', 'genre': 'Fantasy'}\n",
      "{'title': 'Such.', 'author': 'Akira Kurosawa', 'genre': 'Fantasy'}\n",
      "{'title': 'Would day enjoy.', 'author': 'Pedro Almodóvar', 'genre': 'Fantasy'}\n",
      "{'title': 'Born statement.', 'author': 'Alejandro González Iñárritu', 'genre': 'Fantasy'}\n",
      "{'title': 'Cultural scientist.', 'author': 'Hayao Miyazaki', 'genre': 'Fantasy'}\n",
      "{'title': 'Author economic.', 'author': 'Andrei Tarkovsky', 'genre': 'Fantasy'}\n",
      "{'title': 'Majority stop.', 'author': 'Andrei Tarkovsky', 'genre': 'Fantasy'}\n",
      "{'title': 'Range family throughout add.', 'author': 'Jean-Luc Godard', 'genre': 'Fantasy'}\n",
      "{'title': 'Ground central according.', 'author': 'Hayao Miyazaki', 'genre': 'Fantasy'}\n",
      "{'title': 'Five community.', 'author': 'Andrei Tarkovsky', 'genre': 'Fantasy'}\n",
      "{'title': 'Usually budget responsibility establish.', 'author': 'Pedro Almodóvar', 'genre': 'Fantasy'}\n",
      "{'title': 'List clear into.', 'author': 'Andrei Tarkovsky', 'genre': 'Fantasy'}\n",
      "{'title': 'Many particularly miss.', 'author': 'Hayao Miyazaki', 'genre': 'Fantasy'}\n",
      "{'title': 'Study type science day.', 'author': 'Hayao Miyazaki', 'genre': 'Fantasy'}\n",
      "{'title': 'Rich positive.', 'author': 'Andrei Tarkovsky', 'genre': 'Fantasy'}\n",
      "{'title': 'Represent simple president.', 'author': 'Akira Kurosawa', 'genre': 'Fantasy'}\n",
      "{'title': 'Note thought.', 'author': 'Wong Kar-wai', 'genre': 'Fantasy'}\n",
      "{'title': 'Seven get.', 'author': 'Pedro Almodóvar', 'genre': 'Fantasy'}\n",
      "{'title': 'Finally ever research.', 'author': 'Hayao Miyazaki', 'genre': 'Fantasy'}\n",
      "{'title': 'Evidence quality.', 'author': 'Andrei Tarkovsky', 'genre': 'Fantasy'}\n",
      "{'title': 'Yourself choice entire.', 'author': 'Jean-Luc Godard', 'genre': 'Fantasy'}\n",
      "{'title': 'Score wrong call.', 'author': 'Andrei Tarkovsky', 'genre': 'Fantasy'}\n",
      "{'title': 'According film.', 'author': 'Pedro Almodóvar', 'genre': 'Fantasy'}\n",
      "{'title': 'In serious market.', 'author': 'Alejandro González Iñárritu', 'genre': 'Fantasy'}\n",
      "{'title': 'Hold yet.', 'author': 'Jean-Luc Godard', 'genre': 'Fantasy'}\n",
      "{'title': 'Deep also.', 'author': 'Wong Kar-wai', 'genre': 'Fantasy'}\n",
      "{'title': 'Community.', 'author': 'Wong Kar-wai', 'genre': 'Fantasy'}\n",
      "{'title': 'Character.', 'author': 'Wong Kar-wai', 'genre': 'Fantasy'}\n",
      "{'title': 'Mention data tree senior.', 'author': 'Federico Fellini', 'genre': 'Fantasy'}\n",
      "{'title': 'Girl full important.', 'author': 'Jean-Luc Godard', 'genre': 'Fantasy'}\n",
      "{'title': 'Threat civil may.', 'author': 'Andrei Tarkovsky', 'genre': 'Fantasy'}\n",
      "{'title': 'Range great.', 'author': 'Akira Kurosawa', 'genre': 'Fantasy'}\n",
      "{'title': 'Whether sell.', 'author': 'Ingmar Bergman', 'genre': 'Fantasy'}\n",
      "{'title': 'Defense scene TV.', 'author': 'Hayao Miyazaki', 'genre': 'Fantasy'}\n",
      "{'title': 'Child than push.', 'author': 'Hayao Miyazaki', 'genre': 'Fantasy'}\n",
      "{'title': 'Yes treat.', 'author': 'Pedro Almodóvar', 'genre': 'Fantasy'}\n",
      "{'title': 'Give pass during.', 'author': 'Hayao Miyazaki', 'genre': 'Fantasy'}\n",
      "{'title': 'Financial significant.', 'author': 'Hayao Miyazaki', 'genre': 'Fantasy'}\n",
      "{'title': 'Generation consider whole.', 'author': 'Wong Kar-wai', 'genre': 'Fantasy'}\n",
      "{'title': 'Power develop.', 'author': 'Jean-Luc Godard', 'genre': 'Fantasy'}\n"
     ]
    }
   ],
   "source": [
    "select_books_genre(db, 'Fantasy')"
   ]
  },
  {
   "cell_type": "markdown",
   "metadata": {},
   "source": [
    "## 문제2\n",
    "\n",
    "- **문제 설명**:\n",
    "각 영화 감독별로 그들의 영화 평점의 평균을 계산하고 싶습니다. 이를 통해 어떤 감독이 가장 높은 평균 평점을 가지고 있는지 알아볼 수 있습니다.\n",
    "- **쿼리 작성 목표**:\n",
    "모든 영화 감독의 영화 평점 평균을 계산하고, 평균 평점이 높은 순으로 정렬하는 MongoDB 쿼리를 함수로 만들어 문제를 해결해 봅니다."
   ]
  },
  {
   "cell_type": "code",
   "execution_count": 128,
   "metadata": {},
   "outputs": [
    {
     "name": "stdout",
     "output_type": "stream",
     "text": [
      "{'_id': 'Jean-Luc Godard', 'average_rating': 5.285869565217391}\n",
      "{'_id': 'Pedro Almodóvar', 'average_rating': 5.268817204301075}\n",
      "{'_id': 'Andrei Tarkovsky', 'average_rating': 5.206593406593407}\n",
      "{'_id': 'Wong Kar-wai', 'average_rating': 5.126724137931035}\n",
      "{'_id': 'Hayao Miyazaki', 'average_rating': 5.115044247787611}\n",
      "{'_id': 'Federico Fellini', 'average_rating': 5.084313725490197}\n",
      "{'_id': 'Ingmar Bergman', 'average_rating': 5.0523364485981315}\n",
      "{'_id': 'Alejandro González Iñárritu', 'average_rating': 4.783333333333333}\n",
      "{'_id': 'Akira Kurosawa', 'average_rating': 4.529126213592233}\n",
      "{'_id': 'Park Chan-wook', 'average_rating': 4.4037037037037035}\n"
     ]
    }
   ],
   "source": [
    "get_director_avg_rating(db)"
   ]
  },
  {
   "cell_type": "markdown",
   "metadata": {},
   "source": [
    "## 문제3\n",
    "\n",
    "- **문제 설명**:\n",
    "특정 사용자의 최근 행동 로그를 조회하고자 합니다. 이 때, 최신 순으로 정렬하여 최근 5개의 행동만을 보고 싶습니다.\n",
    "- **쿼리 작성 목표**:\n",
    "사용자 ID가 1인 사용자의 최근 행동 5개를 시간 순으로 정렬하여 조회하는 MongoDB 쿼리를 함수로 만들어 문제를 해결해 봅니다."
   ]
  },
  {
   "cell_type": "code",
   "execution_count": 129,
   "metadata": {},
   "outputs": [
    {
     "name": "stdout",
     "output_type": "stream",
     "text": [
      "{'_id': ObjectId('66324416a724b684af516338'), 'user_id': 13, 'action': 'view', 'timestamp': datetime.datetime(2020, 7, 17, 3, 26, 51, 801000)}\n",
      "{'_id': ObjectId('66324416a724b684af5162e8'), 'user_id': 13, 'action': 'view', 'timestamp': datetime.datetime(2019, 6, 3, 12, 28, 46, 721000)}\n",
      "{'_id': ObjectId('66324416a724b684af51659a'), 'user_id': 13, 'action': 'click', 'timestamp': datetime.datetime(2012, 12, 15, 20, 5, 23, 231000)}\n",
      "{'_id': ObjectId('66324416a724b684af5165ab'), 'user_id': 13, 'action': 'view', 'timestamp': datetime.datetime(2008, 8, 12, 8, 16, 38, 368000)}\n",
      "{'_id': ObjectId('66324416a724b684af51634a'), 'user_id': 13, 'action': 'click', 'timestamp': datetime.datetime(2008, 5, 17, 11, 29, 38, 93000)}\n"
     ]
    }
   ],
   "source": [
    "get_user_action_by_id(db, 13)"
   ]
  },
  {
   "cell_type": "markdown",
   "metadata": {},
   "source": [
    "## 문제4\n",
    "\n",
    "- **문제 설명** :\n",
    "데이터베이스에 저장된 책 데이터를 이용하여 각 출판 연도별로 출판된 책의 수를 계산하고자 합니다. 이 데이터는 시간에 따른 출판 트렌드를 분석하는 데 사용될 수 있습니다.\n",
    "- **쿼리 작성 목표** :\n",
    "각 출판 연도별로 출판된 책의 수를 계산하고, 출판된 책의 수가 많은 순서대로 정렬하는 MongoDB 쿼리를 함수로 만들어 문제를 해결해 봅니다."
   ]
  },
  {
   "cell_type": "code",
   "execution_count": 130,
   "metadata": {},
   "outputs": [
    {
     "name": "stdout",
     "output_type": "stream",
     "text": [
      "{'_id': 2008, 'count': 56}\n",
      "{'_id': 2021, 'count': 50}\n",
      "{'_id': 2016, 'count': 47}\n",
      "{'_id': 2001, 'count': 46}\n",
      "{'_id': 2020, 'count': 46}\n",
      "{'_id': 2022, 'count': 43}\n",
      "{'_id': 2005, 'count': 43}\n",
      "{'_id': 2009, 'count': 42}\n",
      "{'_id': 2007, 'count': 42}\n",
      "{'_id': 2019, 'count': 41}\n",
      "{'_id': 2014, 'count': 41}\n",
      "{'_id': 2013, 'count': 41}\n",
      "{'_id': 2024, 'count': 39}\n",
      "{'_id': 2000, 'count': 39}\n",
      "{'_id': 2017, 'count': 39}\n",
      "{'_id': 2018, 'count': 38}\n",
      "{'_id': 2011, 'count': 37}\n",
      "{'_id': 2010, 'count': 37}\n",
      "{'_id': 2023, 'count': 36}\n",
      "{'_id': 2002, 'count': 35}\n",
      "{'_id': 2003, 'count': 34}\n",
      "{'_id': 2015, 'count': 34}\n",
      "{'_id': 2012, 'count': 33}\n",
      "{'_id': 2004, 'count': 32}\n",
      "{'_id': 2006, 'count': 29}\n"
     ]
    }
   ],
   "source": [
    "get_numOfBooks_byYear(db)"
   ]
  },
  {
   "cell_type": "markdown",
   "metadata": {},
   "source": [
    "## 문제5\n",
    "\n",
    "- **문제 설명**:\n",
    "특정 사용자의 행동 로그 중, 특정 날짜 이전의 \"view\" 행동을 \"seen\"으로 변경하고 싶습니다. 예를 들어, 사용자 ID가 1인 사용자의 2023년 4월 10일 이전의 모든 \"view\" 행동을 \"seen\"으로 변경하는 작업입니다.\n",
    "- **쿼리 작성 목표**:\n",
    "사용자 ID가 1인 사용자의 2023년 4월 10일 이전의 \"view\" 행동을 \"seen\"으로 변경하는 MongoDB 업데이트 쿼리를 함수로 만들어 문제를 해결해 봅니다."
   ]
  },
  {
   "cell_type": "code",
   "execution_count": 136,
   "metadata": {},
   "outputs": [
    {
     "name": "stdout",
     "output_type": "stream",
     "text": [
      "Updated 5 documents.\n"
     ]
    }
   ],
   "source": [
    "update_user_action(db, 13,'view', 'seen', datetime(2023,4,10))"
   ]
  }
 ],
 "metadata": {
  "kernelspec": {
   "display_name": "DBday8",
   "language": "python",
   "name": ".mongodb"
  },
  "language_info": {
   "codemirror_mode": {
    "name": "ipython",
    "version": 3
   },
   "file_extension": ".py",
   "mimetype": "text/x-python",
   "name": "python",
   "nbconvert_exporter": "python",
   "pygments_lexer": "ipython3",
   "version": "3.10.14"
  }
 },
 "nbformat": 4,
 "nbformat_minor": 2
}
