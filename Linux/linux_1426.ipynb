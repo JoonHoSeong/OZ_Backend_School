{
 "cells": [
  {
   "cell_type": "markdown",
   "metadata": {},
   "source": [
    "문제1. 현재 작업 디렉터리를 나타내는 명령어를 작성해주세요"
   ]
  },
  {
   "cell_type": "markdown",
   "metadata": {},
   "source": [
    "정답 : pwd"
   ]
  },
  {
   "cell_type": "markdown",
   "metadata": {},
   "source": [
    "문제2. 아래 설명 중 틀린것을 골라주세요\n",
    "\n",
    "1. pwd : shell의 현재 작업 디렉토리에 대한 절대 경로를 표준 출력에 인쇄합니다.\n",
    "2. `cd [<new location>]` : 셀의 현재 작업 디렉터리를 선택적인 <새 위치>로 변경합니다.\n",
    "3. `ls [<location>]` 선택적 <location> 디렉터리의 내용을 나열합니다.\n",
    "4. `ls [<location>]` <location>이 제공되지 않으면 셸의 이전 작업 디렉터리 내용을 인쇄합니다."
   ]
  },
  {
   "cell_type": "markdown",
   "metadata": {},
   "source": [
    "정답 :"
   ]
  },
  {
   "cell_type": "markdown",
   "metadata": {},
   "source": [
    "문제3. 파일을 삭제하는 명령어를 골라주세요\n",
    "\n",
    "1. main\n",
    "2. rm\n",
    "3. cp\n",
    "4. mv"
   ]
  },
  {
   "cell_type": "markdown",
   "metadata": {},
   "source": [
    "정답 : 2"
   ]
  },
  {
   "cell_type": "markdown",
   "metadata": {},
   "source": [
    "문제4. 입력한 패턴과 일치하는 모든 경로에 대해 데이터베이스를 검색하여 표준 출력으로 다시 제공하는 명령어를 작성해주세요"
   ]
  },
  {
   "cell_type": "markdown",
   "metadata": {},
   "source": [
    "정답 : locate"
   ]
  },
  {
   "cell_type": "markdown",
   "metadata": {},
   "source": [
    "문제5. find와 locate 명령어에 대한 설명으로 옳지 않은 것을 골라주세요\n",
    "\n",
    "1. locate 명렁어가 find 명령어보다 검색 속도가 빠르다\n",
    "2. locate 명령어가 find 명령어보다 다양한 옵션을 가지고 있다.\n",
    "3. locate 명렁어가 find 명령어보다 부정확한 데이터를 출력할 가능성이 있다.\n",
    "4. Find 명령어는 단순히 파일을 찾는것 뿐만 아니라 찾은 파일에 대하여 특정 작업까지도 수행할 수 있다."
   ]
  },
  {
   "cell_type": "markdown",
   "metadata": {},
   "source": [
    "정답 : 2"
   ]
  },
  {
   "cell_type": "markdown",
   "metadata": {
    "vscode": {
     "languageId": "plaintext"
    }
   },
   "source": [
    "문제6. oz라는 파일을 생성하는 linux 명령어를 작성해주세요(touch 활용)"
   ]
  },
  {
   "cell_type": "markdown",
   "metadata": {},
   "source": [
    "정답 : touch oz"
   ]
  },
  {
   "cell_type": "markdown",
   "metadata": {},
   "source": [
    "문제7. 폴더명이 2023_01, 2023_02, 2023_03 ... 2024_12인 형태로 한번에 생성되도록 linux 명령어를 작성해주세요"
   ]
  },
  {
   "cell_type": "markdown",
   "metadata": {},
   "source": [
    "정답 : mkdir {2023,2024}_{01..12}"
   ]
  },
  {
   "cell_type": "markdown",
   "metadata": {},
   "source": [
    "문제8. index.html 파일을 복사해 admin.html 파일을 만드는 linux 명령어를 작성해주세요"
   ]
  },
  {
   "cell_type": "markdown",
   "metadata": {},
   "source": [
    "정답 : cp index.html admin.html"
   ]
  },
  {
   "cell_type": "markdown",
   "metadata": {},
   "source": [
    "문제9. 파일 또는 폴더의 이름을 변경하거나 이동할때 사용하는 명령어를 골라주세요\n",
    "\n",
    "1. cv\n",
    "2. move\n",
    "3. mv\n",
    "4. mk\n",
    "5. pwd"
   ]
  },
  {
   "cell_type": "markdown",
   "metadata": {},
   "source": [
    "정답 : 3"
   ]
  },
  {
   "cell_type": "markdown",
   "metadata": {},
   "source": [
    "문제10 : linux에서 편집기를 이용해서 oz.txt파일을 여는 명령어를 작성해주세요"
   ]
  },
  {
   "cell_type": "markdown",
   "metadata": {},
   "source": [
    "정답 : vim oz.txt"
   ]
  }
 ],
 "metadata": {
  "language_info": {
   "name": "python"
  }
 },
 "nbformat": 4,
 "nbformat_minor": 2
}
