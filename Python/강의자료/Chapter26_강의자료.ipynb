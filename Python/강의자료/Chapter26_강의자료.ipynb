{
 "cells": [
  {
   "cell_type": "markdown",
   "metadata": {},
   "source": [
    "return까지 배운 지금 기본 함수의 구조는 이렇게 바뀔 수 있습니다.\n",
    "```\n",
    "def 함수(매개변수):\n",
    "    변수 = 초기값\n",
    "    for, if, while 등의 문법으로 변수 처리\n",
    "        ....\n",
    "    return 변수\n",
    "```\n",
    "\n",
    "이러한 구조를 바탕으로 oz()함수를 만들어보겠습니다.\n",
    "\n",
    "요구조건 \n",
    "- start, end, multiple 3개 매개변수를 이용해 start부터 시작해 multiple씩 증가해 end에 도달하면 종료하는 함수<br>\n",
    "  예) start = 1, end = 10, multiple = 3  (출력)=> 1, 4, 7"
   ]
  },
  {
   "cell_type": "code",
   "execution_count": 2,
   "metadata": {},
   "outputs": [
    {
     "name": "stdout",
     "output_type": "stream",
     "text": [
      "1  4  7  \n",
      "1  6  11  16  21  26  31  36  41  46  \n",
      "10  20  30  40  50  60  70  80  90  \n"
     ]
    }
   ],
   "source": [
    "def oz(start, end, multiple):\n",
    "    for i in range(start, end, multiple):\n",
    "        print(i, \" \", end=\"\")\n",
    "    print()\n",
    "\n",
    "oz(1, 10, 3)\n",
    "oz(start=1, end=50, multiple=5)\n",
    "oz(start=10, end=100, multiple=10)"
   ]
  },
  {
   "cell_type": "code",
   "execution_count": 3,
   "metadata": {},
   "outputs": [
    {
     "name": "stdout",
     "output_type": "stream",
     "text": [
      "1  4  7  \n",
      "1  2  3  4  5  6  7  8  9  10  11  12  13  14  15  16  17  18  19  20  21  22  23  24  25  26  27  28  29  30  31  32  33  34  35  36  37  38  39  40  41  42  43  44  45  46  47  48  49  \n",
      "1  11  21  31  41  51  61  71  81  91  \n"
     ]
    }
   ],
   "source": [
    "def oz(start=1, end=10, multiple=1):\n",
    "    for i in range(start, end, multiple):\n",
    "        print(i, \" \", end=\"\")\n",
    "    print()\n",
    "\n",
    "oz(1, 10, 3)\n",
    "oz(end=50)\n",
    "oz(end=100, multiple=10)"
   ]
  },
  {
   "cell_type": "markdown",
   "metadata": {},
   "source": [
    "파이썬의 다양한 내장 함수를 볼 수 있는 공식 홈페이지\n",
    "https://docs.python.org/ko/3/library/functions.html#bool"
   ]
  }
 ],
 "metadata": {
  "kernelspec": {
   "display_name": "Python 3",
   "language": "python",
   "name": "python3"
  },
  "language_info": {
   "codemirror_mode": {
    "name": "ipython",
    "version": 3
   },
   "file_extension": ".py",
   "mimetype": "text/x-python",
   "name": "python",
   "nbconvert_exporter": "python",
   "pygments_lexer": "ipython3",
   "version": "3.11.7"
  }
 },
 "nbformat": 4,
 "nbformat_minor": 2
}
