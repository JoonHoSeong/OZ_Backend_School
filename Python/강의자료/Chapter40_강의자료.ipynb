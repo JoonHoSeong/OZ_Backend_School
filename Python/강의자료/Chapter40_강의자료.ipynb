{
 "cells": [
  {
   "cell_type": "markdown",
   "metadata": {},
   "source": [
    "[모듈 만들기]\n",
    "\n",
    "모듈 : 함수의 집합\n",
    "\n",
    "같은 폴더 안에 2개의 파일을 만들겠습니다.\n",
    "- 모듈이 될 파일 : oz_module.py\n",
    "- 모듈을 불러와 실행할 파일 : oz.py"
   ]
  },
  {
   "cell_type": "code",
   "execution_count": null,
   "metadata": {},
   "outputs": [],
   "source": [
    "#oz_module.py\n",
    "pi = 3.141592\n",
    "\n",
    "#반지름 값을 받아오는 함수\n",
    "def number_input():\n",
    "    value = input(\"반지름을 입력해주세요\")\n",
    "    return float(value)\n",
    "\n",
    "#원의 둘레\n",
    "def get_circum(radius):\n",
    "    return 2 * pi * radius\n",
    "\n",
    "#원의 넓이\n",
    "def get_circle(radius):\n",
    "    return pi * radius * radius"
   ]
  },
  {
   "cell_type": "code",
   "execution_count": null,
   "metadata": {},
   "outputs": [],
   "source": [
    "#oz.py\n",
    "\n",
    "import oz_module as oz\n",
    "\n",
    "radius = oz.number_input()\n",
    "print(oz.get_circum(radius))\n",
    "print(oz.get_circle(radius))"
   ]
  }
 ],
 "metadata": {
  "language_info": {
   "name": "python"
  }
 },
 "nbformat": 4,
 "nbformat_minor": 2
}
