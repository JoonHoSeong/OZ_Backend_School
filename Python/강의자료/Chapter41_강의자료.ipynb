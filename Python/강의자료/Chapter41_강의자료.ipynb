{
 "cells": [
  {
   "cell_type": "markdown",
   "metadata": {},
   "source": [
    "[패키지]\n",
    "\n",
    "Python Package Index의 줄임말인 pip를 사용해보신적이 있으신가요?\n",
    "\n",
    "대부분은 pip install 명령어를 사용하셨을 겁니다.\n",
    "\n",
    "pip는 패키지 관리 시스템으로 모듈이 모여서 하나의 패키지를 구성할 수 있습니다.\n",
    "\n",
    "결국 패키지는 모듈의 집합이라고 생각하시면 쉽습니다.\n",
    "\n",
    "아래 안내해드리는 방식으로 폴더와 파일을 생성 후 수업을 들어주세요\n",
    "\n",
    "1. oz_package라는 폴더를 하나 만들어주세요\n",
    "2. oz_module_1.py, oz_module_2.py 파일을 만들어주세요\n",
    "\n",
    "oz_module_1.py\n",
    "```\n",
    "val_1 = \"module_1의 변수\"\n",
    "```\n",
    "\n",
    "oz_module_2.py \n",
    "```\n",
    "val_2 = \"module_2의 변수\"\n",
    "```\n",
    "3. main.py 파일을 만들어주세요\n",
    "```\n",
    "import oz_package.oz_module_1 as one\n",
    "import oz_package.oz_module_2 as two\n",
    "\n",
    "print(one.val_1)\n",
    "print(two.val_2)\n",
    "```"
   ]
  },
  {
   "cell_type": "markdown",
   "metadata": {},
   "source": []
  }
 ],
 "metadata": {
  "language_info": {
   "name": "python"
  }
 },
 "nbformat": 4,
 "nbformat_minor": 2
}
