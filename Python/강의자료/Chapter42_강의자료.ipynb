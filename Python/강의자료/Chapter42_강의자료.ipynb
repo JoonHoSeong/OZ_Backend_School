{
 "cells": [
  {
   "cell_type": "markdown",
   "metadata": {},
   "source": [
    "안녕하세요 \n",
    "\n",
    "수강생 여러분 \n",
    "\n",
    "오늘도 저와 함께 달릴 준비 되셨나요?\n",
    "\n",
    "그럼 객체와 클래스 선언하기에 대한 강의를 시작하겠습니다."
   ]
  },
  {
   "cell_type": "markdown",
   "metadata": {},
   "source": [
    "우선, 클래스를 배우기전 객체 지향 프로그래밍에 대한 개념 이해가 필요합니다.\n",
    "\n",
    "- 객체 지향 프로그래밍 : 클래스 기반의 객체를 우선으로 생각하는 프로그래밍입니다.<br>\n",
    "(객체지향 프로그램밍 언어 : Java, Python, PHP 등)"
   ]
  },
  {
   "cell_type": "markdown",
   "metadata": {},
   "source": [
    "위에서 언급된 객체는 무엇일까요?\n",
    "\n",
    "객체 : 구현하고자 하는 대상의 속성과 기능을 가지는 프로그램 단위를 말합니다.\n",
    "\n",
    "사람을 객체로 만드는것으로 예를 들면 \n",
    "\n",
    "- 속성으로는 (눈, 코, 입, 키, 몸무게, 성격 등)있고요\n",
    "- 기능에는 (다리를 이용해 걷기, 물건을 잡을때는 손가락을 이용하기 등)이 있습니다.\n",
    "\n",
    "이렇듯 객체를 만들기 위해서는 속성과 기능이 필요합니다.\n",
    "\n",
    "하지만, 현실세계에 있는 물건이든, 개념 또는 사상 등 많은것들을 프로그램으로 표현하기에는<br> \n",
    "대상들이 가지고 있는 구성 요소 또는 특징 그리고 기능들이 많습니다.<bt>\n",
    "<br>\n",
    "그래서 객체를 구성하고 있는 속성이 많은 경우 필요한 속성만을 이용해 객체를 표현하는 개념을 추상화라고 합니다.\n",
    "\n",
    "추상화 개념을 사용하려면 우리가 만들고자 하는 프로그램의 목적을 먼저 생각해야합니다.\n",
    "\n",
    "지금부터 우리는 프로그래밍 수업을 듣는 수강생이라는 사람을 객체로 만들어보려고 합니다.\n",
    "추상화를 이용하면다면 사람을 표현하기 위한 눈, 코, 입 같은건 필요하지 않습니다.\n",
    "\n",
    "프로그래밍 수업을 듣는 수강생을 만들때 필요한건 이름과 듣고 있는 과목, 전공 유무 등등 이 필요하다고 생각합니다.<br>\n",
    "물론 이 부분은 개발자마다 다르게 생각할 겁니다.\n",
    "\n",
    "-----\n",
    "\n",
    "우리가 개발 공부를 하는 사람 즉, 수강생을 객체로 만들기 위해서 필요한 속성과 기능은\n",
    "무엇일까요?\n",
    "\n",
    "제가 생각하는 수강생의 속성(구성)은 이렇습니다.\n",
    "- 이름\n",
    "- Python 활용 능력(1~5 점수가 높을 수록 실력이 좋음)\n",
    "- Database 활용 능력(1~5 점수가 높을 수록 실력이 좋음)\n",
    "- Django 활용 능력(1~5 점수가 높을 수록 실력이 좋음)\n",
    "- AWS 활용 능력(1~5 점수가 높을 수록 실력이 좋음)\n",
    "\n",
    "그리고 생각 할 수 있는 기능은 이렇습니다.\n",
    "- 수강 과목별 활용 능력 평균 구하기\n",
    "\n",
    "(여러분이 생각하는 수강생의 속성과 기능은 다를 수 있습니다.<br>\n",
    "프로젝트나 실무에서 객체 생성 시 설정하는 속성은 만들고자하는 프로그램에 따라<br>\n",
    "달라지며 많은 회의를 통해 지속적으로 변경될 수 있습니다.)<br>"
   ]
  },
  {
   "cell_type": "code",
   "execution_count": 5,
   "metadata": {},
   "outputs": [
    {
     "name": "stdout",
     "output_type": "stream",
     "text": [
      "이름\t총점\t평균\n",
      "백현우\t12\t3.0\n",
      "홍혜인\t15\t3.75\n",
      "윤은성\t12\t3.0\n",
      "홍수철\t11\t2.75\n"
     ]
    }
   ],
   "source": [
    "oz_students = [\n",
    "    {\"name\": \"백현우\", \"python\": 4, \"database\": 3, \"Django\": 3, \"AWS\": 2},\n",
    "    {\"name\": \"홍혜인\", \"python\": 4, \"database\": 5, \"Django\": 2, \"AWS\": 4},\n",
    "    {\"name\": \"윤은성\", \"python\": 3, \"database\": 4, \"Django\": 4, \"AWS\": 1},\n",
    "    {\"name\": \"홍수철\", \"python\": 2, \"database\": 3, \"Django\": 1, \"AWS\": 5},\n",
    "]\n",
    "\n",
    "#총점은 프로그래밍 활용 능력의 총합, 평균은 프로그램 활용 능력의 총합의 평균\n",
    "print(\"이름\", \"총점\", \"평균\", sep=\"\\t\")\n",
    "\n",
    "for student in oz_students:\n",
    "    ability_sum = student[\"python\"] + student[\"database\"] + student[\"Django\"] +\\\n",
    "                student[\"AWS\"]\n",
    "    ability_average = ability_sum / 4\n",
    "\n",
    "    print(student[\"name\"], ability_sum, ability_average, sep=\"\\t\")"
   ]
  },
  {
   "cell_type": "markdown",
   "metadata": {},
   "source": [
    "oz_students는 리스트이고 그안에 데이터가 딕셔너리 형태로 들어가있습니다.\n",
    "\n",
    "이 처럼 여러가지 속성(이름, 수강한 과목 등에 대한 정보)을 가지고 있는 대상을 객체라고 합니다\n",
    "\n",
    "프로그래밍 언어에서 좀 더 넓은 의미로 속성을 가질 수 있는 모든 것을 객체라고 합니다.\n",
    "\n",
    "객체가 의미하는 바가 생각보다 크죠\n",
    "\n",
    "그래서 위에서 작성한 oz_students 안에 값들을 객체라 할 수 있습니다.\n",
    "\n",
    "우리가 앞서 배웠던 함수에 대해서 기억하고 계시죠?\n",
    "\n",
    "학생 정보가 입력되었을떄 자동으로 딕셔너리 형태로 데이터를 생성해 주는 함수를 넣으면 \n",
    "\n",
    "코드를 효율성을 조금 올려볼 수 있을 것 같습니다.\n"
   ]
  },
  {
   "cell_type": "code",
   "execution_count": 8,
   "metadata": {},
   "outputs": [
    {
     "name": "stdout",
     "output_type": "stream",
     "text": [
      "이름\t총점\t평균\n",
      "백현우\t12\t3.0\n",
      "홍혜인\t15\t3.75\n",
      "윤은성\t12\t3.0\n",
      "홍수철\t11\t2.75\n"
     ]
    }
   ],
   "source": [
    "def create_oz_student(name, python, database, django, AWS):\n",
    "    return{\n",
    "        \"name\": name,\n",
    "        \"python\": python,\n",
    "        \"database\": database,\n",
    "        \"django\": django,\n",
    "        \"AWS\": AWS\n",
    "    }\n",
    "\n",
    "\n",
    "oz_students = [\n",
    "    create_oz_student(\"백현우\",4 ,3 ,3 ,2),\n",
    "    create_oz_student(\"홍혜인\",4 ,5 ,2 ,4),\n",
    "    create_oz_student(\"윤은성\",3 ,4 ,4 ,1),\n",
    "    create_oz_student(\"홍수철\",2 ,3 ,1 ,5)\n",
    "]\n",
    "\n",
    "#총점은 프로그래밍 활용 능력의 총합, 평균은 프로그램 활용 능력의 총합의 평균\n",
    "print(\"이름\", \"총점\", \"평균\", sep=\"\\t\")\n",
    "\n",
    "for student in oz_students:\n",
    "    ability_sum = student[\"python\"] + student[\"database\"] + student[\"django\"] +\\\n",
    "                student[\"AWS\"]\n",
    "    ability_average = ability_sum / 4\n",
    "\n",
    "    print(student[\"name\"], ability_sum, ability_average, sep=\"\\t\")"
   ]
  },
  {
   "cell_type": "markdown",
   "metadata": {},
   "source": [
    "엄청난 효율은 아니어도 매번 name, python, database, django, aws를 입력할 필요도 없고 오타 걱정도 없어졌습니다. \n",
    "\n",
    "그리고 어떤 값들이 들어가게 되는지 한눈에 파악하기도 좋아졌습니다.\n",
    "\n",
    "여기서 한번 더 코드를 개선해 보겠습니다.\n",
    "\n",
    "위에서 개선한 코드는 속성과 관련된 코드 개선이었고<br>\n",
    "총점과 평균을 구하는 기능에 대한 코드 개선을 진행해보겠습니다."
   ]
  },
  {
   "cell_type": "code",
   "execution_count": 18,
   "metadata": {},
   "outputs": [
    {
     "name": "stdout",
     "output_type": "stream",
     "text": [
      "이름\t총점\t평균\n",
      "백현우\t12\t3.0\n",
      "홍혜인\t15\t3.75\n",
      "윤은성\t12\t3.0\n",
      "홍수철\t11\t2.75\n"
     ]
    }
   ],
   "source": [
    "#객체화\n",
    "def create_oz_student(name, python, database, django, AWS):\n",
    "    return{\n",
    "        \"name\": name,\n",
    "        \"python\": python,\n",
    "        \"database\": database,\n",
    "        \"django\": django,\n",
    "        \"AWS\": AWS\n",
    "    }\n",
    "\n",
    "# 객체를 사용한 기능 처리\n",
    "def get_sum(student):\n",
    "    return student[\"python\"] + student[\"database\"] + student[\"django\"] +\\\n",
    "                student[\"AWS\"]\n",
    "\n",
    "def get_average(student):\n",
    "    return get_sum(student) / 4\n",
    "\n",
    "def to_string(student):\n",
    "    return f'{student[\"name\"]}\\t{get_sum(student)}\\t{get_average(student)}'\n",
    "\n",
    "#데이터 입력\n",
    "oz_students = [\n",
    "    create_oz_student(\"백현우\",4 ,3 ,3 ,2),\n",
    "    create_oz_student(\"홍혜인\",4 ,5 ,2 ,4),\n",
    "    create_oz_student(\"윤은성\",3 ,4 ,4 ,1),\n",
    "    create_oz_student(\"홍수철\",2 ,3 ,1 ,5)\n",
    "]\n",
    "\n",
    "#총점은 프로그래밍 활용 능력의 총합, 평균은 프로그램 활용 능력의 총합의 평균\n",
    "print(\"이름\", \"총점\", \"평균\", sep=\"\\t\")\n",
    "\n",
    "for student in oz_students:\n",
    "    print(to_string(student))"
   ]
  },
  {
   "cell_type": "markdown",
   "metadata": {},
   "source": [
    "이렇게 객체화 하는 부분과 객체의 기능을 모듈화 시킬 수 있습니다.\n",
    "\n",
    "이렇게 객체와 관련 코드를 분리할 있게 하는 것이 객체 지향 프로그램의 핵심입니다.\n",
    "\n",
    "개발자들은 이러한 객체 지향 프로그램을 반복적으로 만들다보니 이러한 구조를 자동으로 만들어줄\n",
    "무엇인가가 필요했습니다.\n",
    "\n",
    "그래서 클래스라는 구조를 만들게 되었습니다.\n",
    "\n",
    "클래스는 우리가 작성한 코드를 더 효율적으로 만들기 위한 기능이라고 생각하시면 조금 더 이해하기 쉬울겁니다.\n",
    "\n",
    "그럼 클래스를 선언하는 방법에 대해 알아보겠습니다.\n",
    "\n",
    "클래스를 선언하는 구조는 아래와 같습니다.\n",
    "\n",
    "```\n",
    "class 클래스 이름:\n",
    "    클래스 내용\n",
    "```\n",
    "\n",
    "위에서 만든 코드를 class로 만든다고 가정하고 간단한 구조만 만들어본다면 이런식으로 작성이 가능합니다.\n"
   ]
  },
  {
   "cell_type": "code",
   "execution_count": null,
   "metadata": {},
   "outputs": [],
   "source": [
    "#클래스를 선언(만들다)합니다.\n",
    "class CreateOzStudent:\n",
    "    pass\n",
    "\n",
    "#클래스 이름과 같은 함수(생성자)를 사용해서 객체를 만듭니다.\n",
    "#여기서 프로그래밍 언어로 함수(생성자)로 생성된 객체를 인스턴스라고 합니다.\n",
    "#class CreateOzStudent 클래스와 동일한 이름의 CreateOzStudent() 함수를 사용해 객체를 만드는데\n",
    "#이때 사용 CreateOzStudent() 함수를 생성자 함수라고 합니다.\n",
    "#student => 클래스를 이용해 만들어진 객체를 인스턴스라고 함 \n",
    "\n",
    "student = CreateOzStudent()\n",
    "\n",
    "oz_students = [\n",
    "    CreateOzStudent(\"백현우\",4 ,3 ,3 ,2),\n",
    "    CreateOzStudent(\"홍혜인\",4 ,5 ,2 ,4),\n",
    "    CreateOzStudent(\"윤은성\",3 ,4 ,4 ,1),\n",
    "    CreateOzStudent(\"홍수철\",2 ,3 ,1 ,5)\n",
    "]"
   ]
  },
  {
   "cell_type": "markdown",
   "metadata": {},
   "source": [
    "지금부터는 강의를 잠시 멈춰두고 아래 키워드에 대해서\n",
    "여러분들이 이해한 방식대로 정리하는 시간을 가져보시기 바랍니다.\n",
    " \n",
    "- 객체란 무엇인가요?\n",
    "- 객체를 구성하는 속성과 기능에 대해 설명해주세요\n",
    "- 추상화에 대해 설명해주세요\n",
    "- 객체 지향 프로그램에 대해 설명해주세요\n",
    "- 클래스를 선언하는 구조에 대해 설명해주세요\n",
    "- 인스턴스에 대해 설명해주세요\n",
    "\n",
    "오늘의 강의는 여기까지 입니다. \n",
    "\n",
    "수강생 여러분 강의 듣느냐 수고많으셨습니다.\n",
    "\n",
    "그럼 저는 다음 강의에서 여러분을 기다리고 있겠습니다."
   ]
  },
  {
   "cell_type": "markdown",
   "metadata": {},
   "source": []
  }
 ],
 "metadata": {
  "kernelspec": {
   "display_name": "Python 3",
   "language": "python",
   "name": "python3"
  },
  "language_info": {
   "codemirror_mode": {
    "name": "ipython",
    "version": 3
   },
   "file_extension": ".py",
   "mimetype": "text/x-python",
   "name": "python",
   "nbconvert_exporter": "python",
   "pygments_lexer": "ipython3",
   "version": "3.11.7"
  }
 },
 "nbformat": 4,
 "nbformat_minor": 2
}
