{
 "cells": [
  {
   "cell_type": "markdown",
   "metadata": {},
   "source": [
    "안녕하세요 \n",
    "\n",
    "수강생 여러분 \n",
    "\n",
    "오늘도 저와 함께 달릴 준비 되셨나요?\n",
    "\n",
    "그럼 상속에 대한 강의를 시작하겠습니다."
   ]
  },
  {
   "cell_type": "markdown",
   "metadata": {},
   "source": [
    "클래스 기반의 객체 지향 언어들은 상속이라는 기능을 지원합니다.\n",
    "\n",
    "지금 당장은 활용하기 어려운 기능입니다. 그렇기 때문에 예제를 통해 간단한 활용 방법만 알고보겠습니다.\n",
    "\n",
    "[상속]\n",
    "\n",
    "지금까지 우리가 만든 클래스(수강생 등록, 원의 둘레와 넓이를 구하기, 데이터베이스에 등록된 수강생 세기 등) 안에<br>\n",
    "일부 내용을 추가(예:수강생 삭제 기능)하거나 변경하는 것을 상속이라고 합니다.\n",
    "\n",
    "프로그래밍 언어에서 원래 클래스를 부모라고 부르고 부모 클래스를 기반으로 생성한 클래스를 자식 클래스라고 부릅니다.<br>\n",
    "그리고 이 과정을 상속이라고 합니다.\n",
    "\n",
    "[다중상속]\n",
    "\n",
    "상속은 기존 클래스의 추가나 변경을 하는 정도라면 다중 상속은 각각의 클래스에서 원하는 속성 또는 기능만<br>\n",
    "뽑아다가 사용하는것을 말합니다.\n",
    "\n",
    "\n",
    "다중 상속은 상속보다 더 어려운 기능이기에 상속에 대해서만 알아보겠습니다."
   ]
  },
  {
   "cell_type": "code",
   "execution_count": 2,
   "metadata": {},
   "outputs": [
    {
     "name": "stdout",
     "output_type": "stream",
     "text": [
      "Parent 클래스의 __init()__ 메소드가 호출되었습니다.\n",
      "Child 클래스의 __init()__ 메소드가 호출되었습니다.\n",
      "Parent 클래스의 test() 메소드입니다.\n",
      "테스트\n"
     ]
    }
   ],
   "source": [
    "#자식클래스를 만들때 사용할 부모 클래스\n",
    "class Parent:\n",
    "    def __init__(self):\n",
    "        self.value = \"테스트\"\n",
    "        print(\"Parent 클래스의 __init()__ 메소드가 호출되었습니다.\")\n",
    "    def test(self):\n",
    "        print(\"Parent 클래스의 test() 메소드입니다.\")\n",
    "\n",
    "#Parent 클래스를 매개변수로 넣어 자식 클래스를 만듭니다. -> 상속\n",
    "class Child(Parent):\n",
    "    def __init__(self):\n",
    "        super().__init__() #부모 클래스가 가지고 있는 __init__()함수를 호출합니다.\n",
    "        print(\"Child 클래스의 __init()__ 메소드가 호출되었습니다.\")\n",
    "\n",
    "#자식 클래스의 인스턴스를 생성합니다.\n",
    "child = Child()\n",
    "#부모 클래스에 있는 메소드를 호출합니다.\n",
    "child.test()\n",
    "#부모 클래스에 있는 속성을 출력합니다.\n",
    "print(child.value)"
   ]
  },
  {
   "cell_type": "markdown",
   "metadata": {},
   "source": [
    "Child 클래스 내부에는 아무것도 없는데, Parent 클래스의 상속을 받았으므로 Parent 클래스가 가지고 있는<br>\n",
    "함수와 변수를 활용할 수 있게 되었습니다.\n",
    "\n",
    "상속과 관련된 내용은 실무에서 주로 다루며 여러분이 공부하는 동안의 사용할 일이 거의 없다고 보시면 됩니다.\n",
    "\n",
    "그렇기 때문에 상속이 무엇인지 정도만 알고 넘어가셔도 이후 과정을 수강하는데 전혀 문제가 없다는것을 꼭 알아두셨으면 합니다.\n",
    "\n",
    "만일 상속에 대한 공부가 더 필요하시다면 구글링을 통해 여러 예시로 작성된 많은 코드를 찾아보고 뜯어보면 도움이 되실 겁니다."
   ]
  },
  {
   "cell_type": "markdown",
   "metadata": {},
   "source": [
    "오늘의 강의는 여기까지 입니다. \n",
    "\n",
    "수강생 여러분 강의 듣느냐 수고 많으셨습니다.\n",
    "\n",
    "그럼 저는 다음 강의에서 여러분을 기다리고 있겠습니다."
   ]
  },
  {
   "cell_type": "markdown",
   "metadata": {},
   "source": []
  }
 ],
 "metadata": {
  "kernelspec": {
   "display_name": "Python 3",
   "language": "python",
   "name": "python3"
  },
  "language_info": {
   "codemirror_mode": {
    "name": "ipython",
    "version": 3
   },
   "file_extension": ".py",
   "mimetype": "text/x-python",
   "name": "python",
   "nbconvert_exporter": "python",
   "pygments_lexer": "ipython3",
   "version": "3.11.7"
  }
 },
 "nbformat": 4,
 "nbformat_minor": 2
}
