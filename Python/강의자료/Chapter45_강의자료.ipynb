{
 "cells": [
  {
   "cell_type": "markdown",
   "metadata": {},
   "source": [
    "안녕하세요 \n",
    "\n",
    "수강생 여러분 \n",
    "\n",
    "오늘도 저와 함께 달릴 준비 되셨나요?\n",
    "\n",
    "그럼 클래스 변수와 메소드에 대한 강의를 시작하겠습니다."
   ]
  },
  {
   "cell_type": "markdown",
   "metadata": {},
   "source": [
    "클래스 변수를 만드는 방법과 변수에 접근하는 방법은 아래와 같습니다.\n",
    "\n",
    "\n",
    "<span style=\"color:red\">[클래스 변수 만들기]</span>\n",
    "```\n",
    "class 클래스 이름:\n",
    "    클래스 변수 = 값\n",
    "```\n",
    "\n",
    "----\n",
    "\n",
    "<span style=\"color:red\">[클래스 변수에 접근하기]</span>\n",
    "```\n",
    "클래스 이름.변수 이름\n",
    "```\n",
    "\n",
    "기존 코드를 개선해서 학생 수를 세어보는 기능을 추가해보겠습니다."
   ]
  },
  {
   "cell_type": "code",
   "execution_count": 2,
   "metadata": {},
   "outputs": [
    {
     "name": "stdout",
     "output_type": "stream",
     "text": [
      "1번째 수강생의 정보가 추가되었습니다.\n",
      "2번째 수강생의 정보가 추가되었습니다.\n",
      "3번째 수강생의 정보가 추가되었습니다.\n",
      "4번째 수강생의 정보가 추가되었습니다.\n",
      "\n",
      "현재 데이터가 입력된 총 수강생은 4입니다.\n"
     ]
    }
   ],
   "source": [
    "# __ 은 언더바('_') 두개 입니다.\n",
    "class CreateOzStudent:\n",
    "\n",
    "    count = 0\n",
    "\n",
    "    def __init__(self, name, python, database, django, AWS):#name, python 등은 식별자\n",
    "        self.name = name#self가 가지고 있는 속성과 기능에 접근하는 방법 self.식별자\n",
    "        self.python = python\n",
    "        self.database = database\n",
    "        self.django = django\n",
    "        self.AWS = AWS\n",
    "\n",
    "        CreateOzStudent.count += 1\n",
    "        print(f'{CreateOzStudent.count}번째 수강생의 정보가 추가되었습니다.')\n",
    "\n",
    "#데이터 입력\n",
    "oz_students = [\n",
    "    CreateOzStudent(\"백현우\",4 ,3 ,3 ,2),#CreateOzStudent() 생성자를 이용해 리스트 안에 데이터 생성\n",
    "    CreateOzStudent(\"홍혜인\",4 ,5 ,2 ,4),\n",
    "    CreateOzStudent(\"윤은성\",3 ,4 ,4 ,1),\n",
    "    CreateOzStudent(\"홍수철\",2 ,3 ,1 ,5)\n",
    "]\n",
    "\n",
    "print()\n",
    "print(f'현재 데이터가 입력된 총 수강생은 {CreateOzStudent.count}입니다.')"
   ]
  },
  {
   "cell_type": "markdown",
   "metadata": {},
   "source": [
    "생성하는 방법은 일반 변수와 다르지 않아 어렵지는 않지만,<br>\n",
    "차이가 있다면 클래스 안에 변수를 생성했기 때문에 사용시 [클래스 이름.변수 이름]으로 사용해야 됩니다."
   ]
  },
  {
   "cell_type": "markdown",
   "metadata": {},
   "source": [
    "클래스 변수 외에도 함수도 마찬가지 입니다.\n",
    "\n",
    "다만, 클래스 안에 함수를 만드는 방법은 조금 다릅니다.\n",
    "\n",
    "@classmethod라는 데코레이터를 이용합니다. 함수에서 사용된 함수 데코레이터와 만드는 방법은 동일하나 명칭은 클래스 데코레이터입니다.\n",
    "\n",
    "클래스 데코레이터를 사용해 클래스 함수를 만드는 구문은 아래와 같습니다.\n",
    "\n",
    "```\n",
    "class 클래스 이름:\n",
    "    @classmethod\n",
    "    def 클래스 함수(cls, 매개변수):\n",
    "        pass\n",
    "```\n",
    "\n",
    "그리고 클래스 함수를 호출하는 방법은 아래와 같습니다.\n",
    "```\n",
    "클래스 이름.함수 이름(매개변수)\n",
    "```\n",
    "\n",
    "클래스 함수를 만들어보는 코드를 작성해 보겠습니다."
   ]
  },
  {
   "cell_type": "code",
   "execution_count": null,
   "metadata": {},
   "outputs": [],
   "source": [
    "# 기존 코드\n",
    "# __ 은 언더바('_') 두개 입니다.\n",
    "class CreateOzStudent:\n",
    "    def __init__(self, name, python, database, django, AWS):#name, python 등은 식별자\n",
    "        self.name = name#self가 가지고 있는 속성과 기능에 접근하는 방법 self.식별자\n",
    "        self.python = python\n",
    "        self.database = database\n",
    "        self.django = django\n",
    "        self.AWS = AWS\n",
    "\n",
    "    def get_sum(self):\n",
    "        return self.python + self.database + self.django + self.AWS\n",
    "    \n",
    "    def get_average(self):\n",
    "        return self.get_sum() / 4\n",
    "    \n",
    "    def __str__(self):\n",
    "        return f'{self.name}\\t{self.get_sum()}\\t{self.get_average()}'\n",
    "\n",
    "#데이터 입력\n",
    "oz_students = [\n",
    "    CreateOzStudent(\"백현우\",4 ,3 ,3 ,2),#CreateOzStudent() 생성자를 이용해 리스트 안에 데이터 생성\n",
    "    CreateOzStudent(\"홍혜인\",4 ,5 ,2 ,4),\n",
    "    CreateOzStudent(\"윤은성\",3 ,4 ,4 ,1),\n",
    "    CreateOzStudent(\"홍수철\",2 ,3 ,1 ,5)\n",
    "]\n",
    "\n",
    "print(\"이름\", \"총점\", \"평균\", sep=\"\\t\")\n",
    "\n",
    "for student in oz_students:\n",
    "    print(str(student))"
   ]
  },
  {
   "cell_type": "code",
   "execution_count": 8,
   "metadata": {},
   "outputs": [
    {
     "name": "stdout",
     "output_type": "stream",
     "text": [
      "수강생 데이터베이스 정보\n",
      "이름\t총점\t평균\n",
      "백현우\t12\t3.0\n",
      "홍혜인\t15\t3.75\n",
      "윤은성\t12\t3.0\n",
      "홍수철\t11\t2.75\n"
     ]
    }
   ],
   "source": [
    "# 클래스 함수를 사용한 코드\n",
    "# __ 은 언더바('_') 두개 입니다.\n",
    "class CreateOzStudent:\n",
    "    students = []\n",
    "\n",
    "    @classmethod\n",
    "    def print(cls):\n",
    "        print(\"수강생 데이터베이스 정보\")\n",
    "        print(\"이름\\t총점\\t평균\")\n",
    "        for student in cls.students:\n",
    "            print(str(student))\n",
    "\n",
    "    def __init__(self, name, python, database, django, AWS):#name, python 등은 식별자\n",
    "        self.name = name#self가 가지고 있는 속성과 기능에 접근하는 방법 self.식별자\n",
    "        self.python = python\n",
    "        self.database = database\n",
    "        self.django = django\n",
    "        self.AWS = AWS\n",
    "        CreateOzStudent.students.append(self)\n",
    "\n",
    "    def get_sum(self):\n",
    "        return self.python + self.database + self.django + self.AWS\n",
    "    \n",
    "    def get_average(self):\n",
    "        return self.get_sum() / 4\n",
    "    \n",
    "    def __str__(self):\n",
    "        return f'{self.name}\\t{self.get_sum()}\\t{self.get_average()}'\n",
    "\n",
    "#데이터 입력\n",
    "CreateOzStudent(\"백현우\",4 ,3 ,3 ,2)#CreateOzStudent() 생성자를 이용해 리스트 안에 데이터 생성\n",
    "CreateOzStudent(\"홍혜인\",4 ,5 ,2 ,4)\n",
    "CreateOzStudent(\"윤은성\",3 ,4 ,4 ,1)\n",
    "CreateOzStudent(\"홍수철\",2 ,3 ,1 ,5)\n",
    "\n",
    "CreateOzStudent.print()"
   ]
  },
  {
   "cell_type": "markdown",
   "metadata": {},
   "source": [
    "class로 인스턴스를 생성하게 되면 class안에 선언된 내부함수(매개변수에 self가 들어간 값)가 자동으로 호출됩니다.\n",
    "\n",
    "그리고 클래스 함수는 CreateOzStudent.함수명()으로 실행할 수 있습니다.\n",
    "\n",
    "내용이 많이 어려울 수 있습니다. \n",
    "\n",
    "지금 배우는 모든것은 이미 개발된 코드의 작동방법 해석이라던지<br> \n",
    "여러분들이 코드 작성시 필요한 개념일 수 있습니다. \n",
    "\n",
    "이 모든걸 다 이해하고 사용하면 너무나 좋곘지만 그건 주니어급 3년차 미만 주니어 개발자들도 쉽지 않습니다.\n",
    "\n",
    "그렇기 때문에 개념에 대해 먼저 최대한 이해하려고 노력하시고<br>\n",
    "그 다음에는 미니 프로젝트를 기획 후 최대한 이해한 개념을 활용해 보도록 합니다."
   ]
  },
  {
   "cell_type": "markdown",
   "metadata": {},
   "source": [
    "오늘의 강의는 여기까지 입니다. \n",
    "\n",
    "수강생 여러분 강의 듣느냐 수고 많으셨습니다.\n",
    "\n",
    "그럼 저는 다음 강의에서 여러분을 기다리고 있겠습니다."
   ]
  },
  {
   "cell_type": "markdown",
   "metadata": {},
   "source": []
  }
 ],
 "metadata": {
  "kernelspec": {
   "display_name": "Python 3",
   "language": "python",
   "name": "python3"
  },
  "language_info": {
   "codemirror_mode": {
    "name": "ipython",
    "version": 3
   },
   "file_extension": ".py",
   "mimetype": "text/x-python",
   "name": "python",
   "nbconvert_exporter": "python",
   "pygments_lexer": "ipython3",
   "version": "3.11.7"
  }
 },
 "nbformat": 4,
 "nbformat_minor": 2
}
