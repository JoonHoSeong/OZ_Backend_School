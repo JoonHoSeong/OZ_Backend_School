{
 "cells": [
  {
   "cell_type": "markdown",
   "metadata": {},
   "source": [
    "[try except 구문]\n",
    "\n",
    "- 모든 예외처리 사항을 조건문으로 처리하는건 굉장히 귀찮고 어려운 문제\n",
    "- try except 구문으로 예외처리 진행"
   ]
  },
  {
   "cell_type": "markdown",
   "metadata": {},
   "source": [
    "try except 구문 기본 구조\n",
    "\n",
    "```\n",
    "try:\n",
    "    예외가 발생할 가능성이 있는 코드\n",
    "except\n",
    "    예외가 발생했을 때 실행할 코드\n",
    "```"
   ]
  },
  {
   "cell_type": "code",
   "execution_count": null,
   "metadata": {},
   "outputs": [],
   "source": [
    "# 조건문으로 예외처리한 코드\n",
    "# x=3cm, y=5cm\n",
    "x, y = input(\"밑변과 높이를 입력해주세요\").split(\" \")\n",
    "\n",
    "if x.isdigit() and y.isdigit():\n",
    "    # 계산결과 출력\n",
    "    x , y = int(x), int(y)\n",
    "    print(f'삼각형의 넓이는 {x*y/2}입니다.')\n",
    "else:\n",
    "    print(\"정수로 입력하지 않아 계산이 불가합니다.\")"
   ]
  },
  {
   "cell_type": "code",
   "execution_count": 1,
   "metadata": {},
   "outputs": [
    {
     "name": "stdout",
     "output_type": "stream",
     "text": [
      "정수로 입력하지 않아 계산이 불가합니다.\n"
     ]
    }
   ],
   "source": [
    "# x=3cm, y=5cm\n",
    "try:\n",
    "    x, y = map(int, input(\"밑변과 높이를 입력해주세요\").split(\" \"))\n",
    "\n",
    "    # 계산결과 출력\n",
    "    print(f'삼각형의 넓이는 {x*y/2}입니다.')\n",
    "except:\n",
    "    print(\"정수로 입력하지 않아 계산이 불가합니다.\")"
   ]
  },
  {
   "cell_type": "markdown",
   "metadata": {},
   "source": [
    "try except 구문과 pass 키워드 조합 구조\n",
    "\n",
    "- 예외가 발생하더라도 지금 당장 처리하지 않아도 되는 부분이라면 pass 키워드를 사용할 수 있음\n",
    "\n",
    "```\n",
    "try:\n",
    "    예외가 발생할 가능성이 있는 코드\n",
    "except\n",
    "    pass\n",
    "```"
   ]
  },
  {
   "cell_type": "code",
   "execution_count": 4,
   "metadata": {},
   "outputs": [
    {
     "name": "stdout",
     "output_type": "stream",
     "text": [
      "['1', '7', '3', '마피아', '4'] 내부에 있는 숫자는\n",
      "['1', '7', '3', '4']입니다.\n"
     ]
    }
   ],
   "source": [
    "list_input = [\"1\", \"7\", \"3\", \"마피아\", \"4\"]\n",
    "\n",
    "list_number = []\n",
    "\n",
    "for item in list_input:\n",
    "    try:\n",
    "        int(item)\n",
    "        list_number.append(item)\n",
    "    except:\n",
    "        pass\n",
    "\n",
    "print(f'{list_input} 내부에 있는 숫자는')\n",
    "print(f'{list_number}입니다.')"
   ]
  },
  {
   "cell_type": "markdown",
   "metadata": {},
   "source": [
    "try except 구문과 else 키워드 조합 구조\n",
    "\n",
    "- else 구문을 붙여서 사용하면 '예외가 발행하지 않았을 때 실행할 코드를 지정할 수 있습니다.\n",
    "\n",
    "```\n",
    "try:\n",
    "    예외가 발생할 가능성이 있는 코드\n",
    "except:\n",
    "    예외가 발생했을 때 실행할 코드\n",
    "else:\n",
    "    예외가 발생하지 않았을 때 실행할 코드\n",
    "```"
   ]
  },
  {
   "cell_type": "code",
   "execution_count": 6,
   "metadata": {},
   "outputs": [
    {
     "name": "stdout",
     "output_type": "stream",
     "text": [
      "정수로 입력하지 않아 계산이 불가합니다.\n"
     ]
    }
   ],
   "source": [
    "# x=3cm, y=5cm\n",
    "try:\n",
    "    x, y = map(int, input(\"밑변과 높이를 입력해주세요\").split(\" \"))\n",
    "\n",
    "except:\n",
    "    print(\"정수로 입력하지 않아 계산이 불가합니다.\")\n",
    "\n",
    "else:\n",
    "    # 계산결과 출력\n",
    "    print(f'삼각형의 넓이는 {x*y/2}입니다.')"
   ]
  },
  {
   "cell_type": "markdown",
   "metadata": {},
   "source": [
    "finally 구문\n",
    "\n",
    "- 예외 처리 구문에서 가장 마지막에 사용할 수 있는 구문\n",
    "- 예외가 발생하든 발생하지 않든 무조건 실행할 때 사용하는 코드\n",
    "\n",
    "```\n",
    "try:\n",
    "    예외가 발생할 가능성이 있는 코드\n",
    "except:\n",
    "    예외가 발생했을 때 실행할 코드\n",
    "else:\n",
    "    예외가 발생하지 않았을 때 실행할 코드\n",
    "finally:\n",
    "    무조건 실행할 코드\n",
    "```"
   ]
  },
  {
   "cell_type": "code",
   "execution_count": 7,
   "metadata": {},
   "outputs": [
    {
     "name": "stdout",
     "output_type": "stream",
     "text": [
      "삼각형의 넓이는 7.5입니다.\n",
      "계산이 정상적으로 잘 된것 같습니다.\n",
      "프로그램이 종료 되었습니다.\n"
     ]
    }
   ],
   "source": [
    "# x=3, y=5\n",
    "try:\n",
    "    x, y = map(int, input(\"밑변과 높이를 입력해주세요\").split(\" \"))\n",
    "\n",
    "    # 계산결과 출력\n",
    "    print(f'삼각형의 넓이는 {x*y/2}입니다.')\n",
    "except:\n",
    "    print(\"정수로 입력하지 않아 계산이 불가합니다.\")\n",
    "else:\n",
    "    print(\"계산이 정상적으로 되었습니다.\")\n",
    "finally:\n",
    "    print(\"프로그램이 종료 되었습니다.\")"
   ]
  },
  {
   "cell_type": "code",
   "execution_count": 8,
   "metadata": {},
   "outputs": [
    {
     "name": "stdout",
     "output_type": "stream",
     "text": [
      "정수로 입력하지 않아 계산이 불가합니다.\n",
      "프로그램이 종료 되었습니다.\n"
     ]
    }
   ],
   "source": [
    "# x=3cm, y=5cm\n",
    "try:\n",
    "    x, y = map(int, input(\"밑변과 높이를 입력해주세요\").split(\" \"))\n",
    "\n",
    "    # 계산결과 출력\n",
    "    print(f'삼각형의 넓이는 {x*y/2}입니다.')\n",
    "except:\n",
    "    print(\"정수로 입력하지 않아 계산이 불가합니다.\")\n",
    "else:\n",
    "    print(\"계산이 정상적으로 되었습니다.\")\n",
    "finally:\n",
    "    print(\"프로그램이 종료 되었습니다.\")"
   ]
  },
  {
   "cell_type": "markdown",
   "metadata": {},
   "source": [
    "참고로 return 구문으로 함수를 빠져나와도 finally 구문이 있다면 finally 구문이 실행됩니다.<br>\n",
    "또한, 반복문의 break문을 만나 빠져나와도 finally 구문이 있다면 finally 구문이 실행됩니다.\n",
    "\n",
    "try, except, finally 구문의 조합 규칙\n",
    "\n",
    "- try ~ except\n",
    "- try ~ except ~ else\n",
    "- try ~ except ~ finally\n",
    "- try ~ except ~ else ~ finally\n",
    "- try ~ finally\n",
    "\n",
    "이 외 조합으로 구성할 경우 오류 발생\n",
    "\n",
    "지금부터는 강의를 잠시 멈춰두고 아래 2가지 키워드에 대해서\n",
    "여러분들이 이해한 방식대로 정리하는 시간을 가져보시기 바랍니다.\n",
    " \n",
    "- try ~ except 구문 사용 이유와 방법을 설명해주세요\n",
    "- finally 구문의 기능과 특징을 설명해주세요"
   ]
  }
 ],
 "metadata": {
  "kernelspec": {
   "display_name": "Python 3",
   "language": "python",
   "name": "python3"
  },
  "language_info": {
   "codemirror_mode": {
    "name": "ipython",
    "version": 3
   },
   "file_extension": ".py",
   "mimetype": "text/x-python",
   "name": "python",
   "nbconvert_exporter": "python",
   "pygments_lexer": "ipython3",
   "version": "3.11.7"
  }
 },
 "nbformat": 4,
 "nbformat_minor": 2
}
