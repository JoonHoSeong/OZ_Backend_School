{
 "cells": [
  {
   "cell_type": "markdown",
   "metadata": {},
   "source": [
    "제너레이터는 이터레이터를 생성하는 객체입니다.<br>\n",
    "<span style=\"color:grey\">(이터레이터 : 순서대로 다음 값을 리턴할 수 있는 객체로 자체적으로 내장하고 있는 next 메서드를 통해 다음 값을 가져올 수 있습니다.)</span>\n",
    "\n",
    "제너레이터는 함수안에 yield 키워드를 사용해 만들 수 있습니다.\n",
    "\n",
    "특이하게 함수 안에 yield라는 키워드가 어떤 동작을 하든 하지 않든 있기만 해도 제너레이터로 인식됩니다.\n",
    "\n",
    "단, 제너레이터 함수가 되면 호출해도 함수 내부의 코드가 작동하지 않습니다.\n",
    "\n",
    "아래 코드로 확인해 보겠습니다."
   ]
  },
  {
   "cell_type": "code",
   "execution_count": 1,
   "metadata": {},
   "outputs": [
    {
     "name": "stdout",
     "output_type": "stream",
     "text": [
      "첫번째 출력\n",
      "두번째 출력\n",
      "<generator object test at 0x103ec7400>\n"
     ]
    }
   ],
   "source": [
    "def test():\n",
    "    print(\"제너레이터 실습 코드입니다.\")\n",
    "    yield \"test\"\n",
    "\n",
    "print(\"첫번째 출력\")\n",
    "test()\n",
    "\n",
    "print(\"두번째 출력\")\n",
    "test()\n",
    "\n",
    "print(test())"
   ]
  },
  {
   "cell_type": "markdown",
   "metadata": {},
   "source": [
    "\n",
    "기존대로라면 test() 함수를 호출하면 제너레이터 실습 코드입니다가 출력되어야 하나 출력되지 않았습니다.\n",
    "\n",
    "test() 함수안에 yield 키워드로 인해 제너레이터 함수가 되었고 \n",
    "\n",
    "그로 인해 함수를 호출해도 함수 내부의 코드가 실행되지 않는 것입니다.\n",
    "\n",
    "그러나 print()문으로 test()함수를 출력해보면 제너레이터로 출력됩니다.\n",
    "\n",
    "\n",
    "제너레이터는 어떻게 실행할 수 있을까요?<br>\n",
    "제너레이터 객체는 next() 함수를 사용해 함수 내부의 코드를 실행할 수 있습니다.\n",
    "\n",
    "next() 함수를 실행하면 yield 키워드 부분까지만 실행이 됩니다.\n",
    "다시 한번 코드를 통해 이부분을 확인해 보겠습니다."
   ]
  },
  {
   "cell_type": "markdown",
   "metadata": {},
   "source": []
  },
  {
   "cell_type": "code",
   "execution_count": 2,
   "metadata": {},
   "outputs": [
    {
     "name": "stdout",
     "output_type": "stream",
     "text": [
      "네번째 출력\n",
      "첫번째 출력\n",
      "1\n",
      "다섯번째 출력\n",
      "두번째 출력\n",
      "2\n",
      "여섯번째 출력\n",
      "세번째 출력\n"
     ]
    },
    {
     "ename": "StopIteration",
     "evalue": "",
     "output_type": "error",
     "traceback": [
      "\u001b[0;31m---------------------------------------------------------------------------\u001b[0m",
      "\u001b[0;31mStopIteration\u001b[0m                             Traceback (most recent call last)",
      "Cell \u001b[0;32mIn[2], line 17\u001b[0m\n\u001b[1;32m     15\u001b[0m \u001b[38;5;28mprint\u001b[39m(y)\n\u001b[1;32m     16\u001b[0m \u001b[38;5;28mprint\u001b[39m(\u001b[38;5;124m\"\u001b[39m\u001b[38;5;124m여섯번째 출력\u001b[39m\u001b[38;5;124m\"\u001b[39m)\n\u001b[0;32m---> 17\u001b[0m z \u001b[38;5;241m=\u001b[39m \u001b[38;5;28;43mnext\u001b[39;49m\u001b[43m(\u001b[49m\u001b[43moutput\u001b[49m\u001b[43m)\u001b[49m\n\u001b[1;32m     18\u001b[0m \u001b[38;5;28mprint\u001b[39m(z)\n",
      "\u001b[0;31mStopIteration\u001b[0m: "
     ]
    }
   ],
   "source": [
    "def test():\n",
    "    print(\"첫번째 출력\")\n",
    "    yield 1\n",
    "    print(\"두번째 출력\")\n",
    "    yield 2\n",
    "    print(\"세번째 출력\")\n",
    "\n",
    "output = test()\n",
    "print(\"네번째 출력\")\n",
    "\n",
    "x = next(output)\n",
    "print(x)\n",
    "print(\"다섯번째 출력\")\n",
    "y = next(output)\n",
    "print(y)\n",
    "print(\"여섯번째 출력\")\n",
    "z = next(output)\n",
    "print(z)"
   ]
  },
  {
   "cell_type": "markdown",
   "metadata": {},
   "source": [
    "위 실행 결과를 보면 next() 함수를 만나면 yield 키워드를 만날때까지 실행됩니다.<br>\n",
    "첫번째 yield 1을 만나기 전까지 첫번쨰 출력이라는 print문이 작동하고 yield의 값 1이 리턴됩니다.\n",
    "\n",
    "이후 세번쨰 next(output)이 실행되는데 test() 함수안에 yield가 2개 밖에 없기 때문에 세번쨰 실행 시 StopIteration이라는 예외가 발생합니다.\n",
    "\n",
    "제일 궁금한점은 제너레이터는 언제 사용하는가 입니다.<br>\n",
    "위 사용방법 처럼 조금 실행해야되는 상황에서 자주 사용됩니다. \n",
    "\n",
    "조금씩 실행시키게 되면 함수 전체를 실행하지 않아도 되기 때문에 메모리를 효율적으로 사용할 수 있게 됩니다.\n",
    "\n",
    "지금부터는 강의를 잠시 멈춰두고 아래 3가지 키워드에 대해서\n",
    "여러분들이 이해한 방식대로 정리하는 시간을 가져보시기 바랍니다.\n",
    " \n",
    "- 이터레이터와 제너레이터에 대해 설명해주세요\n",
    "- 제너레이터 함수를 만드는 방법에 대해 설명해주세요\n",
    "- 제너레이터 함수를 실행하는 방법에 대해 설명해주세요"
   ]
  },
  {
   "cell_type": "markdown",
   "metadata": {},
   "source": []
  }
 ],
 "metadata": {
  "kernelspec": {
   "display_name": "Python 3",
   "language": "python",
   "name": "python3"
  },
  "language_info": {
   "codemirror_mode": {
    "name": "ipython",
    "version": 3
   },
   "file_extension": ".py",
   "mimetype": "text/x-python",
   "name": "python",
   "nbconvert_exporter": "python",
   "pygments_lexer": "ipython3",
   "version": "3.11.7"
  }
 },
 "nbformat": 4,
 "nbformat_minor": 2
}
