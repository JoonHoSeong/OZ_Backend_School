{
 "cells": [
  {
   "cell_type": "markdown",
   "metadata": {},
   "source": [
    "앞서 우리는 함수에 매개변수를 전달받아 실행하는 코드를 작성했습니다.\n",
    "\n",
    "기존에 방식 외 함수는 더 놀라운것들을 매개변수로 받아올 수 있습니다.<br>\n",
    "바로, 함수 자체를 매개변수로 받을 수 있다는 사실입니다.\n",
    "\n",
    "이렇게 함수 자체를 매개변수로 사용하기 쉽도록 돕는 기능이 람다입니다.\n",
    "\n",
    "우선, 함수의 매개변수로 함수를 전달하는 방법에 대한 코드를 보겠습니다.<br>\n",
    "(함수의 매개변수로 사용되는 함수를 <span style=\"color:red\">콜백 함수</span>라고 합니다.)"
   ]
  },
  {
   "cell_type": "code",
   "execution_count": 1,
   "metadata": {},
   "outputs": [
    {
     "name": "stdout",
     "output_type": "stream",
     "text": [
      "파이썬 이건 또 무슨 개념이야?\n",
      "파이썬 이건 또 무슨 개념이야?\n",
      "파이썬 이건 또 무슨 개념이야?\n",
      "파이썬 이건 또 무슨 개념이야?\n",
      "파이썬 이건 또 무슨 개념이야?\n"
     ]
    }
   ],
   "source": [
    "def oz_call(function):\n",
    "    for i in range(5):\n",
    "        function()\n",
    "\n",
    "def talk():\n",
    "    print(\"파이썬 이건 또 무슨 개념이야?\")\n",
    "\n",
    "oz_call(talk)"
   ]
  },
  {
   "cell_type": "markdown",
   "metadata": {},
   "source": [
    "함수를 매개변수로 사용하는 대표적인 내장 함수로 map() 함수와 filter() 함수가 있습니다.\n",
    "\n",
    "map() : 리스트의 요소를 함수에 넣고 리턴된 값으로 새로운 리스트를 구성해 줌<br>\n",
    "filter() : 리스트의 요소를 함수에 넣고 리턴된 값이 True인 값만을 새로운 리스트를 구성해 줌"
   ]
  },
  {
   "cell_type": "code",
   "execution_count": 2,
   "metadata": {},
   "outputs": [
    {
     "name": "stdout",
     "output_type": "stream",
     "text": [
      "map 결과: <map object at 0x107536500>\n",
      "map 결과의 list 형변환: [1, 4, 9, 16, 25, 36, 49, 64, 81, 100]\n"
     ]
    }
   ],
   "source": [
    "#자기 자신을 곱합 결과를 새로운 list를 만들어주는 map() 함수 코드\n",
    "def square(i):\n",
    "    return i * i\n",
    "\n",
    "numbers_list = [1,2,3,4,5,6,7,8,9,10]\n",
    "\n",
    "result = map(square, numbers_list)\n",
    "\n",
    "print(\"map 결과:\", result)\n",
    "print(\"map 결과의 list 형변환:\", list(result))"
   ]
  },
  {
   "cell_type": "code",
   "execution_count": 3,
   "metadata": {},
   "outputs": [
    {
     "name": "stdout",
     "output_type": "stream",
     "text": [
      "map 결과: <filter object at 0x1075afeb0>\n",
      "map 결과의 list 형변환: [1, 2, 3, 4]\n"
     ]
    }
   ],
   "source": [
    "#조건에 맞는 값만을 이용해 새로운 list를 만들어주는 filter()함수 코드\n",
    "def under(i):\n",
    "    return i < 5\n",
    "\n",
    "numbers_list = [1,2,3,4,5,6,7,8,9,10]\n",
    "\n",
    "result = filter(under, numbers_list)\n",
    "\n",
    "print(\"map 결과:\", result)\n",
    "print(\"map 결과의 list 형변환:\", list(result))"
   ]
  },
  {
   "cell_type": "markdown",
   "metadata": {},
   "source": [
    "<map object at 0x10992afe0>, <filter object at 0x10992be50>는 제너레이터라고 부릅니다.\n",
    "\n",
    "지금까지 콜백 함수를 효율적으로 사용할 수 있도록 도와주는 map(), filter에 대해 알아보았습니다.\n",
    "\n",
    "지금부터 람다에 대해 알아보곘습니다.\n",
    "\n",
    "lambda : 간단한 함수를 쉽게 선언하는 방법으로 이름이 없는 익명함수를 만들 수 있습니다.<br>\n",
    "lambda 매개변수 : 리턴값\n",
    "\n",
    "구조가 굉장히 간단합니다.<br>\n",
    "이전 코드에 lambda를 활용해보겠습니다."
   ]
  },
  {
   "cell_type": "code",
   "execution_count": 4,
   "metadata": {},
   "outputs": [
    {
     "name": "stdout",
     "output_type": "stream",
     "text": [
      "map 결과: <map object at 0x107537d00>\n",
      "map 결과의 list 형변환: [1, 4, 9, 16, 25, 36, 49, 64, 81, 100]\n"
     ]
    }
   ],
   "source": [
    "square = lambda i : i * i \n",
    "\n",
    "numbers_list = [1,2,3,4,5,6,7,8,9,10]\n",
    "\n",
    "result = map(square, numbers_list)\n",
    "\n",
    "print(\"map 결과:\", result)\n",
    "print(\"map 결과의 list 형변환:\", list(result))"
   ]
  },
  {
   "cell_type": "code",
   "execution_count": 5,
   "metadata": {},
   "outputs": [
    {
     "name": "stdout",
     "output_type": "stream",
     "text": [
      "map 결과: <filter object at 0x107537f40>\n",
      "map 결과의 list 형변환: [1, 2, 3, 4]\n"
     ]
    }
   ],
   "source": [
    "under = lambda i : i < 5\n",
    "\n",
    "numbers_list = [1,2,3,4,5,6,7,8,9,10]\n",
    "\n",
    "result = filter(under, numbers_list)\n",
    "\n",
    "print(\"map 결과:\", result)\n",
    "print(\"map 결과의 list 형변환:\", list(result))"
   ]
  },
  {
   "cell_type": "markdown",
   "metadata": {},
   "source": [
    "기존 함수를 lambda를 변경해 보았지만 코드가 획기적으로 개선되지는 않았습니다.<br>\n",
    "람다 함수가 결과값을 바로 return하기 때문에 이렇게도 사용이 가능합니다."
   ]
  },
  {
   "cell_type": "code",
   "execution_count": 6,
   "metadata": {},
   "outputs": [
    {
     "name": "stdout",
     "output_type": "stream",
     "text": [
      "map 결과 : <map object at 0x1075af130>\n",
      "map 결과의 list 형변환: [1, 4, 9, 16, 25, 36, 49, 64, 81, 100]\n"
     ]
    }
   ],
   "source": [
    "numbers_list = [1,2,3,4,5,6,7,8,9,10]\n",
    "\n",
    "result = map(lambda i : i * i, numbers_list)\n",
    "print(\"map 결과 :\", result)\n",
    "print(\"map 결과의 list 형변환:\", list(result))"
   ]
  },
  {
   "cell_type": "code",
   "execution_count": 7,
   "metadata": {},
   "outputs": [
    {
     "name": "stdout",
     "output_type": "stream",
     "text": [
      "map 결과: <filter object at 0x1075afdf0>\n",
      "map 결과의 list 형변환: [1, 2, 3, 4]\n"
     ]
    }
   ],
   "source": [
    "numbers_list = [1,2,3,4,5,6,7,8,9,10]\n",
    "\n",
    "result = filter(lambda i : i < 5, numbers_list)\n",
    "\n",
    "print(\"map 결과:\", result)\n",
    "print(\"map 결과의 list 형변환:\", list(result))"
   ]
  },
  {
   "cell_type": "markdown",
   "metadata": {},
   "source": [
    "filter(), map() 함수에 매개변수로 함수가 들어갔다는걸 확인하기에도 편하고 코드도 좀 더 간편해졌습니다.\n",
    "\n",
    "지금부터는 강의를 잠시 멈춰두고 아래 3가지 키워드에 대해서\n",
    "여러분들이 이해한 방식대로 정리하는 시간을 가져보시기 바랍니다.\n",
    " \n",
    "- map(), filter() 함수의 기능에 대해 설명해주세요\n",
    "- lambda를 사용하는 이유에 대해 설명해주세요\n",
    "- lambda를 이용해 함수를 만드는 방법에 대해 설명해주세요"
   ]
  },
  {
   "cell_type": "markdown",
   "metadata": {},
   "source": []
  }
 ],
 "metadata": {
  "kernelspec": {
   "display_name": "Python 3",
   "language": "python",
   "name": "python3"
  },
  "language_info": {
   "codemirror_mode": {
    "name": "ipython",
    "version": 3
   },
   "file_extension": ".py",
   "mimetype": "text/x-python",
   "name": "python",
   "nbconvert_exporter": "python",
   "pygments_lexer": "ipython3",
   "version": "3.11.7"
  }
 },
 "nbformat": 4,
 "nbformat_minor": 2
}
