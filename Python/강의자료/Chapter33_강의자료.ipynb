{
 "cells": [
  {
   "cell_type": "markdown",
   "metadata": {},
   "source": [
    "오류의 종류\n",
    "\n",
    "프로그램 언어의 오류에는 크게 두 가지 종류가 있습니다.\n",
    "\n",
    "- 프로그램 실행 전에 발생하는 오류를 구문 오류라고 함\n",
    "- 프로그램 실행 중에 발생하는 오류를 예외 또는 런타임 오류라고 함"
   ]
  },
  {
   "cell_type": "markdown",
   "metadata": {},
   "source": [
    "[구문오류]\n",
    "- 괄호의 개수, 들여쓰기 문제 등으로 프로그램이 실행되기도 전에 발생하는 오류"
   ]
  },
  {
   "cell_type": "code",
   "execution_count": null,
   "metadata": {},
   "outputs": [],
   "source": [
    "# 구문오류 예제\n",
    "print(\"오류의 아주 사소한것부터 발생합니다.\")"
   ]
  },
  {
   "cell_type": "code",
   "execution_count": null,
   "metadata": {},
   "outputs": [],
   "source": [
    "#닫는 괄호를 생략한 경우\n",
    "print(\"오류는 아주 사소한것부터 발생합니다.\" "
   ]
  },
  {
   "cell_type": "markdown",
   "metadata": {},
   "source": [
    "SyntaxError : 구문에 문제가 발생해 프로그램이 실행조차 되지 않는 오류\n",
    "\n",
    "-> 이런 경우 구문 오류를 해결하지 않으면 프로그램을 실행할 수 없음"
   ]
  },
  {
   "cell_type": "code",
   "execution_count": null,
   "metadata": {},
   "outputs": [],
   "source": [
    "#생략한 괄호 삽입해 구문오류 해결\n",
    "print(\"오류는 아주 사소한것부터 발생합니다.\")"
   ]
  },
  {
   "cell_type": "markdown",
   "metadata": {},
   "source": [
    "[예외]\n",
    "- 예외 또는 런타임 오류는 실행 중에 발생하는 오류를 의미함"
   ]
  },
  {
   "cell_type": "code",
   "execution_count": 13,
   "metadata": {},
   "outputs": [
    {
     "name": "stdout",
     "output_type": "stream",
     "text": [
      "오류는 아주 사소한것부터 발생합니다.\n"
     ]
    },
    {
     "data": {
      "text/plain": [
       "['닥스훈트', '시바견', '말티즈', '말티즈', '말티즈', '말티즈', '말티즈']"
      ]
     },
     "execution_count": 13,
     "metadata": {},
     "output_type": "execute_result"
    }
   ],
   "source": [
    "#정상 실행\n",
    "print(\"오류는 아주 사소한것부터 발생합니다.\")\n",
    "\n",
    "#예외 발생\n",
    "dogs.append(\"말티즈\")"
   ]
  },
  {
   "cell_type": "code",
   "execution_count": null,
   "metadata": {},
   "outputs": [],
   "source": [
    "#정상 실행\n",
    "print(\"오류는 아주 사소한것부터 발생합니다.\")\n",
    "\n",
    "#예외 발생 코드 해결\n",
    "dogs = [\"닥스훈트\", \"시바견\" ]\n",
    "dogs.append(\"말티즈\")\n",
    "dogs"
   ]
  },
  {
   "cell_type": "markdown",
   "metadata": {},
   "source": [
    "[기본 예외 처리]<br>\n",
    "예외를 해결하는 모든 것을 예외 처리라고 함\n",
    "\n",
    "예외 처리하는 2가지 방법\n",
    "- 조건문을 사용하는 방법\n",
    "- try 구문을 사용하는 방법\n",
    "\n",
    "단, 구문 오류가 발생하는 경우는 예외 처리로 불가하기 때문에 코드 자체를 수정하는 방법으로 해결해야함"
   ]
  },
  {
   "cell_type": "markdown",
   "metadata": {},
   "source": [
    "[조건문을 이용한 예외 처리]\n",
    "\n",
    "- 조건문을 이용한 예외 처리방법을 기본 예외 처리라고 함\n",
    "\n",
    "예외가 발생할 수 있는 상황을 파악하는게 우선입니다.\n",
    "아래 코드를 통해서 발생할 수 있는 예외 상황을 알아보겠습니다."
   ]
  },
  {
   "cell_type": "code",
   "execution_count": 21,
   "metadata": {},
   "outputs": [
    {
     "name": "stdout",
     "output_type": "stream",
     "text": [
      "삼각형의 넓이는 7.5입니다.\n"
     ]
    }
   ],
   "source": [
    "# x=3, y=5\n",
    "x, y = map(int, input(\"밑변과 높이를 입력해주세요\").split(\" \"))\n",
    "\n",
    "# 계산결과 출력\n",
    "print(f'삼각형의 넓이는 {x*y/2}입니다.') "
   ]
  },
  {
   "cell_type": "code",
   "execution_count": 22,
   "metadata": {},
   "outputs": [
    {
     "ename": "ValueError",
     "evalue": "invalid literal for int() with base 10: '3cm'",
     "output_type": "error",
     "traceback": [
      "\u001b[0;31m---------------------------------------------------------------------------\u001b[0m",
      "\u001b[0;31mValueError\u001b[0m                                Traceback (most recent call last)",
      "Cell \u001b[0;32mIn[22], line 2\u001b[0m\n\u001b[1;32m      1\u001b[0m \u001b[38;5;66;03m# x=3cm, y=5cm\u001b[39;00m\n\u001b[0;32m----> 2\u001b[0m x, y \u001b[38;5;241m=\u001b[39m \u001b[38;5;28mmap\u001b[39m(\u001b[38;5;28mint\u001b[39m, \u001b[38;5;28minput\u001b[39m(\u001b[38;5;124m\"\u001b[39m\u001b[38;5;124m밑변과 높이를 입력해주세요\u001b[39m\u001b[38;5;124m\"\u001b[39m)\u001b[38;5;241m.\u001b[39msplit(\u001b[38;5;124m\"\u001b[39m\u001b[38;5;124m \u001b[39m\u001b[38;5;124m\"\u001b[39m))\n\u001b[1;32m      4\u001b[0m \u001b[38;5;66;03m# 계산결과 출력\u001b[39;00m\n\u001b[1;32m      5\u001b[0m \u001b[38;5;28mprint\u001b[39m(\u001b[38;5;124mf\u001b[39m\u001b[38;5;124m'\u001b[39m\u001b[38;5;124m삼각형의 넓이는 \u001b[39m\u001b[38;5;132;01m{\u001b[39;00mx\u001b[38;5;241m*\u001b[39my\u001b[38;5;241m/\u001b[39m\u001b[38;5;241m2\u001b[39m\u001b[38;5;132;01m}\u001b[39;00m\u001b[38;5;124m입니다.\u001b[39m\u001b[38;5;124m'\u001b[39m) \n",
      "\u001b[0;31mValueError\u001b[0m: invalid literal for int() with base 10: '3cm'"
     ]
    }
   ],
   "source": [
    "# x=3cm, y=5cm\n",
    "x, y = map(int, input(\"밑변과 높이를 입력해주세요\").split(\" \"))\n",
    "\n",
    "# 계산결과 출력\n",
    "print(f'삼각형의 넓이는 {x*y/2}입니다.') "
   ]
  },
  {
   "cell_type": "markdown",
   "metadata": {},
   "source": [
    "정수를 입력하지 않아 발생한 오류에 대해 조건으로 구분해서 다른 처리를 할 수 있도록 코드를 수정해보겠습니다.\n",
    "\n",
    "조건문에 사용할 함수는 isdigit()입니다.\n",
    "- isdigit() : 숫자로만 구성되어있는 글자인지를 판단하고 숫자로 변환이 가능한 글자라면 true를 반환합니다.\n",
    "\n",
    "예) num = \"3\"<br>\n",
    "isdigit(num) => true"
   ]
  },
  {
   "cell_type": "code",
   "execution_count": 29,
   "metadata": {},
   "outputs": [
    {
     "name": "stdout",
     "output_type": "stream",
     "text": [
      "정수로 입력하지 않아 계산이 불가합니다.\n"
     ]
    }
   ],
   "source": [
    "# x=3cm, y=5cm\n",
    "x, y = input(\"밑변과 높이를 입력해주세요\").split(\" \")\n",
    "\n",
    "if x.isdigit() and y.isdigit():\n",
    "    # 계산결과 출력\n",
    "    x , y = int(x), int(y)\n",
    "    print(f'삼각형의 넓이는 {x*y/2}입니다.')\n",
    "else:\n",
    "    print(\"정수로 입력하지 않아 계산이 불가합니다.\")"
   ]
  },
  {
   "cell_type": "markdown",
   "metadata": {},
   "source": [
    "지금부터는 강의를 잠시 멈춰두고 아래 3가지 키워드에 대해서\n",
    "여러분들이 이해한 방식대로 정리하는 시간을 가져보시기 바랍니다.\n",
    " \n",
    "- 오류의 종류에 대해 설명해주세요\n",
    "- 오류 종류별로 해결할 수 있는 방벙에 대해 설명해주세요\n",
    "- isdigit() 함수에 대해 설명해주세요"
   ]
  },
  {
   "cell_type": "markdown",
   "metadata": {},
   "source": []
  }
 ],
 "metadata": {
  "kernelspec": {
   "display_name": "Python 3",
   "language": "python",
   "name": "python3"
  },
  "language_info": {
   "codemirror_mode": {
    "name": "ipython",
    "version": 3
   },
   "file_extension": ".py",
   "mimetype": "text/x-python",
   "name": "python",
   "nbconvert_exporter": "python",
   "pygments_lexer": "ipython3",
   "version": "3.11.7"
  }
 },
 "nbformat": 4,
 "nbformat_minor": 2
}
