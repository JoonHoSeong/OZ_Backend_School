{
 "cells": [
  {
   "cell_type": "markdown",
   "metadata": {},
   "source": [
    "안녕하세요 \n",
    "\n",
    "수강생 여러분 \n",
    "\n",
    "오늘도 저와 함께 달릴 준비 되셨나요?\n",
    "\n",
    "그럼 프라이빗 변수에 대한 강의를 시작하겠습니다."
   ]
  },
  {
   "cell_type": "markdown",
   "metadata": {},
   "source": [
    "객체 지향 프로그래밍의 최종 목표는 객체를 효율적으로 만들고 사용하는 것입니다.\n",
    "\n",
    "아래 코드를 한번 보겠습니다."
   ]
  },
  {
   "cell_type": "code",
   "execution_count": 7,
   "metadata": {},
   "outputs": [
    {
     "name": "stdout",
     "output_type": "stream",
     "text": [
      "원의 둘레: -12.566370614359172\n",
      "원의 넓이: 12.566370614359172\n"
     ]
    }
   ],
   "source": [
    "import math\n",
    "\n",
    "class OzCircle:\n",
    "    def __init__(self, radius):\n",
    "        self.radius = radius\n",
    "    def get_circumference(self):\n",
    "        return 2 * math.pi * self.radius\n",
    "    def get_area(self):\n",
    "        return math.pi * (self.radius ** 2)\n",
    "\n",
    "circle = OzCircle(10)\n",
    "# circle.radius = -2\n",
    "print(\"원의 둘레:\", circle.get_circumference())\n",
    "print(\"원의 넓이:\", circle.get_area())"
   ]
  },
  {
   "cell_type": "markdown",
   "metadata": {},
   "source": [
    "원의 둘레와 원의 넓이를 구하는 이 코드에서 원의 반지름에 음수를 입력해 놓으면 어떻게 될까요?\n",
    "\n",
    "당연히 결과값은 음수로 나옵니다. \n",
    "\n",
    "누군가가 이미 만들어진 인스턴스에 들어있는 속성 값을 변경해버리면 이러한 엄청난 오류가 발생할 수 있습니다.\n",
    "\n",
    "그렇기 때문에 내부의 변수를 외부에서 사용할 수 없도록 만들어야 하는데 그럴때 사용하는게 프라이빗 변수입니다.\n",
    "\n",
    "사용방법은 어렵지 않습니다.\n",
    "\n",
    "기존 변수 이름 앞에 언더바 2개만 붙이면 됩니다.\n",
    "\n",
    "위 코드에 프라이빗 변수를 적용시켜 보겠습니다. "
   ]
  },
  {
   "cell_type": "code",
   "execution_count": 11,
   "metadata": {},
   "outputs": [
    {
     "name": "stdout",
     "output_type": "stream",
     "text": [
      "원의 둘레: 62.83185307179586\n",
      "원의 넓이: 314.1592653589793\n"
     ]
    }
   ],
   "source": [
    "import math\n",
    "\n",
    "class oz_Circle:\n",
    "    def __init__(self, radius):\n",
    "        self.__radius = radius\n",
    "    def get_circumference(self):\n",
    "        return 2 * math.pi * self.__radius\n",
    "    def get_area(self):\n",
    "        return math.pi * (self.__radius ** 2)\n",
    "\n",
    "circle = oz_Circle(10)\n",
    "circle.radius = -2\n",
    "print(\"원의 둘레:\", circle.get_circumference())\n",
    "print(\"원의 넓이:\", circle.get_area())"
   ]
  },
  {
   "cell_type": "markdown",
   "metadata": {},
   "source": [
    "어떤가요? 프라이빗 변수로 인해 외부에서 내부에 변수를 조작하려고 했으나 변경되지 않는 것을 확인할 수 있습니다.\n",
    "\n",
    "굉장히 유요하게 사용될 수 있는 구문이기에 꼭 기억하시기 바랍니다."
   ]
  },
  {
   "cell_type": "markdown",
   "metadata": {},
   "source": [
    "오늘의 강의는 여기까지 입니다. \n",
    "\n",
    "수강생 여러분 강의 듣느냐 수고 많으셨습니다.\n",
    "\n",
    "그럼 저는 다음 강의에서 여러분을 기다리고 있겠습니다."
   ]
  },
  {
   "cell_type": "markdown",
   "metadata": {},
   "source": []
  }
 ],
 "metadata": {
  "kernelspec": {
   "display_name": "Python 3",
   "language": "python",
   "name": "python3"
  },
  "language_info": {
   "codemirror_mode": {
    "name": "ipython",
    "version": 3
   },
   "file_extension": ".py",
   "mimetype": "text/x-python",
   "name": "python",
   "nbconvert_exporter": "python",
   "pygments_lexer": "ipython3",
   "version": "3.11.7"
  }
 },
 "nbformat": 4,
 "nbformat_minor": 2
}
