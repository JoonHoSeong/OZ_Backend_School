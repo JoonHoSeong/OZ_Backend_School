{
 "cells": [
  {
   "cell_type": "markdown",
   "metadata": {},
   "source": [
    "<span style=\"font-size:100%\">\n",
    "\n",
    "수업은 모두 열심히 들으셨나요?\n",
    "\n",
    "간혹 강의에서 언급되지 않은 내용이 문제로 나올 수 있습니다.<br>\n",
    "그럴땐 강의 내용 외 문제는 구글링을 통해 해결해주세요<br></span>\n",
    "<span style=\"font-size:80%\">\n",
    "(구글링 또한 개발자가 갖쳐야할 역량 중에 하나랍니다 😊)\n",
    "</span>\n",
    "\n",
    "---"
   ]
  },
  {
   "cell_type": "markdown",
   "metadata": {},
   "source": [
    "<span style=\"font-size:80%\">[문제1]<br><br></span>\n",
    "```인터프리트 방식에 대해 설명하고 2개 이상의 장점을 설명해주세요```"
   ]
  },
  {
   "cell_type": "markdown",
   "metadata": {},
   "source": [
    "<span style=\"color:red\">답변</span>"
   ]
  },
  {
   "cell_type": "markdown",
   "metadata": {},
   "source": [
    "인터프리트 방식은 인터프리터를 이용해서 코드를 한줄씩 읽어서 명령을 즉시 실행하는 방식이다.\n",
    "\n",
    "장점\n",
    "1. 오류 발생 시 읽던 부분에서 멈추기 때문에 오류 발견이 쉽다.(반면 컴파일링 방식은 오류가 있으면 실행자체가 안된다.)\n",
    "2. 컴파일이라는 과정이 없기 때문에 오류에 대한 수정이 빠르다.\n",
    "3. 프로그램의 이식성이 좋다."
   ]
  },
  {
   "cell_type": "markdown",
   "metadata": {},
   "source": [
    "---"
   ]
  },
  {
   "cell_type": "markdown",
   "metadata": {},
   "source": [
    "<span style=\"font-size:80%\">[문제2]<br><br></span>\n",
    "```동적 타입 방식의 장점과 단점을 간략히 설명해주세요```"
   ]
  },
  {
   "cell_type": "markdown",
   "metadata": {},
   "source": [
    "<span style=\"color:red\">답변</span>"
   ]
  },
  {
   "cell_type": "markdown",
   "metadata": {},
   "source": [
    "동적 타입은 실행 시간에 변수 타입이 결정이 되며 실행되면서 타입 변경이 가능한 타입이다.\n",
    "\n",
    "장점\n",
    "1. 유연성 : 실행 시간에 타입이 결정 되기 때문에 동적으로 변수의 타입을 바꿀수 있어 유연성이 좋다.\n",
    "2. 문법의 간단함 : 타입 선언이 없거나 간소화 되어 코드가 간결할 수 있다.\n",
    "3. 편리한 프로토 타입핑 : 개발속도가 빠르며 간단하게 코드를 작성할 수 있다.\n",
    "\n",
    "단점\n",
    "1. 런타임 에러 : 실행중 타입 관련 오류가 발생할 수 있으며 실행시에만 감지된다.\n",
    "2. 예측이 어려움 : 타입 정보가 부족하면 코드를 이해하고 예측하기 어려울 수 있다. -> 파이썬 타입 어노테이션(3.5 부터 지원)을 통해 타입 힌트를 줄수 있다.\n",
    "3. 성능 감소 : 실행(런타임)에서 타입을 체크하기 때문에 정적 타입에 비해 성능이 상대적으로 느릴수 있다."
   ]
  },
  {
   "cell_type": "markdown",
   "metadata": {},
   "source": [
    "---"
   ]
  },
  {
   "cell_type": "markdown",
   "metadata": {},
   "source": [
    "<span style=\"font-size:80%\">[문제3]<br><br></span>\n",
    "```Python으로 정적타입 방식의 코드를 작성할 수 있는 방법을 구글링을 통해 검색 후 설명해주세요```"
   ]
  },
  {
   "cell_type": "markdown",
   "metadata": {},
   "source": [
    "<span style=\"color:red\">답변</span>"
   ]
  },
  {
   "cell_type": "markdown",
   "metadata": {},
   "source": [
    "1. 파이썬 타입 어노테이션(3.5 부터 지원)을 통해 타입 힌트를 줄수 있다.\n",
    "    사용법\n",
    "    - 변수 : 타입 = 입력값\n",
    "    - def 함수이름(변수:타입) :\n",
    "            실행 코드\n",
    "2. 정적분석 도구 mypy도구(파이썬 타입 검사기)등을 사용한다."
   ]
  },
  {
   "cell_type": "markdown",
   "metadata": {},
   "source": [
    "---"
   ]
  },
  {
   "cell_type": "markdown",
   "metadata": {},
   "source": [
    "<span style=\"font-size:80%\">[문제4]<br><br></span>\n",
    "```프로세스와 스레드의 차이점을 설명해주세요```"
   ]
  },
  {
   "cell_type": "markdown",
   "metadata": {},
   "source": [
    "<span style=\"color:red\">답변</span>"
   ]
  },
  {
   "cell_type": "markdown",
   "metadata": {},
   "source": [
    "프로세스 : 운영체제로 부터 자원을 할당 받은 작업 단위\n",
    "스레드 : 플세스가 할당 받은 자원을 이용하는 실행 흐름 단위\n",
    "\n",
    "1. 메모리 : 프로세스는 서로 다른 메모리에서 실행 되지만 스레드는 공유 메모리 공간에서 실행된다.\n",
    "2. 생성 : 프로세스는 상위 프로세스의 메모리 복제를 포함 하며 리소스가 집약적이고 속도가 느리나 스레드는 프로세스와 메모리를 공유하기 때문에 리소스 집약도가 낮고 속도도 빠르다.\n",
    "3. 통신 : 프로세스간의 통신은 별도의 메모리 공간으로 인해 복잡하고 느린 반면 스레드는 동일한 메모리 공간을 공유하므로 더 쉽고 빠르다.\n",
    "4. 통제 : 프로세스는 운영체제에 의해서 제어 되면 독립적으로 작동하는 반면 스레드는 프로세스에 의해 제어되며 모든 스레드는 프로세스 변경으로 인해 영향을 받을 수 있다.\n",
    "5. 오버헤드 : 프로세스는 별도의 메모리 및 리소스 관리로 인해 오버헤드가 높아지지만 스레드는 프로세스의 리소스를 공유하므로 오버헤드가 줄어든다.\n",
    "    - 오버헤드 : 프로그램 실행 흐름에서 나타나느 현장 중 하나로 동떨어진 위치의 코드를 실행 시켜야 할떄 추가적으로 드는 시간, 메모리, 자원이 사용되는 현상\n",
    "6. 사용 적합 방식 : 프로세스는 격리된 실행, 안정성 및 보안이 필요한 애플리케이션에 적합하며 스레드는 동일한 애플리케이션 내에서 동시 실행이 필요한 작업에 적합하다.\n",
    "7. 실패시 영향 : 하나의 프로세스의 충돌은 다른 프로세스의 직접적인 영향을 끼치지 않지만 스레드는 동일한 프로세스 내의 다른 스레드에도 영향을 미칠 수 있다.\n",
    "\n",
    "![image.png](image/image.png)\n",
    "\n",
    "참고 : https://somaz.tistory.com/265"
   ]
  },
  {
   "cell_type": "markdown",
   "metadata": {},
   "source": [
    "---"
   ]
  },
  {
   "cell_type": "markdown",
   "metadata": {},
   "source": [
    "<span style=\"font-size:80%\">[문제5]<br><br></span>\n",
    "```Python 2버전대와 3버전대의 차이를 성명해주세요```"
   ]
  },
  {
   "cell_type": "markdown",
   "metadata": {},
   "source": [
    "<span style=\"color:red\">답변</span>"
   ]
  },
  {
   "cell_type": "markdown",
   "metadata": {},
   "source": [
    "1. python2는 과거 버전으로 지원이 중단 되었고 3은 아직 지원중이며 새로운 버전이 출시중이다.\n",
    "2. python2의 기본 저장방식은 ASCII 방식으로 저장되었고 유니코드 방식으로 저장하기 위해서 별도의 설정이 필요했지만 Python3는 기본 저장 방식이 Unicode이다.\n",
    "3. Python3는 정수 처리 기능이 개선되어 5/2=2.5 결과가 나오지만 python2는 이와 같은 결과를 얻기 위해서는 반드시 실수 형태로 입력해서 계산해야 했다.\n",
    "4. print 방식이 Python3의 경우 print('내용') 이지만 python2의 경우 print '내용' 이다.\n",
    "\n",
    "![image2.png](image/image2.png)\n",
    "\n",
    "참고 : https://pythonfundu.blogspot.com/2019/02/python-2-vs-3.html"
   ]
  },
  {
   "cell_type": "markdown",
   "metadata": {},
   "source": [
    "---"
   ]
  },
  {
   "cell_type": "markdown",
   "metadata": {},
   "source": [
    "<span style=\"font-size:80%\">[문제6]<br><br></span>\n",
    "```Python에서 메모리 관리는 어떻게 이루어지는지 설명해주세요```"
   ]
  },
  {
   "cell_type": "markdown",
   "metadata": {},
   "source": [
    "<span style=\"color:red\">답변</span>"
   ]
  },
  {
   "cell_type": "markdown",
   "metadata": {},
   "source": [
    "python은 CPython이라는 C 언어의구현되어있으며 이는 두가지 방법으로 메모리처리(Garbage Collection)을 수행한다.\n",
    "- reference counting\n",
    "    Phython의 모든 객체는 PyObject 라는 객체를 상속 받는데 각 객체는 자기가 얼마나 참조되는지 기억을 하고 있다.\n",
    "    자기가 참조되는 수가 0이 되면 메모리를 해제 한다.\n",
    "    다른 언어와 다르게 소스코드로 따로 해제를 할 수 없다.\n",
    "- generational garbage collection\n",
    "    PyObject 객체를 참조되는 수가 0이 되지 않아 할당된 메모리를 해제 할수 없을때(reference cycle문제) 사용하는 방식으로 reference counting으로 해결할 수 없을 때 사용\n",
    "\n",
    "정리\n",
    "파이썬은 기본적으로 Garbageollector를 이용해 자동으로 메모리를 관리한다.\n",
    "파이썬의 Gabage Collection 기법으로, reference counting과 generation garbage collection이 있다.\n",
    "\n",
    "참고 : https://velog.io/@toezilla/Python%EC%9D%80-%EB%A9%94%EB%AA%A8%EB%A6%AC%EB%A5%BC-%EC%96%B4%EB%96%BB%EA%B2%8C-%EA%B4%80%EB%A6%AC%ED%95%A0%EA%B9%8C"
   ]
  }
 ],
 "metadata": {
  "language_info": {
   "name": "python"
  }
 },
 "nbformat": 4,
 "nbformat_minor": 2
}
