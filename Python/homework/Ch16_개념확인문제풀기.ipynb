{
 "cells": [
  {
   "cell_type": "markdown",
   "metadata": {},
   "source": [
    "<span style=\"font-size:100%\">\n",
    "\n",
    "수업은 모두 열심히 들으셨나요?\n",
    "\n",
    "간혹 강의에서 언급되지 않은 내용이 문제로 나올 수 있습니다.<br>\n",
    "그럴땐 강의 내용 외 문제는 구글링을 통해 해결해주세요<br></span>\n",
    "<span style=\"font-size:80%\">\n",
    "(구글링 또한 개발자가 갖쳐야할 역량 중에 하나랍니다 😊)\n",
    "</span>\n",
    "\n",
    "---"
   ]
  },
  {
   "cell_type": "markdown",
   "metadata": {},
   "source": [
    "<span style=\"font-size:80%\">[문제1]<br><br></span>\n",
    "아래 코드의 올바른 실행 결과를 골라주세요\n",
    "```\n",
    "i = 10\n",
    "\n",
    "while i < 19:\n",
    "    print(i, end=' ')\n",
    "    i += 2\n",
    "```\n",
    "\n",
    "1. 10, 11, 12, 13, 14, 15, 16, 17, 18, 19\n",
    "2. 10 11 12 13 14 15 16 17 18\n",
    "3. 10 12 14 16 18 19\n",
    "4. 10 12 14 16 18\n",
    "5. 10 12 14 16"
   ]
  },
  {
   "cell_type": "markdown",
   "metadata": {},
   "source": [
    "<span style=\"color:red\">답변</span>"
   ]
  },
  {
   "cell_type": "markdown",
   "metadata": {},
   "source": []
  },
  {
   "cell_type": "markdown",
   "metadata": {},
   "source": [
    "----"
   ]
  },
  {
   "cell_type": "markdown",
   "metadata": {},
   "source": [
    "<span style=\"font-size:80%\">[문제2]<br><br></span>\n",
    "다음 중 while 반복문에 대한 설명으로 잘못된 것을 모두 골라주세요\n",
    "\n",
    "1. while 반복문에는 조건식 또는 값을 지정하면 된다.\n",
    "2. while 반복문은 조건식의 결과가 True이면 반복을 끝낸다.\n",
    "3. while 반복문은 반복 횟수가 정해져 있을 때만 사용할 수 있다.\n",
    "4. while 반복문의 다음 줄은 반드시 들여쓰기를 해야 한다.\n",
    "5. while 반복문의 조건식에 True를 지정하면 무한 루프가 된다."
   ]
  },
  {
   "cell_type": "markdown",
   "metadata": {},
   "source": [
    "<span style=\"color:red\">답변</span>"
   ]
  },
  {
   "cell_type": "markdown",
   "metadata": {},
   "source": []
  },
  {
   "cell_type": "markdown",
   "metadata": {},
   "source": [
    "----"
   ]
  },
  {
   "cell_type": "markdown",
   "metadata": {},
   "source": [
    "<span style=\"font-size:80%\">[문제3]<br><br></span>\n",
    "while문을 사용하여, 100 이상의 자연수 중 가장 작은 23의 배수를 츨력하는 코드를 작성해주세요"
   ]
  },
  {
   "cell_type": "markdown",
   "metadata": {},
   "source": [
    "<span style=\"color:red\">답변</span>"
   ]
  },
  {
   "cell_type": "markdown",
   "metadata": {},
   "source": []
  },
  {
   "cell_type": "markdown",
   "metadata": {},
   "source": [
    "----"
   ]
  }
 ],
 "metadata": {
  "language_info": {
   "name": "python"
  }
 },
 "nbformat": 4,
 "nbformat_minor": 2
}
