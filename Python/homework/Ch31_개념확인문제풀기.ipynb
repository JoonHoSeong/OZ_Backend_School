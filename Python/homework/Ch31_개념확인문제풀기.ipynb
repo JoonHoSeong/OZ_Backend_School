{
 "cells": [
  {
   "cell_type": "markdown",
   "metadata": {},
   "source": [
    "문자열 리스트를 받아, 각 문자열의 길이를 출력하는 함수 print_lengths를 작성하세요."
   ]
  },
  {
   "cell_type": "code",
   "execution_count": 3,
   "metadata": {},
   "outputs": [],
   "source": [
    "def print_lengths(string_lists) :\n",
    "    for string in string_lists :\n",
    "        print(len(string))"
   ]
  },
  {
   "cell_type": "code",
   "execution_count": 4,
   "metadata": {},
   "outputs": [
    {
     "name": "stdout",
     "output_type": "stream",
     "text": [
      "7\n",
      "5\n",
      "1\n"
     ]
    }
   ],
   "source": [
    "print_lengths(['adfewaf','aewaf','a'])"
   ]
  },
  {
   "cell_type": "markdown",
   "metadata": {},
   "source": []
  }
 ],
 "metadata": {
  "kernelspec": {
   "display_name": ".venv",
   "language": "python",
   "name": "python3"
  },
  "language_info": {
   "codemirror_mode": {
    "name": "ipython",
    "version": 3
   },
   "file_extension": ".py",
   "mimetype": "text/x-python",
   "name": "python",
   "nbconvert_exporter": "python",
   "pygments_lexer": "ipython3",
   "version": "3.10.14"
  }
 },
 "nbformat": 4,
 "nbformat_minor": 2
}
