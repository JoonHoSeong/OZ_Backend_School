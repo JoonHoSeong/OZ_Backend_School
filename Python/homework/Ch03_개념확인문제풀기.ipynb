{
 "cells": [
  {
   "cell_type": "markdown",
   "metadata": {},
   "source": [
    "<span style=\"font-size:100%\">\n",
    "\n",
    "수업은 모두 열심히 들으셨나요?\n",
    "\n",
    "간혹 강의에서 언급되지 않은 내용이 문제로 나올 수 있습니다.<br>\n",
    "그럴땐 강의 내용 외 문제는 구글링을 통해 해결해주세요<br></span>\n",
    "<span style=\"font-size:80%\">\n",
    "(구글링 또한 개발자가 갖쳐야할 역량 중에 하나랍니다 😊)\n",
    "</span>\n",
    "\n",
    "---"
   ]
  },
  {
   "cell_type": "markdown",
   "metadata": {},
   "source": [
    "<span style=\"font-size:80%\">[문제1]<br><br></span>\n",
    "```주로 작성 중인 코드의 끝을 알리는 기호로 사용되며 파이썬에서 한 줄에 작성된 서로 다른 코드를 구분 지을 때 사용할 수 있는 기호를 골라주세요```\n",
    "\n",
    "1. ' , ' (쉼표)\n",
    "2. ' + ' (더하기 기호)\n",
    "3. ' ; ' (세미콜론)\n",
    "4. ' / ' (슬래시)"
   ]
  },
  {
   "cell_type": "markdown",
   "metadata": {},
   "source": [
    "<span style=\"color:red\">답변</span> :"
   ]
  },
  {
   "cell_type": "markdown",
   "metadata": {},
   "source": [
    "3. ';'"
   ]
  },
  {
   "cell_type": "markdown",
   "metadata": {},
   "source": [
    "----"
   ]
  },
  {
   "cell_type": "markdown",
   "metadata": {},
   "source": [
    "<span style=\"font-size:80%\">[문제2]<br><br></span>\n",
    "```Python의 PEP 8은 무엇인지 설명하고 PEP 8의 핵심적인 규칙을 1개 이상을 설명해주세요```"
   ]
  },
  {
   "cell_type": "markdown",
   "metadata": {},
   "source": [
    "<span style=\"color:red\">답변</span>"
   ]
  },
  {
   "cell_type": "markdown",
   "metadata": {},
   "source": [
    "PEP 8이란?\n",
    "- Python Enhancement Proposal 8의 약자\n",
    "- PEP는 파이썬이나 그 프로세스 또는 환경에 대한 새로운 기능이나 규칙을 제안하는 문서\n",
    "- PEP 8 은 코딩 스카일 가이드라인을 정의 하는 문서로 코드 가독성을 향상시키기 위해 따라야할 규칙과 권장사항을 제시\n",
    "\n",
    "대표적인 규칙 몇가지\n",
    "1. Indentation(들여쓰기)\n",
    "    - 들여쓰기는 4개의 스페이스 사용\n",
    "    - 들여쓰기는 탭이 아닌 스페이스를 기본 원칙으로함\n",
    "    - 괄호 및 괄호안의 괄호와 같이 연결되는 라인에서 줄바꿈이 일어나는 요소들은 수직으로 정렬 되어야 함\n",
    "    - 닫는 괄호의 경우 마지막 줄의 첫번째 요소 혹은 공백이 없는 라인의 가장 앞에 위치\n",
    "2. Maximum Line Length(줄의 최대 길이)\n",
    "    - 한줄의 최대 길이를 79자로 제한\n",
    "    - docstring이나 comments처럼 긴 텍스트는 한줄의 최대 길이를 72자로 제한\n",
    "    - 백슬래시르 활용해 줄바꿈을 함\n",
    "3. Blank Lines(줄사이 공백)\n",
    "    - 클래스 정의와 함수 정의 사이에는 두개의 고백 라인을 사용하여 구분\n",
    "    - 클래스 내부의 멧드 정의는 단일한 공백 라인은로 구분\n",
    "    - 관련 함수 그룹을 구분하기 위해 빈줄을 추가로 사용할 수 있음\n",
    "4. import\n",
    "    - import 는 행으로 구분되어 사용되어야 함\n",
    "    - import는 아래와 같이 그룹화 하도록 함\n",
    "        - 표준 라이브러리\n",
    "        - 관련된 서브파티\n",
    "        - 로컬 어플리케이션/자체 라이브러니\n",
    "    - 그룹 사이에는 빈줄을 넣는 것이 좋음\n",
    "    - 원칙적으로 절대 경로 import가 권장되며 wildcard(*) import는 지향해야 함\n",
    "5. Module Level Dunder(Double under) Names\n",
    "    - Dunder 모듈의 경우 Docstring뒤, from future import barry_as_FLUFL (이전 버전과의 호완성을 유지하기 위해 사용)을 제외하고 import 문전에 쓰여야함\n",
    "6. Expressions and Statements의 공백\n",
    "    - 후행공백을 지양\n",
    "    - 의미없는 공백을 피함\n",
    "    - 이진연산자 주변은 공백을 추가\n",
    "    - 다른 우선순위의 연산산자가 함께 쓰인다면, 가장 우선순위가 낮은 연산자 주변에 공백을 추가하는 것을 고려해야함\n",
    "7. 주석\n",
    "    - 코드와 반대되는 주석은 없는것보다 못함\n",
    "    - 첫번째 글자는 특수한 경우를 제외하고 대문자로\n",
    "    - 마지막 문장을 제외하곤 문장의 끝에 두개의 스페이스 바 사용\n",
    "    - 가능한 주석은 영어로\n",
    "    - 인라인 주석은 가능한 자제\n",
    "    - 인라인 주석은 소스로부터 최소 2개의 스페이스로 구분\n",
    "8. Documentation Strings\n",
    "    - 모든 Public 모듈 ,함수, 클래스, 메소드에 대해 docstring을 작성\n",
    "    - Non-public 메소드에 대해서는 docsting이 필요하진 않지만, 메소드가 어떤 역할인지 설명하는 주석을 기제해야 하고 def라인 다음에 위치해야함\n",
    "    - 여러줄로 구성된 docsting을 끝내는 마지막 따음포는 혼자 있어야함, 한줄로 작성된다면 같은 줄에 위치해도 됌\n",
    "    \n",
    "참고 : https://velog.io/@k-yooon/PEP-8\n",
    "공식 문서 : https://peps.python.org/pep-0008/"
   ]
  },
  {
   "cell_type": "markdown",
   "metadata": {},
   "source": [
    "----"
   ]
  },
  {
   "cell_type": "markdown",
   "metadata": {},
   "source": [
    "<span style=\"font-size:80%\">[문제3]<br><br></span>\n",
    "```Python에서 \"#\"이 의마하는 것은 무엇인지 설명해주세요```"
   ]
  },
  {
   "cell_type": "markdown",
   "metadata": {},
   "source": [
    "<span style=\"color:red\">답변</span>"
   ]
  },
  {
   "cell_type": "markdown",
   "metadata": {},
   "source": [
    "주석"
   ]
  },
  {
   "cell_type": "markdown",
   "metadata": {},
   "source": [
    "----"
   ]
  },
  {
   "cell_type": "markdown",
   "metadata": {},
   "source": [
    "<span style=\"font-size:80%\">[문제4]<br><br></span>\n",
    "```Python의 들여쓰기 장점과 기능에 대해 설명해주세요```"
   ]
  },
  {
   "cell_type": "markdown",
   "metadata": {},
   "source": [
    "<span style=\"color:red\">답변</span>"
   ]
  },
  {
   "cell_type": "markdown",
   "metadata": {},
   "source": [
    "장점 및 기능\n",
    "1. 가독성 향상 : 코드브럭의 시작과 끝을 보여줌으로 어떤 부분이 코드 블록에 속하는지 쉽게 이해할 수 있음\n",
    "2. 코드 일관성 : 일관된 들여쓰기 규칙을 사용함으로 일관된 스타일을 사용하고 코드를 더 쉽게 유지보수 할 수 있음\n",
    "3. 코드 블럭 구분 및 강제 : 코드블럭의 시작과 끝을 명시적으로 표현되므로 오류를 일부 방지할 수 있음\n",
    "\n",
    "참고 : https://velog.io/@hjhjgudwls/Python-%EB%93%A4%EC%97%AC%EC%93%B0%EA%B8%B0-%EC%9E%A5%EC%A0%90-%EA%B8%B0%EB%8A%A5"
   ]
  },
  {
   "cell_type": "markdown",
   "metadata": {},
   "source": [
    "----"
   ]
  },
  {
   "cell_type": "markdown",
   "metadata": {},
   "source": [
    "<span style=\"font-size:80%\">[문제5]<br><br></span>\n",
    "```print( )문의 기능 및 특징에 대해 설명해주세요```"
   ]
  },
  {
   "cell_type": "markdown",
   "metadata": {},
   "source": [
    "<span style=\"color:red\">답변</span>"
   ]
  },
  {
   "cell_type": "markdown",
   "metadata": {},
   "source": [
    "기능\n",
    "1. 화면 출력\n",
    "2. 서식화된 출력\n",
    "3. 파일 출력\n",
    "4. 문자열 연결\n",
    "\n",
    "특징\n",
    "1. 자동 중바꿈 : 호출 사이에 자동으로 줄바꿈이 되고 end 매개변수로 이를 조절 할 수 있음\n",
    "2. 디버깅 및 테스트 : 간단한 디버깅 및 테스트에 유용하게 사용됨\n",
    "3. sep 매개변수 : sep 매개변수를 사용하여 값 사이에 구분자를 지정 할 수 있음(기본 값은 공백)\n",
    "\n",
    "참고 :https://velog.io/@hjhjgudwls/python2print%EB%AC%B8"
   ]
  },
  {
   "cell_type": "markdown",
   "metadata": {},
   "source": []
  }
 ],
 "metadata": {
  "language_info": {
   "name": "python"
  }
 },
 "nbformat": 4,
 "nbformat_minor": 2
}
