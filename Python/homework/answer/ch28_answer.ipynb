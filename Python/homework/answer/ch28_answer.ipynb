{
 "cells": [
  {
   "cell_type": "markdown",
   "metadata": {},
   "source": [
    "사용자로부터 3개의 숫자를 입력받아, 이를 튜플로 만든 후 최소값과 최대값을 출력하는 함수 min_max를 작성하세요."
   ]
  },
  {
   "cell_type": "code",
   "execution_count": null,
   "metadata": {},
   "outputs": [],
   "source": [
    "#참고용 코드입니다.\n",
    "def min_max(*numbers):\n",
    "    numbers_tuple = tuple(numbers)\n",
    "    print(\"최소값:\", min(numbers_tuple), \"최대값:\", max(numbers_tuple))\n",
    "\n",
    "# 사용 예시\n",
    "min_max(10, 4, 9)"
   ]
  }
 ],
 "metadata": {
  "language_info": {
   "name": "python"
  }
 },
 "nbformat": 4,
 "nbformat_minor": 2
}
