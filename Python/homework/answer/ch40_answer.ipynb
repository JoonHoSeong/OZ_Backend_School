{
 "cells": [
  {
   "cell_type": "markdown",
   "metadata": {},
   "source": [
    "여러분이 자주 사용하는 수학적 연산<br>\n",
    "(예: 삼각형 넓이, 원의 넓이, 직육면체의 넓이)을 수행하는 함수들을 포함하는 mymath.py라는 이름의 모듈을 만드세요. \n",
    "\n",
    "이 모듈을 사용하여 작성된 함수들을 실제로 임포트하고 사용하는 간단한 프로그램을 작성하세요."
   ]
  },
  {
   "cell_type": "code",
   "execution_count": null,
   "metadata": {},
   "outputs": [],
   "source": [
    "#mymath.py 파일 생성\n",
    "def triangle_area(base, height):\n",
    "    return 0.5 * base * height\n",
    "\n",
    "def circle_area(radius):\n",
    "    return math.pi * radius ** 2\n",
    "\n",
    "def cuboid_area(length, width, height):\n",
    "    return 2 * (length * width + width * height + height * length)"
   ]
  },
  {
   "cell_type": "code",
   "execution_count": null,
   "metadata": {},
   "outputs": [],
   "source": [
    "#실행 코드\n",
    "from mymath import average, median, std_dev\n",
    "\n",
    "numbers = [1, 2, 3, 4, 5]\n",
    "\n",
    "triangle_area(3, 10)\n",
    "print(\"삼각형의 넓이:\", triangle_area(base, height))\n",
    "\n",
    "circle_area(4)\n",
    "print(\"원의 넓이:\", circle_area(radius))\n",
    "\n",
    "cuboid_area(5, 10, 4)\n",
    "print(\"직육면체 넓이:\", cuboid_area(length, width, height))"
   ]
  },
  {
   "cell_type": "markdown",
   "metadata": {},
   "source": []
  }
 ],
 "metadata": {
  "language_info": {
   "name": "python"
  }
 },
 "nbformat": 4,
 "nbformat_minor": 2
}
