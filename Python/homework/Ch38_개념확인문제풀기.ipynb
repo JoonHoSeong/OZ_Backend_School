{
 "cells": [
  {
   "cell_type": "markdown",
   "metadata": {},
   "source": [
    "requests 모듈을 사용하여, 웹 페이지의 HTML을 가져오는 간단한 웹 스크레이퍼를 작성하세요.\n",
    "\n",
    "'https://kream.co.kr/'에서<br> \n",
    "데이터를 가져와서 상태 코드와 HTML의 첫 100자를 출력하세요.<br>\n",
    "(실습 전 requests 모듈을 설치해야 함)"
   ]
  },
  {
   "cell_type": "markdown",
   "metadata": {},
   "source": []
  },
  {
   "cell_type": "code",
   "execution_count": 1,
   "metadata": {},
   "outputs": [],
   "source": [
    "import requests"
   ]
  },
  {
   "cell_type": "code",
   "execution_count": 8,
   "metadata": {},
   "outputs": [
    {
     "name": "stdout",
     "output_type": "stream",
     "text": [
      "상태 : <Response [200]>\n",
      "HTML 100자 :  \n",
      "\n",
      "\n",
      "\n",
      "\n",
      "\n",
      "<!DOCTYPE html>\n",
      "<html\n",
      "  lang=\"en\"\n",
      "  \n",
      "  data-color-mode=\"auto\" data-light-theme=\"light\" data-da\n"
     ]
    }
   ],
   "source": [
    "# data = requests.get('https://kream.co.kr/')\n",
    "data = requests.get('https://github.com/JoonHoSeong/OZ_Backend_School/blob/main/Python/mini_project/treasure_hunt.ipynb')\n",
    "print('상태 :', data)\n",
    "print('HTML 100자 : ', data.text[:100])"
   ]
  },
  {
   "cell_type": "code",
   "execution_count": null,
   "metadata": {},
   "outputs": [],
   "source": []
  }
 ],
 "metadata": {
  "kernelspec": {
   "display_name": ".venv",
   "language": "python",
   "name": "python3"
  },
  "language_info": {
   "codemirror_mode": {
    "name": "ipython",
    "version": 3
   },
   "file_extension": ".py",
   "mimetype": "text/x-python",
   "name": "python",
   "nbconvert_exporter": "python",
   "pygments_lexer": "ipython3",
   "version": "3.10.14"
  }
 },
 "nbformat": 4,
 "nbformat_minor": 2
}
