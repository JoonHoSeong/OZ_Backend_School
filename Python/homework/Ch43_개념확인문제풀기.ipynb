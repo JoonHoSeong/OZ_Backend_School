{
 "cells": [
  {
   "cell_type": "markdown",
   "metadata": {},
   "source": [
    "[문제]\n",
    "\n",
    "'Rectangle' 클래스를 작성하세요. \n",
    "\n",
    "이 클래스는 높이(height)와 너비(width)를 속성으로 가지며, 생성자(__init__)를 통해 이 두 속성을 초기화합니다. \n",
    "\n",
    "'area' 메소드를 추가하여 사각형의 면적을 계산하고 반환하도록 하세요. 높이가 10, 너비가 5인 사각형 객체를 생성하고,<br> \n",
    "이 객체를 사용하여 면적을 계산해 출력하세요."
   ]
  },
  {
   "cell_type": "code",
   "execution_count": 1,
   "metadata": {},
   "outputs": [],
   "source": [
    "class Rectangle :\n",
    "    def __init__(self, width, height) -> None:\n",
    "        self.width = width\n",
    "        self.heigth = height\n",
    "    \n",
    "    def area(self) :\n",
    "        return self.width * self.heigth"
   ]
  },
  {
   "cell_type": "code",
   "execution_count": 3,
   "metadata": {},
   "outputs": [
    {
     "name": "stdout",
     "output_type": "stream",
     "text": [
      "50\n"
     ]
    }
   ],
   "source": [
    "r = Rectangle(height=10, width=5)\n",
    "print(r.area())"
   ]
  },
  {
   "cell_type": "code",
   "execution_count": null,
   "metadata": {},
   "outputs": [],
   "source": []
  }
 ],
 "metadata": {
  "kernelspec": {
   "display_name": ".venv",
   "language": "python",
   "name": "python3"
  },
  "language_info": {
   "codemirror_mode": {
    "name": "ipython",
    "version": 3
   },
   "file_extension": ".py",
   "mimetype": "text/x-python",
   "name": "python",
   "nbconvert_exporter": "python",
   "pygments_lexer": "ipython3",
   "version": "3.10.14"
  }
 },
 "nbformat": 4,
 "nbformat_minor": 2
}
