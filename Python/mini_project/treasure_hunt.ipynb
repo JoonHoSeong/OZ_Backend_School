{
 "cells": [
  {
   "cell_type": "code",
   "execution_count": 1,
   "metadata": {},
   "outputs": [],
   "source": [
    "import random\n",
    "\n",
    "# 게임 초기화\n",
    "def initialize_game(n:int) :\n",
    "    player_position = [random.randint(0,n-1), random.randint(0,n-1)]\n",
    "    treasure_position = [random.randint(0,n-1),random.randint(0,n-1)]\n",
    "    return treasure_position, player_position\n",
    "\n",
    "# 플레이어 이동\n",
    "def move_player(board_size, treasure_position,player_position, direction):\n",
    "    if direction.upper() in ['N', 'S', 'W', 'E'] :\n",
    "        if direction.upper() == 'N' and player_position[0] > 0:\n",
    "            player_position[0] -= 1\n",
    "        elif direction.upper() == 'S' and player_position[0] < board_size-1:\n",
    "            player_position[0] += 1\n",
    "        elif direction.upper() == 'W' and player_position[1] > 0:\n",
    "            player_position[1] -= 1\n",
    "        elif direction.upper() == 'E' and player_position[1] < board_size-1:\n",
    "            player_position[1] += 1\n",
    "        else :\n",
    "           print('해당 방향으로 이동할 수 없습니다. 다른 방향을 선택해 주세요')\n",
    "           return -1\n",
    "        print(f\"{direction}방향으로 이동하였습니다.\")\n",
    "        print(f\"보물까지 남은 거리는 {calculate_distance(treasure_position, player_position)} 입니다.\")\n",
    "    return player_position\n",
    "\n",
    "# 거리 계산\n",
    "def calculate_distance(treasure_position, player_position):\n",
    "    return abs(treasure_position[0]-player_position[0])+abs(treasure_position[1]-player_position[1])\n",
    "\n",
    "\n",
    "# 게임 실행\n",
    "def play_game(board_size):\n",
    "    move_num = 0\n",
    "    treasure_position, player_position = initialize_game(board_size)\n",
    "    while treasure_position != player_position :\n",
    "        while True :\n",
    "            try :\n",
    "                direction = input('이동하고자 하는 방향을 입력해 주세요(N,S,E,W) :').upper()\n",
    "                if direction not in ['N', 'S', 'E', 'W'] :\n",
    "                    print('방향을 잘 못 입력하셨습니다. 다시 입력해 주세요.(N,S,W,E)')\n",
    "                    continue\n",
    "                break\n",
    "            except :\n",
    "                print('방향을 잘 못 입력하셨습니다. 다시 입력해 주세요.(N,S,W,E)')\n",
    "        if move_player(board_size,treasure_position,player_position,direction) == -1 :\n",
    "            continue\n",
    "        move_num += 1\n",
    "    print(f\"총 {move_num}번의 욺직임으로 보물을 발견했습니다! 축하합니다!\")\n",
    "        \n",
    "# 게임 보드 크기 설정 및 게임 시작\n",
    "if __name__ == \"__main__\":\n",
    "    board_size = 5  # 보드 크기를 5x5로 설정\n",
    "    play_game(board_size) "
   ]
  },
  {
   "cell_type": "code",
   "execution_count": 2,
   "metadata": {},
   "outputs": [],
   "source": []
  },
  {
   "cell_type": "code",
   "execution_count": 7,
   "metadata": {},
   "outputs": [],
   "source": []
  },
  {
   "cell_type": "code",
   "execution_count": 8,
   "metadata": {},
   "outputs": [],
   "source": []
  },
  {
   "cell_type": "code",
   "execution_count": null,
   "metadata": {},
   "outputs": [],
   "source": []
  }
 ],
 "metadata": {
  "kernelspec": {
   "display_name": ".venv",
   "language": "python",
   "name": "python3"
  },
  "language_info": {
   "codemirror_mode": {
    "name": "ipython",
    "version": 3
   },
   "file_extension": ".py",
   "mimetype": "text/x-python",
   "name": "python",
   "nbconvert_exporter": "python",
   "pygments_lexer": "ipython3",
   "version": "3.10.14"
  }
 },
 "nbformat": 4,
 "nbformat_minor": 2
}
