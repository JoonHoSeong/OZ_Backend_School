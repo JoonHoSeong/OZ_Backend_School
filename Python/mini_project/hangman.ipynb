{
 "cells": [
  {
   "cell_type": "code",
   "execution_count": 15,
   "metadata": {},
   "outputs": [
    {
     "name": "stdout",
     "output_type": "stream",
     "text": [
      "_A___   입력 값 :A\n",
      "_A___   입력 값 :I\n",
      "_A___   입력 값 :Q\n",
      "_A___   입력 값 :R\n",
      "_A___   입력 값 :F\n",
      "_A___   입력 값 :F\n",
      "_A_C_   입력 값 :C\n",
      "_A_C_   입력 값 :P\n",
      "실패하셨습니다. 정답은DANCE\n"
     ]
    }
   ],
   "source": [
    "from random import randint\n",
    "\n",
    "voca_list = ['Cat','Dog','Apple','House','Book','Tree','Flower','Smile','Laugh','Beach','Music','Dance','Pizza','Potato','Lemon','Banana','Carrot','Tomato','Grape','Orange','Pencil','Paper','Chair','Table','Window','Laptop','Phone','Camera','Bottle','Glass','Pillow','Blanket','Candle','Towel','Soap','Brush','Comb','Mirror','Clock','Watch','Glove','Scarf','Jacket','Shoes','Socks','Shirt','Pants','Dress','Skirt','Hat']\n",
    "voca_select = randint(0,len(voca_list)-1)\n",
    "voca = list(voca_list[voca_select].upper())\n",
    "answer = ['_' for i in range(len(voca))]\n",
    "def get_life() -> int :\n",
    "    while True :\n",
    "        try : \n",
    "            life_num = int(input('설정할 목숨의 수를 정수로 입력하세요(무한은 음수 입력) : '))\n",
    "            return life_num\n",
    "        except :\n",
    "            print('잘못된 형식을 입력하셨습니다. 다시 입력해 주세요.')\n",
    "    \n",
    "    \n",
    "def check_input(user_input : str) -> list :\n",
    "    global answer\n",
    "    if user_input.upper() in voca :\n",
    "        for i in range(len(answer)) :\n",
    "            if voca[i] == user_input.upper() :\n",
    "                answer[i] = user_input.upper()\n",
    "    return answer\n",
    "life_num = get_life()\n",
    "while voca != answer :\n",
    "    if life_num == 0 :\n",
    "        print(f\"실패하셨습니다. 정답은{''.join(voca)}\")\n",
    "        break\n",
    "    user_input = input('알파벳 하나를 입력해 주세요 : ')\n",
    "    if 1 != len(user_input) or not user_input.encode().isalpha() :\n",
    "        print('잘못된 입력입니다. 다시 입력해주세요.')\n",
    "        continue\n",
    "    life_num -= 1\n",
    "    check_input(user_input=user_input)\n",
    "    print(f\"{''.join(answer)}   입력 값 :{user_input.upper()}\")\n",
    "    \n",
    "if life_num != 0 :\n",
    "    print('성공하셨습니다.')\n",
    "    "
   ]
  },
  {
   "cell_type": "code",
   "execution_count": null,
   "metadata": {},
   "outputs": [],
   "source": []
  }
 ],
 "metadata": {
  "kernelspec": {
   "display_name": ".venv",
   "language": "python",
   "name": "python3"
  },
  "language_info": {
   "codemirror_mode": {
    "name": "ipython",
    "version": 3
   },
   "file_extension": ".py",
   "mimetype": "text/x-python",
   "name": "python",
   "nbconvert_exporter": "python",
   "pygments_lexer": "ipython3",
   "version": "3.10.14"
  }
 },
 "nbformat": 4,
 "nbformat_minor": 2
}
