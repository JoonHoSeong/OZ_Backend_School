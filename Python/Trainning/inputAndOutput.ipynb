{
 "cells": [
  {
   "cell_type": "code",
   "execution_count": 1,
   "metadata": {},
   "outputs": [
    {
     "data": {
      "text/plain": [
       "1"
      ]
     },
     "execution_count": 1,
     "metadata": {},
     "output_type": "execute_result"
    }
   ],
   "source": [
    "\"까먹으신건가요?\".count(\"까\")"
   ]
  },
  {
   "cell_type": "code",
   "execution_count": 2,
   "metadata": {},
   "outputs": [
    {
     "data": {
      "text/plain": [
       "0"
      ]
     },
     "execution_count": 2,
     "metadata": {},
     "output_type": "execute_result"
    }
   ],
   "source": [
    "\"까먹으신건가요?\".index(\"까\")"
   ]
  },
  {
   "cell_type": "code",
   "execution_count": 3,
   "metadata": {},
   "outputs": [
    {
     "name": "stdout",
     "output_type": "stream",
     "text": [
      "5 5\n"
     ]
    }
   ],
   "source": [
    "숫자, 문자 = 5, \"5\"\n",
    "\n",
    "print(숫자, 문자)"
   ]
  },
  {
   "cell_type": "code",
   "execution_count": 4,
   "metadata": {},
   "outputs": [
    {
     "name": "stdout",
     "output_type": "stream",
     "text": [
      "뭘 봐 눈부시게\n"
     ]
    }
   ],
   "source": [
    "# 안녕하세요 x\n",
    "인사 = input(\"(우리학교 최고 존잘남)아.... 안녕\")\n",
    "print(인사 + \" 눈부시게\")"
   ]
  },
  {
   "cell_type": "code",
   "execution_count": 5,
   "metadata": {},
   "outputs": [
    {
     "name": "stdout",
     "output_type": "stream",
     "text": [
      "5 <class 'int'>\n",
      "5.0 <class 'float'>\n"
     ]
    }
   ],
   "source": [
    "# int(), float(), str(), bool()\n",
    "\n",
    "정수 = input()\n",
    "정수 = int(정수)\n",
    "print(정수, type(정수))\n",
    "\n",
    "실수 = input()\n",
    "실수 = float(실수)\n",
    "print(실수, type(실수))"
   ]
  },
  {
   "cell_type": "code",
   "execution_count": 6,
   "metadata": {},
   "outputs": [
    {
     "name": "stdout",
     "output_type": "stream",
     "text": [
      "넌센스 퀴즈 : 스페인에서 에스파를 만나면?\n",
      "정답 :  에스파냐\n"
     ]
    }
   ],
   "source": [
    "넌센스, 정답 = input().split(\",\")\n",
    "print(f'넌센스 퀴즈 : {넌센스}')\n",
    "print(f'정답 : {정답}')"
   ]
  },
  {
   "cell_type": "code",
   "execution_count": 7,
   "metadata": {},
   "outputs": [
    {
     "name": "stdout",
     "output_type": "stream",
     "text": [
      "<class 'int'> 23 232 2323\n"
     ]
    }
   ],
   "source": [
    "#시퀀스 자료형에 다 지원되는 메소드\n",
    "번호1, 번호2, 번호3, 번호4 = input().split(\",\")\n",
    "\n",
    "번호1 = int(번호1)\n",
    "번호2 = int(번호2)\n",
    "번호3 = int(번호3)\n",
    "번호4 = int(번호4)\n",
    "\n",
    "print(type(번호1), 번호2, 번호3, 번호4)"
   ]
  },
  {
   "cell_type": "code",
   "execution_count": 14,
   "metadata": {},
   "outputs": [
    {
     "name": "stdout",
     "output_type": "stream",
     "text": [
      "주문이 완료되었습니다. 붕어빵(팥) 1개, 붕어빵(슈크림) 2개, 붕어빵(잡채) 3개 총 6개 결제 금액은 16000원 입니다.\n"
     ]
    }
   ],
   "source": [
    "#레거시 :누군가 남겨두고간 코드\n",
    "#리팩토링 : 결과의 변경 없이 코드의 구조를 재조정하는 것입니다.\n",
    "#input()\n",
    "\n",
    "fish__p , fish__s , fish__j = \"붕어빵(팥)\", \"붕어빵(슈크림)\", \"붕어빵(잡채)\"\n",
    "fish__p__sell , fish__s__sell , fish__j_sell = 2000, 2500, 3000\n",
    "order__p, order_s, order_j = map(int, (input(\"팥붕, 슈붕, 잡붕 순서대로 원하는 개수를 ,로 구분지어 넣어주세요\").split(',')))\n",
    "order_p__pay, order_s__pay, order_j__pay = fish__p__sell * order__p,fish__s__sell * order_s, fish__j_sell *order_j\n",
    "total = order_s + order_j + order__p\n",
    "total_pay = order_s__pay + order_j__pay + order_p__pay\n",
    "\n",
    "print(f'주문이 완료되었습니다. {fish__p} {order__p}개, {fish__s} {order_s}개, {fish__j} {order_j}개 총 {total}개 결제 금액은 {total_pay}원 입니다.')"
   ]
  },
  {
   "cell_type": "code",
   "execution_count": null,
   "metadata": {},
   "outputs": [],
   "source": []
  }
 ],
 "metadata": {
  "kernelspec": {
   "display_name": ".venv",
   "language": "python",
   "name": "python3"
  },
  "language_info": {
   "codemirror_mode": {
    "name": "ipython",
    "version": 3
   },
   "file_extension": ".py",
   "mimetype": "text/x-python",
   "name": "python",
   "nbconvert_exporter": "python",
   "pygments_lexer": "ipython3",
   "version": "3.10.14"
  }
 },
 "nbformat": 4,
 "nbformat_minor": 2
}
