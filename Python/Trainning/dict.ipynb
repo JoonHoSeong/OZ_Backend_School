{
 "cells": [
  {
   "cell_type": "code",
   "execution_count": 1,
   "metadata": {},
   "outputs": [
    {
     "name": "stdout",
     "output_type": "stream",
     "text": [
      "짱짱맨님은 힘이 30입니다.\n"
     ]
    }
   ],
   "source": [
    "# list [] , tuple (), dict{}\n",
    "\n",
    "짱짱맨 = {\"힘\":30, \"지능\":20, \"체력\":40, \"민첩\":90}\n",
    "짱짱맨\n",
    "\n",
    "# {키 : 값}\n",
    "# {key1:value1, key2:value2}\n",
    "\n",
    "# 시퀀스 데이터는 인덱싱을 이용해 데이터를 찾았습니다.\n",
    "\n",
    "# 짱짱맨[1]\n",
    "짱짱맨[\"힘\"]\n",
    "print(f'짱짱맨님은 힘이 {짱짱맨[\"힘\"]}입니다.')"
   ]
  },
  {
   "cell_type": "code",
   "execution_count": 2,
   "metadata": {},
   "outputs": [
    {
     "data": {
      "text/plain": [
       "{'힘': 30, '지능': 20, '체력': 40, '민첩': 90}"
      ]
     },
     "execution_count": 2,
     "metadata": {},
     "output_type": "execute_result"
    }
   ],
   "source": [
    "# 딕셔너리를 만드는 다양한 방법\n",
    "\n",
    "#빈 딕셔너리 만들기\n",
    "딕셔너리 = {}\n",
    "딕셔너리\n",
    "\n",
    "딕셔너리2 = dict()\n",
    "딕셔너리2\n",
    "\n",
    "#값을 넣어 만드는 방법\n",
    "#dict()로 생서시 값 넣는 기호 \"\", : 주의해주세요\n",
    "딕셔너리3 = dict(힘=30, 지능=20, 체력=40, 민첩=90)\n",
    "딕셔너리3\n",
    "\n",
    "#zip() : 병렬처리를 도와줍니다.\n",
    "딕셔너리4 = dict(zip([\"힘\", \"지능\", \"체력\", \"민첩\"], [30,20,40,90]))\n",
    "딕셔너리4\n"
   ]
  },
  {
   "cell_type": "code",
   "execution_count": 3,
   "metadata": {},
   "outputs": [
    {
     "data": {
      "text/plain": [
       "True"
      ]
     },
     "execution_count": 3,
     "metadata": {},
     "output_type": "execute_result"
    }
   ],
   "source": [
    "# 값의 중복은 허락되는데, 키의 중복은 허라하지 않습니다.\n",
    "\n",
    "짱짱맨 = {\"힘\":30, \"지능\":20, \"체력\":40, \"민첩\":90, \"힘\":40, \"지구력\":90}\n",
    "짱짱맨\n",
    "\n",
    "\"체력\" in 짱짱맨"
   ]
  },
  {
   "cell_type": "code",
   "execution_count": 4,
   "metadata": {},
   "outputs": [
    {
     "name": "stdout",
     "output_type": "stream",
     "text": [
      "dict_keys(['힘', '지능', '체력', '민첩', '지구력'])\n",
      "dict_values([40, 20, 40, 90, 90])\n",
      "dict_items([('힘', 40), ('지능', 20), ('체력', 40), ('민첩', 90), ('지구력', 90)])\n",
      "<class 'dict_items'>\n"
     ]
    },
    {
     "data": {
      "text/plain": [
       "40"
      ]
     },
     "execution_count": 4,
     "metadata": {},
     "output_type": "execute_result"
    }
   ],
   "source": [
    "#딕셔너리에 다양한 메소드\n",
    "\n",
    "print(짱짱맨.keys())\n",
    "print(짱짱맨.values())\n",
    "\n",
    "print(짱짱맨.items())\n",
    "print(type(짱짱맨.items()))\n",
    "\n",
    "리스화된_짱짱맨 = list(짱짱맨.items())\n",
    "리스화된_짱짱맨[0][1]\n"
   ]
  },
  {
   "cell_type": "code",
   "execution_count": 5,
   "metadata": {},
   "outputs": [
    {
     "data": {
      "text/plain": [
       "{'힘': 40, '지능': 20, '체력': 40, '민첩': 90, '지구력': 90, '손재주': 44, '매력': 100}"
      ]
     },
     "execution_count": 5,
     "metadata": {},
     "output_type": "execute_result"
    }
   ],
   "source": [
    "# 딕셔너리 값 추가, 삭제, 변경\n",
    "\n",
    "짱짱맨\n",
    "\n",
    "#del 짱짱맨[\"지구력\"]\n",
    "#짱짱맨\n",
    "\n",
    "#딕셔너리 값 변경\n",
    "#짱짱맨[\"지능\"] = 100\n",
    "#짱짱맨\n",
    "\n",
    "# 딕셔너리 값 추가\n",
    "짱짱맨.update({\"손재주\":44, \"매력\":100})\n",
    "짱짱맨"
   ]
  },
  {
   "cell_type": "code",
   "execution_count": 6,
   "metadata": {},
   "outputs": [
    {
     "data": {
      "text/plain": [
       "'발렌시아'"
      ]
     },
     "execution_count": 6,
     "metadata": {},
     "output_type": "execute_result"
    }
   ],
   "source": [
    "코디 = {\n",
    "    \"모자\" : {\n",
    "        \"캡\" : \"발렌시아\",\n",
    "        \"비니\" : \"셀린느\"\n",
    "    },\n",
    "    \"상의\" : {\n",
    "        \"후드티\":\"칼하트\",\n",
    "        \"맨투맨\":\"슈프림\"\n",
    "    }\n",
    "}\n",
    "\n",
    "코디\n",
    "코디[\"모자\"]\n",
    "코디[\"모자\"][\"캡\"]"
   ]
  },
  {
   "cell_type": "code",
   "execution_count": 7,
   "metadata": {},
   "outputs": [
    {
     "name": "stdout",
     "output_type": "stream",
     "text": [
      "주문이 완료되었습니다. 팥 1개, 슈크림 2개, 잡채 3개 총 6개 결제 금액은 16000원 입니다.\n"
     ]
    }
   ],
   "source": [
    "주문_개수 = map(int, input(f'붕어빵 맛 순서대로 개수를 입력해주세요 안살꺼면 0입력(팥, 슈크림, 잡채)').split(','))\n",
    "\n",
    "품목별_가격 = {\"팥\": 2000, \"슈크림\":2500, \"잡채\":3000}\n",
    "# 딕셔너리는 순서가 없어 인덱싱으로 접근 불가\n",
    "\n",
    "주문_개수 = list(주문_개수)\n",
    "총_주문_개수 = sum(주문_개수)\n",
    "total = 0\n",
    "\n",
    "total += 품목별_가격[\"팥\"] * 주문_개수[0]\n",
    "total += 품목별_가격[\"슈크림\"] * 주문_개수[1]\n",
    "total += 품목별_가격[\"잡채\"] * 주문_개수[2]\n",
    "\n",
    "print(f'주문이 완료되었습니다. 팥 {주문_개수[0]}개, 슈크림 {주문_개수[1]}개, 잡채 {주문_개수[2]}개 총 {총_주문_개수}개 결제 금액은 {total}원 입니다.')"
   ]
  },
  {
   "cell_type": "code",
   "execution_count": null,
   "metadata": {},
   "outputs": [],
   "source": []
  }
 ],
 "metadata": {
  "kernelspec": {
   "display_name": ".venv",
   "language": "python",
   "name": "python3"
  },
  "language_info": {
   "codemirror_mode": {
    "name": "ipython",
    "version": 3
   },
   "file_extension": ".py",
   "mimetype": "text/x-python",
   "name": "python",
   "nbconvert_exporter": "python",
   "pygments_lexer": "ipython3",
   "version": "3.10.14"
  }
 },
 "nbformat": 4,
 "nbformat_minor": 2
}
