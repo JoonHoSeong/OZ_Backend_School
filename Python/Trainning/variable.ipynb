{
 "cells": [
  {
   "cell_type": "code",
   "execution_count": 1,
   "metadata": {},
   "outputs": [
    {
     "name": "stdout",
     "output_type": "stream",
     "text": [
      "1\n"
     ]
    }
   ],
   "source": [
    "num = 1\n",
    "print(num)"
   ]
  },
  {
   "cell_type": "code",
   "execution_count": 4,
   "metadata": {},
   "outputs": [
    {
     "name": "stdout",
     "output_type": "stream",
     "text": [
      "1\n",
      "2\n",
      "1 2\n"
     ]
    }
   ],
   "source": [
    "num1, num2 = 1,2\n",
    "print(num1)\n",
    "print(num2)\n",
    "print(num1, num2)"
   ]
  },
  {
   "cell_type": "markdown",
   "metadata": {},
   "source": [
    "1부터 5까지 더하는 문제, 단 다음 더하기를 위해서 매번 새로운줄에서 시작하여야 함"
   ]
  },
  {
   "cell_type": "code",
   "execution_count": 5,
   "metadata": {},
   "outputs": [
    {
     "data": {
      "text/plain": [
       "15"
      ]
     },
     "execution_count": 5,
     "metadata": {},
     "output_type": "execute_result"
    }
   ],
   "source": [
    "#변수 미사용\n",
    "1+2\n",
    "1+2+3\n",
    "1+2+3+4\n",
    "1+2+3+4+5"
   ]
  },
  {
   "cell_type": "code",
   "execution_count": 6,
   "metadata": {},
   "outputs": [
    {
     "name": "stdout",
     "output_type": "stream",
     "text": [
      "15\n"
     ]
    }
   ],
   "source": [
    "#변수사용\n",
    "num = 1\n",
    "num += 2\n",
    "num += 3\n",
    "num += 4\n",
    "num += 5\n",
    "print(num)"
   ]
  },
  {
   "cell_type": "code",
   "execution_count": 7,
   "metadata": {},
   "outputs": [
    {
     "ename": "NameError",
     "evalue": "name 'sum3' is not defined",
     "output_type": "error",
     "traceback": [
      "\u001b[0;31m---------------------------------------------------------------------------\u001b[0m",
      "\u001b[0;31mNameError\u001b[0m                                 Traceback (most recent call last)",
      "Cell \u001b[0;32mIn[7], line 1\u001b[0m\n\u001b[0;32m----> 1\u001b[0m sum3 \u001b[38;5;241m+\u001b[39m\u001b[38;5;241m=\u001b[39m \u001b[38;5;241m1\u001b[39m\n",
      "\u001b[0;31mNameError\u001b[0m: name 'sum3' is not defined"
     ]
    }
   ],
   "source": [
    "sum3 += 1\n"
   ]
  },
  {
   "cell_type": "code",
   "execution_count": 8,
   "metadata": {},
   "outputs": [
    {
     "ename": "NameError",
     "evalue": "name 'sum3' is not defined",
     "output_type": "error",
     "traceback": [
      "\u001b[0;31m---------------------------------------------------------------------------\u001b[0m",
      "\u001b[0;31mNameError\u001b[0m                                 Traceback (most recent call last)",
      "Cell \u001b[0;32mIn[8], line 1\u001b[0m\n\u001b[0;32m----> 1\u001b[0m \u001b[43msum3\u001b[49m\n",
      "\u001b[0;31mNameError\u001b[0m: name 'sum3' is not defined"
     ]
    }
   ],
   "source": [
    "sum3"
   ]
  },
  {
   "cell_type": "code",
   "execution_count": 10,
   "metadata": {},
   "outputs": [],
   "source": [
    "noting = None"
   ]
  },
  {
   "cell_type": "code",
   "execution_count": 11,
   "metadata": {},
   "outputs": [
    {
     "name": "stdout",
     "output_type": "stream",
     "text": [
      "None\n"
     ]
    }
   ],
   "source": [
    "print(noting)"
   ]
  },
  {
   "cell_type": "code",
   "execution_count": 12,
   "metadata": {},
   "outputs": [
    {
     "name": "stdout",
     "output_type": "stream",
     "text": [
      "크다 작다\n"
     ]
    }
   ],
   "source": [
    "BIG = '크다'\n",
    "big = '작다'\n",
    "\n",
    "print(BIG, big)"
   ]
  },
  {
   "cell_type": "code",
   "execution_count": 13,
   "metadata": {},
   "outputs": [
    {
     "name": "stdout",
     "output_type": "stream",
     "text": [
      "준호만 고양이가 없어ㅜㅜ\n"
     ]
    }
   ],
   "source": [
    "me = '준호'\n",
    "print(f'{me}만 고양이가 없어ㅜㅜ')"
   ]
  },
  {
   "cell_type": "markdown",
   "metadata": {},
   "source": [
    "### 미션\n",
    "\n",
    "붕어빵 철이 돌아왔죠\n",
    "붕어빵(팥) : 2000원, 붕어빵(슈크림) : 2500원, 붕어빵(잡채) : 3000원\n",
    "무인 주문기계를 만들어주세요\n",
    "붕어빵(잡채) 3개, 붕어빵(슈크림) 2개를 주문하면\n",
    "\"주문이 완료되었습니다. 붕어빵(슈크림) 2개, 붕어빵(잡채) 3개 총 5개 결제 금액은 14000원 입니다.\"\n",
    "이 출력되도록 코드를 작성해주세요\n",
    "변수를 만들때 스네이크 케이스에 언더바는 2개 / print()문의 포메팅 f-string"
   ]
  },
  {
   "cell_type": "code",
   "execution_count": 19,
   "metadata": {},
   "outputs": [
    {
     "name": "stdout",
     "output_type": "stream",
     "text": [
      "주문이 완료되었습니다. 붕어빵(슈크림) 2개, 붕어빵(잡채) 3개 총 5개 결제 금액은  14000원 입니다.\n"
     ]
    }
   ],
   "source": [
    "goldfish__bread = 2000\n",
    "goldish__bread__cream = 2500\n",
    "golfish__bread__japchae = 3000\n",
    "\n",
    "goldfish__bread_order = 0\n",
    "goldish__bread__cream_order = 2\n",
    "golfish__bread__japchae_order = 3\n",
    "print(f'주문이 완료되었습니다. 붕어빵(슈크림) {goldish__bread__cream_order}개, 붕어빵(잡채) {golfish__bread__japchae_order}개\\\n",
    " 총 {goldish__bread__cream_order+golfish__bread__japchae_order+goldfish__bread_order}개 결제 금액은\\\n",
    "  {goldish__bread__cream*goldish__bread__cream_order + golfish__bread__japchae*golfish__bread__japchae_order}원 입니다.')\n",
    "\n"
   ]
  },
  {
   "cell_type": "code",
   "execution_count": null,
   "metadata": {},
   "outputs": [],
   "source": []
  }
 ],
 "metadata": {
  "kernelspec": {
   "display_name": ".venv",
   "language": "python",
   "name": "python3"
  },
  "language_info": {
   "codemirror_mode": {
    "name": "ipython",
    "version": 3
   },
   "file_extension": ".py",
   "mimetype": "text/x-python",
   "name": "python",
   "nbconvert_exporter": "python",
   "pygments_lexer": "ipython3",
   "version": "3.10.14"
  }
 },
 "nbformat": 4,
 "nbformat_minor": 2
}
