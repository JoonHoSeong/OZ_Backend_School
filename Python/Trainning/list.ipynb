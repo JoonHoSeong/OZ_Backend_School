{
 "cells": [
  {
   "cell_type": "code",
   "execution_count": 1,
   "metadata": {},
   "outputs": [
    {
     "name": "stdout",
     "output_type": "stream",
     "text": [
      "[]\n",
      "[23, '이게 리스트다', 3, 23, True, False]\n"
     ]
    }
   ],
   "source": [
    "# 첫 리스트 두근두근\n",
    "\n",
    "리스트 = []\n",
    "print(리스트)\n",
    "\n",
    "리스트 = [23, \"이게 리스트다\", 3,23, True, False]\n",
    "print(리스트)"
   ]
  },
  {
   "cell_type": "code",
   "execution_count": 2,
   "metadata": {},
   "outputs": [
    {
     "data": {
      "text/plain": [
       "[0, 1, 2, 3, 4, 5, 6, 7, 8, 9, 10, 11, 12, 13, 14, 15, 16, 17, 18, 19]"
      ]
     },
     "execution_count": 2,
     "metadata": {},
     "output_type": "execute_result"
    }
   ],
   "source": [
    "# 리스트 다시 한번 선언해 보자\n",
    "리스트 = [\"이\", \"렇\", \"게\", \"만\", \"들\", \"어\", \"요\"]\n",
    "리스트\n",
    "리스트2 = list()\n",
    "리스트2\n",
    "\n",
    "#range? 연속된 숫자를 생산하는 기능\n",
    "range(10)\n",
    "\n",
    "#list(range(시작, 끝))\n",
    "리스트_매직_들어간다 = list(range(0, 20))\n",
    "리스트_매직_들어간다"
   ]
  },
  {
   "cell_type": "code",
   "execution_count": 3,
   "metadata": {},
   "outputs": [
    {
     "name": "stdout",
     "output_type": "stream",
     "text": [
      "[0, 2, 4, 6, 8, 10, 12, 14, 16, 18]\n",
      "[20, 19, 18, 17, 16, 15, 14, 13, 12, 11, 10, 9, 8, 7, 6, 5, 4, 3, 2, 1]\n",
      "[]\n"
     ]
    }
   ],
   "source": [
    "#list(range(시작, 끝, 증가))\n",
    "리스트_매직2 = list(range(0,20,2))\n",
    "print(리스트_매직2)\n",
    "\n",
    "리스트_매직3 = list(range(20,0,-1))\n",
    "print(리스트_매직3)\n",
    "\n",
    "리스트_매직4 = list(range(20,0))\n",
    "print(리스트_매직4)"
   ]
  },
  {
   "cell_type": "code",
   "execution_count": 4,
   "metadata": {},
   "outputs": [
    {
     "name": "stdout",
     "output_type": "stream",
     "text": [
      "[5, 15]\n",
      "44\n",
      "[44, 41, 33, 15, 5, 3]\n",
      "True\n",
      "[3, 5, 15, 33, 41, 44, 2, 12, 15, 24, 33, 39]\n",
      "[2, 4, 6, 8, 10]\n",
      "[2, 4, 6, 8, 10, 2, 4, 6, 8, 10]\n",
      "10\n",
      "8\n",
      "10\n"
     ]
    }
   ],
   "source": [
    "# 슬라이싱\n",
    "\n",
    "로또 = [3, 5, 15, 33, 41, 44]\n",
    "#로또 변수에 있는 리스트의 인덱스 1번부터 2번까지의 값을 출력해\n",
    "print(로또[1:3])\n",
    "#로또 변수의 마지막 위치 출력해줘\n",
    "print(로또[-1])\n",
    "#반대로 출력해보세요\n",
    "print(로또[::-1])\n",
    "#로또 리스트안에 33이 있는지 확인해보세요\n",
    "print( 33 in 로또)\n",
    "#로또 리스트를 로또2 리스트와 합쳐보세요\n",
    "로또2 = [2,12,15,24,33,39]\n",
    "print(로또 + 로또2)\n",
    "#range를 이용해서 1부터 10사이에 짝수만 들어있는 짝수(변수명) 리스트를 만들어주세요\n",
    "짝수 = list(range(2,12,2))\n",
    "print(짝수)\n",
    "#짝수 리스트에 들어있는 값을 2배늘리고 다시 짝수 변수에 담아줘\n",
    "짝수 = 짝수 * 2\n",
    "print(짝수)\n",
    "#짝수 리스트에 들어있는 요소의 개수를 구해주세요\n",
    "print(len(짝수))\n",
    "#짝수 리스트에 3번째 인덱스를 출력해주세요\n",
    "print(짝수[3])\n",
    "#len()함수를 이용해 인덱스 마지막 값을 출력해주세요\n",
    "print(짝수[len(짝수)-1])"
   ]
  },
  {
   "cell_type": "code",
   "execution_count": 11,
   "metadata": {},
   "outputs": [
    {
     "name": "stdout",
     "output_type": "stream",
     "text": [
      "['마라', '분모자', '소세지', '숙주', '양고기', '옥수수면', '고수']\n",
      "['탕후루', '마라', '분모자', '소세지', '숙주', '양고기', '옥수수면', '고수']\n",
      "['탕후루', '마라', '분모자', '소세지', '숙주', '양고기', '옥수수면']\n",
      "['마라', '분모자', '소세지', '숙주', '양고기', '옥수수면']\n"
     ]
    }
   ],
   "source": [
    "#list의 값을 넣고, 바꾸고, 지우고\n",
    "mzfood = ['마라', '분모자', '소세지', '숙주', '양고기', '옥수수면', '고수']\n",
    "print(mzfood)\n",
    "mzfood.insert(0, '탕후루')\n",
    "print(mzfood)\n",
    "del mzfood[-1]\n",
    "print(mzfood)\n",
    "del mzfood[0]\n",
    "print(mzfood)\n",
    "mzfood[-2] = '양고기'"
   ]
  },
  {
   "cell_type": "code",
   "execution_count": 5,
   "metadata": {},
   "outputs": [
    {
     "name": "stdout",
     "output_type": "stream",
     "text": [
      "['__add__', '__class__', '__class_getitem__', '__contains__', '__delattr__', '__delitem__', '__dir__', '__doc__', '__eq__', '__format__', '__ge__', '__getattribute__', '__getitem__', '__gt__', '__hash__', '__iadd__', '__imul__', '__init__', '__init_subclass__', '__iter__', '__le__', '__len__', '__lt__', '__mul__', '__ne__', '__new__', '__reduce__', '__reduce_ex__', '__repr__', '__reversed__', '__rmul__', '__setattr__', '__setitem__', '__sizeof__', '__str__', '__subclasshook__', 'append', 'clear', 'copy', 'count', 'extend', 'index', 'insert', 'pop', 'remove', 'reverse', 'sort']\n"
     ]
    }
   ],
   "source": [
    "print(dir(list))"
   ]
  },
  {
   "cell_type": "code",
   "execution_count": 13,
   "metadata": {},
   "outputs": [
    {
     "name": "stdout",
     "output_type": "stream",
     "text": [
      "['마라', '분모자', '소세지', '숙주', '양고기', '옥수수면']\n",
      "None\n",
      "['마라', '분모자', '소세지', '숙주', '양고기', '옥수수면']\n",
      "None\n",
      "['마라', '분모자', '소세지', '숙주', '양고기', '옥수수면']\n"
     ]
    }
   ],
   "source": [
    "# reverse 왜 print문을 쓰면 none 나올까?\n",
    "mzfood = ['마라', '분모자', '소세지', '숙주', '양고기', '옥수수면']\n",
    "print(mzfood)\n",
    "print(mzfood.reverse())\n",
    "mzfood.reverse()\n",
    "print(mzfood)\n",
    "print(mzfood.sort())\n",
    "mzfood.sort()\n",
    "print(mzfood)\n",
    "\n"
   ]
  },
  {
   "cell_type": "code",
   "execution_count": 14,
   "metadata": {},
   "outputs": [
    {
     "data": {
      "text/plain": [
       "[[2, 0], [3, 1], [4, 1]]"
      ]
     },
     "execution_count": 14,
     "metadata": {},
     "output_type": "execute_result"
    }
   ],
   "source": [
    "# 리스트 까도까도 또 나오네?\n",
    "# 2차원 리스트에 대해서도 공부는 필수 !!!!!\n",
    "\n",
    "양파같은 = [[2,0], [3,1]]\n",
    "양파같은\n",
    "\n",
    "양파같은[0]\n",
    "양파같은[1]\n",
    "#3을 출력해줘\n",
    "양파같은[1][0]\n",
    "\n",
    "양파같은.append([4,1])\n",
    "양파같은"
   ]
  },
  {
   "cell_type": "code",
   "execution_count": null,
   "metadata": {},
   "outputs": [],
   "source": []
  }
 ],
 "metadata": {
  "kernelspec": {
   "display_name": ".venv",
   "language": "python",
   "name": "python3"
  },
  "language_info": {
   "codemirror_mode": {
    "name": "ipython",
    "version": 3
   },
   "file_extension": ".py",
   "mimetype": "text/x-python",
   "name": "python",
   "nbconvert_exporter": "python",
   "pygments_lexer": "ipython3",
   "version": "3.10.14"
  }
 },
 "nbformat": 4,
 "nbformat_minor": 2
}
