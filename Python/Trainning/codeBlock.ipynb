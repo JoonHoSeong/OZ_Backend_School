{
 "cells": [
  {
   "cell_type": "code",
   "execution_count": 1,
   "metadata": {},
   "outputs": [
    {
     "name": "stdout",
     "output_type": "stream",
     "text": [
      "진짜 안보이는거야?\n"
     ]
    }
   ],
   "source": [
    "# 주석은 이렇게 하는거다\n",
    "print('진짜 안보이는거야?')\n",
    "# print('신기하네?')"
   ]
  },
  {
   "cell_type": "code",
   "execution_count": 2,
   "metadata": {},
   "outputs": [
    {
     "data": {
      "text/plain": [
       "\"\\nprint('진짜 안보이는 거야?)\\nprint('신기하네')\\n\""
      ]
     },
     "execution_count": 2,
     "metadata": {},
     "output_type": "execute_result"
    }
   ],
   "source": [
    "\"\"\"\n",
    "print('진짜 안보이는 거야?)\n",
    "print('신기하네')\n",
    "\"\"\"\n",
    "#해당 주석 방법은 .ipynb가 아닌 .py 파일로 작성하면 적용 가능"
   ]
  },
  {
   "cell_type": "code",
   "execution_count": 3,
   "metadata": {},
   "outputs": [
    {
     "name": "stdout",
     "output_type": "stream",
     "text": [
      "토끼\n",
      "보러 갈래요?\n",
      "사자\n",
      "보러 갈래요?\n",
      "푸바오\n",
      "보러 갈래요?\n",
      "호랑이\n",
      "보러 갈래요?\n"
     ]
    }
   ],
   "source": [
    "for 동물 in (\"토끼\", \"사자\", \"푸바오\", \"호랑이\"):\n",
    "    print(동물)\n",
    "    print(\"보러 갈래요?\")"
   ]
  },
  {
   "cell_type": "code",
   "execution_count": 6,
   "metadata": {},
   "outputs": [
    {
     "name": "stdout",
     "output_type": "stream",
     "text": [
      "토끼\n",
      "사자\n",
      "푸바오\n",
      "호랑이\n",
      "보러 갈래요?\n"
     ]
    }
   ],
   "source": [
    "for 동물 in (\"토끼\", \"사자\", \"푸바오\", \"호랑이\"):\n",
    "    print(동물)\n",
    "print(\"보러 갈래요?\")"
   ]
  },
  {
   "cell_type": "code",
   "execution_count": null,
   "metadata": {},
   "outputs": [],
   "source": []
  }
 ],
 "metadata": {
  "kernelspec": {
   "display_name": ".venv",
   "language": "python",
   "name": ".venv"
  },
  "language_info": {
   "codemirror_mode": {
    "name": "ipython",
    "version": 3
   },
   "file_extension": ".py",
   "mimetype": "text/x-python",
   "name": "python",
   "nbconvert_exporter": "python",
   "pygments_lexer": "ipython3",
   "version": "3.10.14"
  }
 },
 "nbformat": 4,
 "nbformat_minor": 2
}
