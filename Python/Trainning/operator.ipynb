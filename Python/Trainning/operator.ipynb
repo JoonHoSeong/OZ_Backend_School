{
 "cells": [
  {
   "cell_type": "code",
   "execution_count": 1,
   "metadata": {},
   "outputs": [
    {
     "data": {
      "text/plain": [
       "False"
      ]
     },
     "execution_count": 1,
     "metadata": {},
     "output_type": "execute_result"
    }
   ],
   "source": [
    "#bool의 쇼타임 시작됩니다.\n",
    "# 주의할점 True x true False x false\n",
    "# 부등호\n",
    "3 > 1\n",
    "3 == 1\n",
    "3 == 3\n",
    "\n",
    "20 != 5\n",
    "20 != 20"
   ]
  },
  {
   "cell_type": "code",
   "execution_count": 2,
   "metadata": {},
   "outputs": [
    {
     "data": {
      "text/plain": [
       "True"
      ]
     },
     "execution_count": 2,
     "metadata": {},
     "output_type": "execute_result"
    }
   ],
   "source": [
    "#문자열 비교\n",
    "\"python\" == \"Python\"\n",
    "\"Python\" == \"Python\"\n",
    "\"python\" != \"Python\""
   ]
  },
  {
   "cell_type": "code",
   "execution_count": 3,
   "metadata": {},
   "outputs": [
    {
     "data": {
      "text/plain": [
       "False"
      ]
     },
     "execution_count": 3,
     "metadata": {},
     "output_type": "execute_result"
    }
   ],
   "source": [
    " # 부등호\n",
    " 5 >= 5\n",
    " 5 < 4"
   ]
  },
  {
   "cell_type": "code",
   "execution_count": 4,
   "metadata": {},
   "outputs": [
    {
     "name": "stdout",
     "output_type": "stream",
     "text": [
      "4507078864\n",
      "4457251120\n"
     ]
    },
    {
     "name": "stderr",
     "output_type": "stream",
     "text": [
      "<>:4: SyntaxWarning: \"is\" with a literal. Did you mean \"==\"?\n",
      "<>:7: SyntaxWarning: \"is\" with a literal. Did you mean \"==\"?\n",
      "<>:4: SyntaxWarning: \"is\" with a literal. Did you mean \"==\"?\n",
      "<>:7: SyntaxWarning: \"is\" with a literal. Did you mean \"==\"?\n",
      "/var/folders/_0/sglhm_1s48z2d21krx9htrb40000gn/T/ipykernel_20379/4000405877.py:4: SyntaxWarning: \"is\" with a literal. Did you mean \"==\"?\n",
      "  3 is 3\n",
      "/var/folders/_0/sglhm_1s48z2d21krx9htrb40000gn/T/ipykernel_20379/4000405877.py:7: SyntaxWarning: \"is\" with a literal. Did you mean \"==\"?\n",
      "  3.0 is 3\n"
     ]
    }
   ],
   "source": [
    "# 중요\n",
    "# ==,  is\n",
    "\n",
    "3 is 3\n",
    "3 == 3\n",
    "\n",
    "3.0 is 3\n",
    "3.0 == 3\n",
    "\n",
    "print(id(3.0))\n",
    "print(id(3))"
   ]
  },
  {
   "cell_type": "code",
   "execution_count": 6,
   "metadata": {},
   "outputs": [
    {
     "data": {
      "text/plain": [
       "False"
      ]
     },
     "execution_count": 6,
     "metadata": {},
     "output_type": "execute_result"
    }
   ],
   "source": [
    "#본격적인 논리연사자\n",
    "# True : 1 / False : 0\n",
    "True and True # 1 * 1 = 1\n",
    "True and False # 1 * 0 = 0\n",
    "False and True # 0 * 1 = 0\n",
    "False and False # 0 * 0 = 0\n"
   ]
  },
  {
   "cell_type": "code",
   "execution_count": 7,
   "metadata": {},
   "outputs": [
    {
     "data": {
      "text/plain": [
       "False"
      ]
     },
     "execution_count": 7,
     "metadata": {},
     "output_type": "execute_result"
    }
   ],
   "source": [
    "#본격적인 논리연산자\n",
    "# True : 1 / False : 0\n",
    "True or True # 1 + 1 = 1\n",
    "True or False # 1 + 0 = 1\n",
    "False or True # 0 + 1 = 1\n",
    "False or False # 0 + 0 = 0"
   ]
  },
  {
   "cell_type": "code",
   "execution_count": 8,
   "metadata": {},
   "outputs": [
    {
     "data": {
      "text/plain": [
       "True"
      ]
     },
     "execution_count": 8,
     "metadata": {},
     "output_type": "execute_result"
    }
   ],
   "source": [
    "#not\n",
    "\n",
    "not True\n",
    "\n",
    "not False"
   ]
  },
  {
   "cell_type": "code",
   "execution_count": 9,
   "metadata": {},
   "outputs": [
    {
     "name": "stderr",
     "output_type": "stream",
     "text": [
      "<>:6: SyntaxWarning: \"is not\" with a literal. Did you mean \"!=\"?\n",
      "<>:6: SyntaxWarning: \"is not\" with a literal. Did you mean \"!=\"?\n",
      "/var/folders/_0/sglhm_1s48z2d21krx9htrb40000gn/T/ipykernel_20379/2312499573.py:6: SyntaxWarning: \"is not\" with a literal. Did you mean \"!=\"?\n",
      "  not 7 is 7.0\n"
     ]
    },
    {
     "data": {
      "text/plain": [
       "True"
      ]
     },
     "execution_count": 9,
     "metadata": {},
     "output_type": "execute_result"
    }
   ],
   "source": [
    "# 점점 복잡해지는 조건들!!!\n",
    "\n",
    "10 == 12 or 6 != 2\n",
    "2 > 5 and 7 == 7\n",
    "not 14 <= 15\n",
    "not 7 is 7.0"
   ]
  },
  {
   "cell_type": "code",
   "execution_count": 10,
   "metadata": {},
   "outputs": [
    {
     "data": {
      "text/plain": [
       "True"
      ]
     },
     "execution_count": 10,
     "metadata": {},
     "output_type": "execute_result"
    }
   ],
   "source": [
    "#문자열?? 너 뭐야  True 트루야?\n",
    "\n",
    "bool(\"힘들어요 여러분\")"
   ]
  },
  {
   "cell_type": "code",
   "execution_count": 11,
   "metadata": {},
   "outputs": [
    {
     "name": "stdout",
     "output_type": "stream",
     "text": [
      "False\n",
      "False\n",
      "False\n",
      "힘들어요\n"
     ]
    }
   ],
   "source": [
    "# 굉장히 중요한 내용\n",
    "# 단락 평가\n",
    "print(False and True)\n",
    "print(False and \"힘들어요\")\n",
    "\n",
    "print(True and False)\n",
    "\n",
    "print(True and '힘들어요')\n"
   ]
  },
  {
   "cell_type": "code",
   "execution_count": null,
   "metadata": {},
   "outputs": [],
   "source": []
  }
 ],
 "metadata": {
  "kernelspec": {
   "display_name": ".venv",
   "language": "python",
   "name": "python3"
  },
  "language_info": {
   "codemirror_mode": {
    "name": "ipython",
    "version": 3
   },
   "file_extension": ".py",
   "mimetype": "text/x-python",
   "name": "python",
   "nbconvert_exporter": "python",
   "pygments_lexer": "ipython3",
   "version": "3.10.14"
  }
 },
 "nbformat": 4,
 "nbformat_minor": 2
}
