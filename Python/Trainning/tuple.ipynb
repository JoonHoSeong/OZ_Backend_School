{
 "cells": [
  {
   "cell_type": "code",
   "execution_count": 1,
   "metadata": {},
   "outputs": [
    {
     "name": "stdout",
     "output_type": "stream",
     "text": [
      "<class 'tuple'>\n",
      "(1, '이', 3.0)\n",
      "<class 'tuple'>\n",
      "(1, '이', 3)\n",
      "<class 'tuple'>\n",
      "(1,)\n",
      "<class 'int'>\n",
      "1\n"
     ]
    }
   ],
   "source": [
    "# 리스트 대괄호 [], 튜플은 소괄호 ()\n",
    "튜플 = (1, \"이\", 3.0)\n",
    "print(type(튜플))\n",
    "print(튜플)\n",
    "\n",
    "# 리스트 = [1, \"이\", 3.0]\n",
    "# print(type(리스트))\n",
    "# print(리스트)\n",
    "\n",
    "튜플2 = 1, \"이\", 3\n",
    "print(type(튜플2))\n",
    "print(튜플2)\n",
    "\n",
    "#하나의 값만 들어있는 튜플만 만들고 싶다면?\n",
    "튜플_솔로 = (1, )\n",
    "print(type(튜플_솔로))\n",
    "print(튜플_솔로)\n",
    "\n",
    "튜플_나는솔로 = (1)\n",
    "print(type(튜플_나는솔로))\n",
    "print(튜플_나는솔로)"
   ]
  },
  {
   "cell_type": "code",
   "execution_count": 2,
   "metadata": {},
   "outputs": [
    {
     "name": "stdout",
     "output_type": "stream",
     "text": [
      "(1, '이', 3.0)\n",
      "['__add__', '__class__', '__class_getitem__', '__contains__', '__delattr__', '__dir__', '__doc__', '__eq__', '__format__', '__ge__', '__getattribute__', '__getitem__', '__getnewargs__', '__gt__', '__hash__', '__init__', '__init_subclass__', '__iter__', '__le__', '__len__', '__lt__', '__mul__', '__ne__', '__new__', '__reduce__', '__reduce_ex__', '__repr__', '__rmul__', '__setattr__', '__sizeof__', '__str__', '__subclasshook__', 'count', 'index']\n",
      "<class 'list'>\n"
     ]
    }
   ],
   "source": [
    "# 값 추가, 삭제, 변경 불가..... 진실일까?\n",
    "print(튜플)\n",
    "print(dir(튜플))\n",
    "\n",
    "튜플_리스트화 = list(튜플)\n",
    "print(type(튜플_리스트화))\n"
   ]
  },
  {
   "cell_type": "code",
   "execution_count": 7,
   "metadata": {},
   "outputs": [
    {
     "data": {
      "text/plain": [
       "(1, '이', 3.0)"
      ]
     },
     "execution_count": 7,
     "metadata": {},
     "output_type": "execute_result"
    }
   ],
   "source": [
    "#정말로 값의 삽입, 삭제, 변경을 지원하지 않는지 확인\n",
    "\n",
    "# 튜플.append(\"두리안\")\n",
    "# del 튜플[2]\n",
    "# 튜플[1] = \"너만 믿는다\"\n",
    "튜플"
   ]
  },
  {
   "cell_type": "code",
   "execution_count": 8,
   "metadata": {},
   "outputs": [
    {
     "name": "stdout",
     "output_type": "stream",
     "text": [
      "['중', '꺾', '그', '마']\n",
      "('중', '꺾', '그', '마')\n",
      "['중', '뿌', '그', '마']\n",
      "중뿌그마\n"
     ]
    }
   ],
   "source": [
    "#번외\n",
    "\n",
    "수강생 = \"중꺾그마\"\n",
    "\n",
    "수강생_list = list(수강생)\n",
    "수강생_tuple = tuple(수강생)\n",
    "\n",
    "print(수강생_list)\n",
    "print(수강생_tuple)\n",
    "\n",
    "수강생_list[1] = \"뿌\"\n",
    "print(수강생_list)\n",
    "\n",
    "#join함수 공부 알고 있으면 코테에 좋아요\n",
    "취뽀_수강생 = \"\".join(수강생_list)\n",
    "print(취뽀_수강생)\n"
   ]
  },
  {
   "cell_type": "code",
   "execution_count": 9,
   "metadata": {},
   "outputs": [
    {
     "name": "stdout",
     "output_type": "stream",
     "text": [
      "(1, '이', 3.0)\n"
     ]
    },
    {
     "data": {
      "text/plain": [
       "('이', 3.0)"
      ]
     },
     "execution_count": 9,
     "metadata": {},
     "output_type": "execute_result"
    }
   ],
   "source": [
    "# 공통점 뭔가요?\n",
    "print(튜플)\n",
    "#길이를 구할 수 있아요\n",
    "len(튜플)\n",
    "#곱하기 연산으로 요소를 복사할 수 있어요\n",
    "튜플 * 3\n",
    "#튜플은 요소들끼리 더할 수 있다\n",
    "튜플 + 튜플\n",
    "#튜플은 인덱싱이 가능하다\n",
    "튜플[2]\n",
    "#튜플의 인덱스\n",
    "튜플.index(3.0)\n",
    "#튜플 요소의 개수\n",
    "튜플.count(1)\n",
    "#튜플도 슬라이싱이 가능하다\n",
    "튜플[1:3]"
   ]
  },
  {
   "cell_type": "code",
   "execution_count": null,
   "metadata": {},
   "outputs": [],
   "source": []
  }
 ],
 "metadata": {
  "kernelspec": {
   "display_name": ".venv",
   "language": "python",
   "name": "python3"
  },
  "language_info": {
   "codemirror_mode": {
    "name": "ipython",
    "version": 3
   },
   "file_extension": ".py",
   "mimetype": "text/x-python",
   "name": "python",
   "nbconvert_exporter": "python",
   "pygments_lexer": "ipython3",
   "version": "3.10.14"
  }
 },
 "nbformat": 4,
 "nbformat_minor": 2
}
