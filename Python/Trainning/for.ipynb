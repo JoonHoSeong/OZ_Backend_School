{
 "cells": [
  {
   "cell_type": "code",
   "execution_count": 2,
   "metadata": {},
   "outputs": [
    {
     "name": "stdout",
     "output_type": "stream",
     "text": [
      "반복이 되네 신기해!!\n",
      "반복이 되네 신기해!!\n",
      "반복이 되네 신기해!!\n",
      "반복이 되네 신기해!!\n",
      "반복이 되네 신기해!!\n"
     ]
    }
   ],
   "source": [
    "#3. for문 만들어보기\n",
    "\n",
    "for i in range(5):\n",
    "    print(\"반복이 되네 신기해!!\")"
   ]
  },
  {
   "cell_type": "code",
   "execution_count": 3,
   "metadata": {},
   "outputs": [
    {
     "name": "stdout",
     "output_type": "stream",
     "text": [
      "반복이 되네 신기해 0\n",
      "반복이 되네 신기해 1\n",
      "반복이 되네 신기해 2\n",
      "반복이 되네 신기해 3\n",
      "반복이 되네 신기해 4\n"
     ]
    }
   ],
   "source": [
    "# 4.for문의 흐름 확인해보면 좋겠죠?\n",
    "\n",
    "for i in range(5):\n",
    "    print(\"반복이 되네 신기해\", i)"
   ]
  },
  {
   "cell_type": "code",
   "execution_count": 4,
   "metadata": {},
   "outputs": [
    {
     "name": "stdout",
     "output_type": "stream",
     "text": [
      "9\n",
      "8\n",
      "7\n",
      "6\n",
      "5\n",
      "4\n",
      "3\n",
      "2\n",
      "1\n",
      "0\n"
     ]
    }
   ],
   "source": [
    "#5. for문에서 range() 함수 활용하기\n",
    "\n",
    "# for i in range(4,10):\n",
    "#     print(i)\n",
    "\n",
    "# for i in range(4,10,2):\n",
    "#     print(i)\n",
    "\n",
    "# for i in range(10,4,-1):\n",
    "#       print(i)\n",
    "\n",
    "for i in reversed(range(10)):\n",
    "        print(i)"
   ]
  },
  {
   "cell_type": "code",
   "execution_count": 5,
   "metadata": {},
   "outputs": [
    {
     "name": "stdout",
     "output_type": "stream",
     "text": [
      "트훈스닥"
     ]
    }
   ],
   "source": [
    "#6. for문에서 시퀀스 객체로 반복하기\n",
    "\n",
    "과일 = [\"두리안\", \"망고\", \"바나나\", \"멜론\"]\n",
    "\n",
    "# for i in 과일:\n",
    "#     print(i)\n",
    "\n",
    "# for i in \"닥스훈트\":\n",
    "#     print(i, end='')\n",
    "\n",
    "for i in reversed(\"닥스훈트\"):\n",
    "     print(i, end='')"
   ]
  },
  {
   "cell_type": "code",
   "execution_count": 6,
   "metadata": {},
   "outputs": [
    {
     "name": "stdout",
     "output_type": "stream",
     "text": [
      "총 합은 13입니다.\n"
     ]
    }
   ],
   "source": [
    "#7. 예제로 for문 익혀보기\n",
    "#문제 : 절대값 정수가 담긴 정수 변수와 그 정수의 부호를 차례로 담은 부호 변수가 있다\n",
    "# 두 변수를 이용해 실제 정수의 합을 구해주세요 (True : 양수, False : 음수)\n",
    "\n",
    "정수 = [10, 5, 8]\n",
    "부호 = [True, False, True]\n",
    "\n",
    "합 = 0\n",
    "\n",
    "for k, v in zip(부호, 정수):\n",
    "    if k:\n",
    "        합 += v\n",
    "    else:\n",
    "        합 -= v\n",
    "\n",
    "print(f'총 합은 {합}입니다.')"
   ]
  },
  {
   "cell_type": "code",
   "execution_count": null,
   "metadata": {},
   "outputs": [],
   "source": []
  }
 ],
 "metadata": {
  "kernelspec": {
   "display_name": ".venv",
   "language": "python",
   "name": "python3"
  },
  "language_info": {
   "codemirror_mode": {
    "name": "ipython",
    "version": 3
   },
   "file_extension": ".py",
   "mimetype": "text/x-python",
   "name": "python",
   "nbconvert_exporter": "python",
   "pygments_lexer": "ipython3",
   "version": "3.10.14"
  }
 },
 "nbformat": 4,
 "nbformat_minor": 2
}
